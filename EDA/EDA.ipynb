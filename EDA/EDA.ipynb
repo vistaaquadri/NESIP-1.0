{
 "cells": [
  {
   "cell_type": "code",
   "execution_count": 1,
   "metadata": {},
   "outputs": [],
   "source": [
    "import pandas as pd\n",
    "import datetime"
   ]
  },
  {
   "cell_type": "code",
   "execution_count": 2,
   "metadata": {},
   "outputs": [],
   "source": [
    "#read data \n",
    "\n",
    "sheet_url = \"../../NESIP_FIELD_DATA/data.xlsx\"\n",
    "sheet_ea_day = \"0. Energy Access(LP)\"\n",
    "sheet_ea_dump = \"1. Energy Access Dump\"\n",
    "sheet_ea_passed = \"2. Energy Access(Passed)\"\n",
    "sheet_ea_bad = \"3. Energy Access(Bad)\"\n",
    "\n",
    "energy_access_day = pd.read_excel(sheet_url, sheet_ea_day)\n",
    "ea_dump = pd.read_excel(sheet_url, sheet_ea_dump)\n",
    "ea_passed = pd.read_excel(sheet_url, sheet_ea_passed)\n",
    "ea_bad = pd.read_excel(sheet_url, sheet_ea_bad)\n",
    "\n",
    "\n",
    "#sampling_numbers \n",
    "sampling_sheet = \"Sampling Numbers\"\n",
    "sampling_numbers = pd.read_excel(sheet_url, sampling_sheet)\n",
    "\n"
   ]
  },
  {
   "cell_type": "markdown",
   "metadata": {},
   "source": [
    "##### GENERATE METRICS"
   ]
  },
  {
   "cell_type": "code",
   "execution_count": 3,
   "metadata": {},
   "outputs": [],
   "source": [
    "##### data collection progress\n",
    "# Create Urban_Collected and Rural_Collected based on \"Area Description\"\n",
    "ea_passed[\"Urban_Collected\"] = (ea_passed[\"Area Description\"] == \"Urban\").astype(int)\n",
    "ea_passed[\"Rural_Collected\"] = (ea_passed[\"Area Description\"] == \"Rural\").astype(int)\n",
    "\n",
    "ea_passed = pd.DataFrame(ea_passed)\n",
    "\n",
    "# Group by State and LGA, sum Urban and Rural collected\n",
    "summary_collected = ea_passed.groupby([\"State\", \"LGA\"])[[\"Urban_Collected\", \"Rural_Collected\"]].sum().reset_index()\n"
   ]
  },
  {
   "cell_type": "code",
   "execution_count": 4,
   "metadata": {},
   "outputs": [],
   "source": [
    "# Outer Join on 'LGA'\n",
    "merged_collection_summ = pd.merge(sampling_numbers, summary_collected, on=['State', 'LGA'] , how='outer')\n",
    "\n",
    "merged_collection_summ.fillna(0, inplace=True)\n",
    "\n",
    "# Calculate Completion Percentage per LGA\n",
    "merged_collection_summ[\"Urban_Completion\"] = (merged_collection_summ[\"Urban_Collected\"] / merged_collection_summ[\"Urban_Target\"]) * 100\n",
    "merged_collection_summ[\"Rural_Completion\"] = (merged_collection_summ[\"Rural_Collected\"] / merged_collection_summ[\"Rural_Target\"]) * 100\n"
   ]
  },
  {
   "cell_type": "code",
   "execution_count": 5,
   "metadata": {},
   "outputs": [],
   "source": [
    "# Aggregate to State Level\n",
    "state_completion = merged_collection_summ.groupby(\"State\").agg(\n",
    "    Urban_Completion=(\"Urban_Completion\", \"mean\"),\n",
    "    Rural_Completion=(\"Rural_Completion\", \"mean\")\n",
    ").reset_index()\n",
    "\n",
    "# Calculate Overall Completion per State\n",
    "state_completion[\"Overall_Completion\"] = round((state_completion[\"Urban_Completion\"] + state_completion[\"Rural_Completion\"]) / 2,0)\n",
    "\n",
    "state_data = state_completion.copy()\n"
   ]
  },
  {
   "cell_type": "code",
   "execution_count": 6,
   "metadata": {},
   "outputs": [],
   "source": [
    "#### deficit to calculate percentage completion\n",
    "\n",
    "# Calculate the Deficit (Data not yet collected)\n",
    "merged_collection_summ[\"Urban_Deficit\"] = merged_collection_summ[\"Urban_Target\"] - merged_collection_summ[\"Urban_Collected\"]\n",
    "merged_collection_summ[\"Rural_Deficit\"] = merged_collection_summ[\"Rural_Target\"] - merged_collection_summ[\"Rural_Collected\"]\n",
    "\n",
    "# If collected >= target, set deficit to 0 (i.e., already completed)\n",
    "merged_collection_summ[\"Urban_Deficit\"] = merged_collection_summ[\"Urban_Deficit\"].apply(lambda x: x if x > 0 else 0)\n",
    "merged_collection_summ[\"Rural_Deficit\"] = merged_collection_summ[\"Rural_Deficit\"].apply(lambda x: x if x > 0 else 0)\n",
    "\n",
    "# Sum the deficits and targets across all states and LGAs\n",
    "total_urban_deficit = merged_collection_summ[\"Urban_Deficit\"].sum()\n",
    "total_rural_deficit = merged_collection_summ[\"Rural_Deficit\"].sum()\n",
    "\n",
    "total_urban_target = merged_collection_summ[\"Urban_Target\"].sum()\n",
    "total_rural_target = merged_collection_summ[\"Rural_Target\"].sum()\n",
    "\n",
    "# Total Deficit (Urban + Rural)\n",
    "total_deficit = total_urban_deficit + total_rural_deficit\n",
    "\n",
    "# Total Target (Urban + Rural)\n",
    "total_target = total_urban_target + total_rural_target\n",
    "\n",
    "# Overall Percentage Completion\n",
    "overall_completion = round((1 - (total_deficit / total_target)) * 100,2)\n",
    "perc_deficit =  round((100  - overall_completion), 2)"
   ]
  },
  {
   "cell_type": "code",
   "execution_count": 7,
   "metadata": {},
   "outputs": [],
   "source": [
    "############################################################################\n",
    "# completion date\n",
    "urban_target = sampling_numbers['Urban_Target'].sum()\n",
    "rural_target = sampling_numbers['Rural_Target'].sum()\n",
    "\n",
    "total_target = urban_target + rural_target \n",
    "\n",
    "current_total  = total_target - total_deficit"
   ]
  },
  {
   "cell_type": "code",
   "execution_count": 8,
   "metadata": {},
   "outputs": [],
   "source": [
    "# Assuming ea_passed is your DataFrame\n",
    "ea_passed['Timestamp'] = pd.to_datetime(ea_passed['Timestamp'], format='%m/%d/%Y %H:%M:%S')\n",
    "ea_passed['date'] = ea_passed['Timestamp'].dt.date\n",
    "\n",
    "# Daily collection count\n",
    "daily_collection_combined = ea_passed.groupby('date').size()\n",
    "\n",
    "# Average daily collection\n",
    "daily_avg_combined = round(daily_collection_combined.mean(), 0)\n",
    "\n",
    "# Exclude the latest date\n",
    "latest_date = daily_collection_combined.index.max()\n",
    "daily_collection_excluding_latest = daily_collection_combined[daily_collection_combined.index != latest_date]\n",
    "last_collection_df = daily_collection_combined[daily_collection_combined.index == latest_date]\n",
    "last_collection_count =  len(last_collection_df)\n",
    "\n",
    "\n",
    "# Average daily collection (excluding the latest date)\n",
    "prev_daily_avg_combined = round(daily_collection_excluding_latest.mean(), 0)\n",
    "\n",
    "perc_inc_dec_avg_col = round((daily_avg_combined - prev_daily_avg_combined)/prev_daily_avg_combined * 100, 0)\n",
    "\n",
    "# Remaining surveys to be collected\n",
    "remaining_total = max(total_target - current_total, 0)\n",
    "\n",
    "# Calculate estimated completion time\n",
    "days_to_complete = remaining_total / daily_avg_combined  # if daily_avg_combined > 0 else float('inf')\n",
    "\n",
    "# Estimated completion date\n",
    "today = datetime.date.today()\n",
    "completion_date = today + datetime.timedelta(days=round(days_to_complete))"
   ]
  },
  {
   "cell_type": "code",
   "execution_count": 9,
   "metadata": {},
   "outputs": [],
   "source": [
    "completion_date_text = completion_date.strftime('%B-%d-%Y')\n",
    "\n",
    "expected_completion_date = \"March 4th, 2025\""
   ]
  },
  {
   "cell_type": "code",
   "execution_count": 10,
   "metadata": {},
   "outputs": [],
   "source": [
    "merged_collection_summ['Rural_Deficit'] = merged_collection_summ['Rural_Deficit'].round(0).astype(int)\n",
    "merged_collection_summ['Urban_Deficit'] = merged_collection_summ['Urban_Deficit'].round(0).astype(int)\n",
    "\n",
    "merged_collection_summ['Urban_Collected'] = merged_collection_summ['Urban_Collected'].round(0).astype(int)\n",
    "merged_collection_summ['Rural_Collected'] = merged_collection_summ['Rural_Collected'].round(0).astype(int)\n",
    "\n",
    "\n",
    "expander_data = merged_collection_summ[['State', 'LGA', 'Urban_Target', 'Rural_Target','Urban_Collected', 'Rural_Collected','Urban_Deficit', 'Rural_Deficit']]"
   ]
  },
  {
   "cell_type": "code",
   "execution_count": 11,
   "metadata": {},
   "outputs": [
    {
     "data": {
      "text/html": [
       "<div>\n",
       "<style scoped>\n",
       "    .dataframe tbody tr th:only-of-type {\n",
       "        vertical-align: middle;\n",
       "    }\n",
       "\n",
       "    .dataframe tbody tr th {\n",
       "        vertical-align: top;\n",
       "    }\n",
       "\n",
       "    .dataframe thead th {\n",
       "        text-align: right;\n",
       "    }\n",
       "</style>\n",
       "<table border=\"1\" class=\"dataframe\">\n",
       "  <thead>\n",
       "    <tr style=\"text-align: right;\">\n",
       "      <th></th>\n",
       "      <th>State</th>\n",
       "      <th>Urban_Completion</th>\n",
       "      <th>Rural_Completion</th>\n",
       "      <th>Overall_Completion</th>\n",
       "    </tr>\n",
       "  </thead>\n",
       "  <tbody>\n",
       "    <tr>\n",
       "      <th>0</th>\n",
       "      <td>Abia</td>\n",
       "      <td>100.000000</td>\n",
       "      <td>81.617647</td>\n",
       "      <td>91.0</td>\n",
       "    </tr>\n",
       "    <tr>\n",
       "      <th>1</th>\n",
       "      <td>Adamawa</td>\n",
       "      <td>19.047619</td>\n",
       "      <td>26.190476</td>\n",
       "      <td>23.0</td>\n",
       "    </tr>\n",
       "    <tr>\n",
       "      <th>2</th>\n",
       "      <td>Akwa-Ibom</td>\n",
       "      <td>111.827957</td>\n",
       "      <td>107.526882</td>\n",
       "      <td>110.0</td>\n",
       "    </tr>\n",
       "    <tr>\n",
       "      <th>3</th>\n",
       "      <td>Anambra</td>\n",
       "      <td>59.523810</td>\n",
       "      <td>65.079365</td>\n",
       "      <td>62.0</td>\n",
       "    </tr>\n",
       "    <tr>\n",
       "      <th>4</th>\n",
       "      <td>Bauchi</td>\n",
       "      <td>51.666667</td>\n",
       "      <td>22.142857</td>\n",
       "      <td>37.0</td>\n",
       "    </tr>\n",
       "    <tr>\n",
       "      <th>5</th>\n",
       "      <td>Bayelsa</td>\n",
       "      <td>125.000000</td>\n",
       "      <td>105.357143</td>\n",
       "      <td>115.0</td>\n",
       "    </tr>\n",
       "    <tr>\n",
       "      <th>6</th>\n",
       "      <td>Benue</td>\n",
       "      <td>73.913043</td>\n",
       "      <td>88.043478</td>\n",
       "      <td>81.0</td>\n",
       "    </tr>\n",
       "    <tr>\n",
       "      <th>7</th>\n",
       "      <td>Borno</td>\n",
       "      <td>29.629630</td>\n",
       "      <td>25.925926</td>\n",
       "      <td>28.0</td>\n",
       "    </tr>\n",
       "    <tr>\n",
       "      <th>8</th>\n",
       "      <td>Cross River</td>\n",
       "      <td>107.407407</td>\n",
       "      <td>102.777778</td>\n",
       "      <td>105.0</td>\n",
       "    </tr>\n",
       "    <tr>\n",
       "      <th>9</th>\n",
       "      <td>Delta</td>\n",
       "      <td>104.800000</td>\n",
       "      <td>109.600000</td>\n",
       "      <td>107.0</td>\n",
       "    </tr>\n",
       "    <tr>\n",
       "      <th>10</th>\n",
       "      <td>Ebonyi</td>\n",
       "      <td>42.857143</td>\n",
       "      <td>58.974359</td>\n",
       "      <td>51.0</td>\n",
       "    </tr>\n",
       "    <tr>\n",
       "      <th>11</th>\n",
       "      <td>Edo</td>\n",
       "      <td>102.777778</td>\n",
       "      <td>100.000000</td>\n",
       "      <td>101.0</td>\n",
       "    </tr>\n",
       "    <tr>\n",
       "      <th>12</th>\n",
       "      <td>Ekiti</td>\n",
       "      <td>103.125000</td>\n",
       "      <td>97.916667</td>\n",
       "      <td>101.0</td>\n",
       "    </tr>\n",
       "    <tr>\n",
       "      <th>13</th>\n",
       "      <td>Enugu</td>\n",
       "      <td>51.470588</td>\n",
       "      <td>76.470588</td>\n",
       "      <td>64.0</td>\n",
       "    </tr>\n",
       "    <tr>\n",
       "      <th>14</th>\n",
       "      <td>Federal Capital Territory</td>\n",
       "      <td>80.392157</td>\n",
       "      <td>142.857143</td>\n",
       "      <td>112.0</td>\n",
       "    </tr>\n",
       "    <tr>\n",
       "      <th>15</th>\n",
       "      <td>Gombe</td>\n",
       "      <td>33.333333</td>\n",
       "      <td>31.818182</td>\n",
       "      <td>33.0</td>\n",
       "    </tr>\n",
       "    <tr>\n",
       "      <th>16</th>\n",
       "      <td>Imo</td>\n",
       "      <td>43.518519</td>\n",
       "      <td>40.740741</td>\n",
       "      <td>42.0</td>\n",
       "    </tr>\n",
       "    <tr>\n",
       "      <th>17</th>\n",
       "      <td>Jigawa</td>\n",
       "      <td>32.098765</td>\n",
       "      <td>34.074074</td>\n",
       "      <td>33.0</td>\n",
       "    </tr>\n",
       "    <tr>\n",
       "      <th>18</th>\n",
       "      <td>Kaduna</td>\n",
       "      <td>23.913043</td>\n",
       "      <td>26.086957</td>\n",
       "      <td>25.0</td>\n",
       "    </tr>\n",
       "    <tr>\n",
       "      <th>19</th>\n",
       "      <td>Kano</td>\n",
       "      <td>37.878788</td>\n",
       "      <td>34.090909</td>\n",
       "      <td>36.0</td>\n",
       "    </tr>\n",
       "    <tr>\n",
       "      <th>20</th>\n",
       "      <td>Kastina</td>\n",
       "      <td>43.137255</td>\n",
       "      <td>41.176471</td>\n",
       "      <td>42.0</td>\n",
       "    </tr>\n",
       "    <tr>\n",
       "      <th>21</th>\n",
       "      <td>Kebbi</td>\n",
       "      <td>93.650794</td>\n",
       "      <td>86.666667</td>\n",
       "      <td>90.0</td>\n",
       "    </tr>\n",
       "    <tr>\n",
       "      <th>22</th>\n",
       "      <td>Kogi</td>\n",
       "      <td>inf</td>\n",
       "      <td>inf</td>\n",
       "      <td>inf</td>\n",
       "    </tr>\n",
       "    <tr>\n",
       "      <th>23</th>\n",
       "      <td>Kwara</td>\n",
       "      <td>inf</td>\n",
       "      <td>inf</td>\n",
       "      <td>inf</td>\n",
       "    </tr>\n",
       "    <tr>\n",
       "      <th>24</th>\n",
       "      <td>Lagos</td>\n",
       "      <td>103.965517</td>\n",
       "      <td>113.333333</td>\n",
       "      <td>109.0</td>\n",
       "    </tr>\n",
       "    <tr>\n",
       "      <th>25</th>\n",
       "      <td>Nasarawa</td>\n",
       "      <td>84.615385</td>\n",
       "      <td>63.076923</td>\n",
       "      <td>74.0</td>\n",
       "    </tr>\n",
       "    <tr>\n",
       "      <th>26</th>\n",
       "      <td>Niger</td>\n",
       "      <td>20.000000</td>\n",
       "      <td>71.000000</td>\n",
       "      <td>46.0</td>\n",
       "    </tr>\n",
       "    <tr>\n",
       "      <th>27</th>\n",
       "      <td>Ogun</td>\n",
       "      <td>106.666667</td>\n",
       "      <td>101.666667</td>\n",
       "      <td>104.0</td>\n",
       "    </tr>\n",
       "    <tr>\n",
       "      <th>28</th>\n",
       "      <td>Ondo</td>\n",
       "      <td>105.555556</td>\n",
       "      <td>100.000000</td>\n",
       "      <td>103.0</td>\n",
       "    </tr>\n",
       "    <tr>\n",
       "      <th>29</th>\n",
       "      <td>Osun</td>\n",
       "      <td>107.333333</td>\n",
       "      <td>110.000000</td>\n",
       "      <td>109.0</td>\n",
       "    </tr>\n",
       "    <tr>\n",
       "      <th>30</th>\n",
       "      <td>Oyo</td>\n",
       "      <td>104.545455</td>\n",
       "      <td>117.171717</td>\n",
       "      <td>111.0</td>\n",
       "    </tr>\n",
       "    <tr>\n",
       "      <th>31</th>\n",
       "      <td>Plateau</td>\n",
       "      <td>74.509804</td>\n",
       "      <td>72.549020</td>\n",
       "      <td>74.0</td>\n",
       "    </tr>\n",
       "    <tr>\n",
       "      <th>32</th>\n",
       "      <td>Rivers</td>\n",
       "      <td>103.623188</td>\n",
       "      <td>105.072464</td>\n",
       "      <td>104.0</td>\n",
       "    </tr>\n",
       "    <tr>\n",
       "      <th>33</th>\n",
       "      <td>Sokoto</td>\n",
       "      <td>59.420290</td>\n",
       "      <td>51.086957</td>\n",
       "      <td>55.0</td>\n",
       "    </tr>\n",
       "    <tr>\n",
       "      <th>34</th>\n",
       "      <td>Taraba</td>\n",
       "      <td>33.333333</td>\n",
       "      <td>40.000000</td>\n",
       "      <td>37.0</td>\n",
       "    </tr>\n",
       "    <tr>\n",
       "      <th>35</th>\n",
       "      <td>Yobe</td>\n",
       "      <td>25.490196</td>\n",
       "      <td>25.000000</td>\n",
       "      <td>25.0</td>\n",
       "    </tr>\n",
       "    <tr>\n",
       "      <th>36</th>\n",
       "      <td>Zamfara</td>\n",
       "      <td>28.571429</td>\n",
       "      <td>14.285714</td>\n",
       "      <td>21.0</td>\n",
       "    </tr>\n",
       "  </tbody>\n",
       "</table>\n",
       "</div>"
      ],
      "text/plain": [
       "                        State  Urban_Completion  Rural_Completion  \\\n",
       "0                        Abia        100.000000         81.617647   \n",
       "1                     Adamawa         19.047619         26.190476   \n",
       "2                   Akwa-Ibom        111.827957        107.526882   \n",
       "3                     Anambra         59.523810         65.079365   \n",
       "4                      Bauchi         51.666667         22.142857   \n",
       "5                     Bayelsa        125.000000        105.357143   \n",
       "6                       Benue         73.913043         88.043478   \n",
       "7                       Borno         29.629630         25.925926   \n",
       "8                 Cross River        107.407407        102.777778   \n",
       "9                       Delta        104.800000        109.600000   \n",
       "10                     Ebonyi         42.857143         58.974359   \n",
       "11                        Edo        102.777778        100.000000   \n",
       "12                      Ekiti        103.125000         97.916667   \n",
       "13                      Enugu         51.470588         76.470588   \n",
       "14  Federal Capital Territory         80.392157        142.857143   \n",
       "15                      Gombe         33.333333         31.818182   \n",
       "16                        Imo         43.518519         40.740741   \n",
       "17                     Jigawa         32.098765         34.074074   \n",
       "18                     Kaduna         23.913043         26.086957   \n",
       "19                       Kano         37.878788         34.090909   \n",
       "20                    Kastina         43.137255         41.176471   \n",
       "21                      Kebbi         93.650794         86.666667   \n",
       "22                       Kogi               inf               inf   \n",
       "23                      Kwara               inf               inf   \n",
       "24                      Lagos        103.965517        113.333333   \n",
       "25                   Nasarawa         84.615385         63.076923   \n",
       "26                      Niger         20.000000         71.000000   \n",
       "27                       Ogun        106.666667        101.666667   \n",
       "28                       Ondo        105.555556        100.000000   \n",
       "29                       Osun        107.333333        110.000000   \n",
       "30                        Oyo        104.545455        117.171717   \n",
       "31                    Plateau         74.509804         72.549020   \n",
       "32                     Rivers        103.623188        105.072464   \n",
       "33                     Sokoto         59.420290         51.086957   \n",
       "34                     Taraba         33.333333         40.000000   \n",
       "35                       Yobe         25.490196         25.000000   \n",
       "36                    Zamfara         28.571429         14.285714   \n",
       "\n",
       "    Overall_Completion  \n",
       "0                 91.0  \n",
       "1                 23.0  \n",
       "2                110.0  \n",
       "3                 62.0  \n",
       "4                 37.0  \n",
       "5                115.0  \n",
       "6                 81.0  \n",
       "7                 28.0  \n",
       "8                105.0  \n",
       "9                107.0  \n",
       "10                51.0  \n",
       "11               101.0  \n",
       "12               101.0  \n",
       "13                64.0  \n",
       "14               112.0  \n",
       "15                33.0  \n",
       "16                42.0  \n",
       "17                33.0  \n",
       "18                25.0  \n",
       "19                36.0  \n",
       "20                42.0  \n",
       "21                90.0  \n",
       "22                 inf  \n",
       "23                 inf  \n",
       "24               109.0  \n",
       "25                74.0  \n",
       "26                46.0  \n",
       "27               104.0  \n",
       "28               103.0  \n",
       "29               109.0  \n",
       "30               111.0  \n",
       "31                74.0  \n",
       "32               104.0  \n",
       "33                55.0  \n",
       "34                37.0  \n",
       "35                25.0  \n",
       "36                21.0  "
      ]
     },
     "execution_count": 11,
     "metadata": {},
     "output_type": "execute_result"
    }
   ],
   "source": [
    "state_data"
   ]
  },
  {
   "cell_type": "code",
   "execution_count": 12,
   "metadata": {},
   "outputs": [],
   "source": [
    "## GET ALL METRICS\n",
    "total_states = 37\n",
    "states_done = len(state_data[(state_data['Urban_Completion'] >= 100) & (state_data['Rural_Completion'] >= 100)])\n",
    "\n",
    "state_per_cmptd = round((states_done/total_states) *100, 2)\n",
    "states_visited = f\"{ea_passed['State'].nunique()} states visited\"\n"
   ]
  },
  {
   "cell_type": "code",
   "execution_count": 13,
   "metadata": {},
   "outputs": [],
   "source": [
    "# GOOD AND BAD DATA SUMMARY\n",
    "good_bad_summary = ea_dump.pivot_table(\n",
    "    index=\"State\",\n",
    "    columns=\"vista_remark\",\n",
    "    aggfunc=\"size\",\n",
    "    fill_value=0\n",
    ").reset_index()"
   ]
  },
  {
   "cell_type": "code",
   "execution_count": 14,
   "metadata": {},
   "outputs": [],
   "source": [
    "# Ensure \"Good\" and \"Bad\" columns are present even if some are missing\n",
    "if \"Good\" not in good_bad_summary.columns:\n",
    "    good_bad_summary[\"Good\"] = 0\n",
    "if \"Bad\" not in good_bad_summary.columns:\n",
    "    good_bad_summary[\"Bad\"] = 0"
   ]
  },
  {
   "cell_type": "code",
   "execution_count": 15,
   "metadata": {},
   "outputs": [],
   "source": [
    "# Reorder columns for readability\n",
    "good_bad_summary = good_bad_summary[['State', 'Good', 'Bad']]\n",
    "good_bad_summary.rename(columns={\"Good\": \"Clean Data\", \"Bad\": \"Inconsistent Data\"}, inplace=True)"
   ]
  },
  {
   "cell_type": "code",
   "execution_count": 16,
   "metadata": {},
   "outputs": [],
   "source": [
    "total_clean_records = good_bad_summary[\"Clean Data\"].sum()\n",
    "total_bad_records = good_bad_summary[\"Inconsistent Data\"].sum()"
   ]
  },
  {
   "cell_type": "code",
   "execution_count": 17,
   "metadata": {},
   "outputs": [],
   "source": [
    "Daily_avg_expected = 300"
   ]
  },
  {
   "cell_type": "code",
   "execution_count": 18,
   "metadata": {},
   "outputs": [
    {
     "data": {
      "text/plain": [
       "1"
      ]
     },
     "execution_count": 18,
     "metadata": {},
     "output_type": "execute_result"
    }
   ],
   "source": [
    "last_collection_count"
   ]
  },
  {
   "cell_type": "markdown",
   "metadata": {},
   "source": [
    "##### CREATE THE SINGLE DATAFRAME"
   ]
  },
  {
   "cell_type": "code",
   "execution_count": 19,
   "metadata": {},
   "outputs": [],
   "source": [
    "# generate  sinlge line df\n",
    "\n",
    "dashboard_single_df = pd.DataFrame({\n",
    "    'total_states' : [0],\n",
    "    'states_done' : [0],  \n",
    "    'state_per_cmptd' : [0],  \n",
    "    'states_visited' : [0],\n",
    "    'total_target' : [0],\n",
    "    'current_total' : [0],\n",
    "    'daily_avg_combined' :[0],\n",
    "    'perc_inc_dec_avg_col' : [0],\n",
    "    'expected_completion_date' :[0],\n",
    "    'completion_date_text' :[0],\n",
    "    'overall_completion' : [0],\n",
    "    'perc_deficit' : [0],\n",
    "    'total_clean_records' : [0],\n",
    "    'total_bad_records' : [0],\n",
    "    'Daily_avg_expected': [0],\n",
    "    'perc_in_dec_collection': [0],\n",
    "    'last_collection_count':[0]\n",
    "})\n"
   ]
  },
  {
   "cell_type": "code",
   "execution_count": 20,
   "metadata": {},
   "outputs": [
    {
     "data": {
      "text/html": [
       "<div>\n",
       "<style scoped>\n",
       "    .dataframe tbody tr th:only-of-type {\n",
       "        vertical-align: middle;\n",
       "    }\n",
       "\n",
       "    .dataframe tbody tr th {\n",
       "        vertical-align: top;\n",
       "    }\n",
       "\n",
       "    .dataframe thead th {\n",
       "        text-align: right;\n",
       "    }\n",
       "</style>\n",
       "<table border=\"1\" class=\"dataframe\">\n",
       "  <thead>\n",
       "    <tr style=\"text-align: right;\">\n",
       "      <th></th>\n",
       "      <th>total_states</th>\n",
       "      <th>states_done</th>\n",
       "      <th>state_per_cmptd</th>\n",
       "      <th>states_visited</th>\n",
       "      <th>total_target</th>\n",
       "      <th>current_total</th>\n",
       "      <th>daily_avg_combined</th>\n",
       "      <th>perc_inc_dec_avg_col</th>\n",
       "      <th>expected_completion_date</th>\n",
       "      <th>completion_date_text</th>\n",
       "      <th>overall_completion</th>\n",
       "      <th>perc_deficit</th>\n",
       "      <th>total_clean_records</th>\n",
       "      <th>total_bad_records</th>\n",
       "      <th>Daily_avg_expected</th>\n",
       "      <th>perc_in_dec_collection</th>\n",
       "      <th>last_collection_count</th>\n",
       "    </tr>\n",
       "  </thead>\n",
       "  <tbody>\n",
       "    <tr>\n",
       "      <th>0</th>\n",
       "      <td>0</td>\n",
       "      <td>0</td>\n",
       "      <td>0</td>\n",
       "      <td>0</td>\n",
       "      <td>0</td>\n",
       "      <td>0</td>\n",
       "      <td>0</td>\n",
       "      <td>0</td>\n",
       "      <td>0</td>\n",
       "      <td>0</td>\n",
       "      <td>0</td>\n",
       "      <td>0</td>\n",
       "      <td>0</td>\n",
       "      <td>0</td>\n",
       "      <td>0</td>\n",
       "      <td>0</td>\n",
       "      <td>0</td>\n",
       "    </tr>\n",
       "  </tbody>\n",
       "</table>\n",
       "</div>"
      ],
      "text/plain": [
       "   total_states  states_done  state_per_cmptd  states_visited  total_target  \\\n",
       "0             0            0                0               0             0   \n",
       "\n",
       "   current_total  daily_avg_combined  perc_inc_dec_avg_col  \\\n",
       "0              0                   0                     0   \n",
       "\n",
       "   expected_completion_date  completion_date_text  overall_completion  \\\n",
       "0                         0                     0                   0   \n",
       "\n",
       "   perc_deficit  total_clean_records  total_bad_records  Daily_avg_expected  \\\n",
       "0             0                    0                  0                   0   \n",
       "\n",
       "   perc_in_dec_collection  last_collection_count  \n",
       "0                       0                      0  "
      ]
     },
     "execution_count": 20,
     "metadata": {},
     "output_type": "execute_result"
    }
   ],
   "source": [
    "dashboard_single_df.head()"
   ]
  },
  {
   "cell_type": "code",
   "execution_count": 21,
   "metadata": {},
   "outputs": [],
   "source": [
    "dashboard_single_df['total_states'] = total_states,\n",
    "dashboard_single_df['states_done'] = states_done,  \n",
    "dashboard_single_df['state_per_cmptd'] = state_per_cmptd,  \n",
    "dashboard_single_df['states_visited'] = states_visited  \n",
    "dashboard_single_df['total_target'] = total_target  \n",
    "dashboard_single_df['current_total'] = current_total\n",
    "dashboard_single_df['daily_avg_combined'] = daily_avg_combined.round(0).astype(int)\n",
    "dashboard_single_df['perc_inc_dec_avg_col'] = perc_inc_dec_avg_col.round(0).astype(int)\n",
    "dashboard_single_df['expected_completion_date'] = expected_completion_date\n",
    "dashboard_single_df['completion_date_text'] = completion_date_text\n",
    "dashboard_single_df['overall_completion'] = overall_completion\n",
    "dashboard_single_df['perc_deficit'] = perc_deficit\n",
    "dashboard_single_df['total_clean_records'] = total_clean_records\n",
    "dashboard_single_df['total_bad_records'] = total_bad_records\n",
    "dashboard_single_df['Daily_avg_expected'] = Daily_avg_expected\n",
    "dashboard_single_df['last_collection_count'] = last_collection_count "
   ]
  },
  {
   "cell_type": "code",
   "execution_count": 22,
   "metadata": {},
   "outputs": [],
   "source": [
    "dashboard_single_df.to_csv('../data/dashboard_data/dashboard_single_df.csv')"
   ]
  },
  {
   "cell_type": "code",
   "execution_count": 23,
   "metadata": {},
   "outputs": [
    {
     "name": "stdout",
     "output_type": "stream",
     "text": [
      "March-07-2025\n"
     ]
    }
   ],
   "source": [
    "print(dashboard_single_df['completion_date_text'][0])\n"
   ]
  },
  {
   "cell_type": "markdown",
   "metadata": {},
   "source": [
    "##### OTHER TABLE METRICS"
   ]
  },
  {
   "cell_type": "markdown",
   "metadata": {},
   "source": [
    "##### 1. GEOLOCATION"
   ]
  },
  {
   "cell_type": "code",
   "execution_count": 24,
   "metadata": {},
   "outputs": [],
   "source": [
    "# 1. GEOLOACATION\n",
    "\n",
    "# Ensure Geolocation is string and split into lat/lon\n",
    "ea_passed['Geolocation'] = ea_passed['Geolocation'].astype(str)\n",
    "ea_passed[['lat', 'lon']] = ea_passed['Geolocation'].str.split(',', expand=True)\n",
    "ea_passed['lat'] = pd.to_numeric(ea_passed['lat'], errors='coerce')\n",
    "ea_passed['lon'] = pd.to_numeric(ea_passed['lon'], errors='coerce')\n",
    "ea_passed = ea_passed.dropna(subset=['lat', 'lon'])"
   ]
  },
  {
   "cell_type": "code",
   "execution_count": 25,
   "metadata": {},
   "outputs": [],
   "source": [
    "geospatial_df = ea_passed[['State', 'LGA', 'lat', 'lon']]"
   ]
  },
  {
   "cell_type": "code",
   "execution_count": 26,
   "metadata": {},
   "outputs": [],
   "source": [
    "geospatial_df.to_csv('../data/dashboard_data/geospatial_df.csv')"
   ]
  },
  {
   "cell_type": "markdown",
   "metadata": {},
   "source": [
    "##### 2. STATE/LGA COMPLETION DATA"
   ]
  },
  {
   "cell_type": "code",
   "execution_count": 27,
   "metadata": {},
   "outputs": [],
   "source": [
    "state_data.to_csv('../data/dashboard_data/state_lga_completion_data.csv')"
   ]
  },
  {
   "cell_type": "markdown",
   "metadata": {},
   "source": [
    "##### 3. DATA QUALITY"
   ]
  },
  {
   "cell_type": "code",
   "execution_count": 28,
   "metadata": {},
   "outputs": [],
   "source": [
    "good_bad_summary.to_csv('../data/dashboard_data/data_quality_summary.csv')"
   ]
  },
  {
   "cell_type": "markdown",
   "metadata": {},
   "source": [
    "##### 4. DATA QUALITY"
   ]
  },
  {
   "cell_type": "code",
   "execution_count": 29,
   "metadata": {},
   "outputs": [],
   "source": [
    "expander_data.to_csv('../data/dashboard_data/expander_df.csv')"
   ]
  },
  {
   "cell_type": "markdown",
   "metadata": {},
   "source": [
    "#### 5. bad data count"
   ]
  },
  {
   "cell_type": "code",
   "execution_count": 30,
   "metadata": {},
   "outputs": [],
   "source": [
    "# Convert 'Timestamp' to datetime format\n",
    "ea_bad['Timestamp'] = pd.to_datetime(ea_bad['Timestamp'])\n",
    "\n",
    "# Extract only the date\n",
    "ea_bad['Date'] = ea_bad['Timestamp'].dt.date\n",
    "\n",
    "# Group by Date and count occurrences\n",
    "bad_data_trend_pivot = ea_bad.groupby('Date').size().reset_index(name='Dropped Data')\n",
    "\n",
    "\n",
    "# Convert Date to string for proper visualization\n",
    "bad_data_trend_pivot['Date'] = bad_data_trend_pivot['Date'].astype(str)\n",
    "\n",
    "bad_data_trend_pivot.to_csv('../data/dashboard_data/bad_data_trend_pivot.csv')"
   ]
  },
  {
   "cell_type": "markdown",
   "metadata": {},
   "source": [
    "#### 6. GET ENUMERATORS AND STATES PERFORMANCE DATA POINTS"
   ]
  },
  {
   "cell_type": "code",
   "execution_count": 31,
   "metadata": {},
   "outputs": [],
   "source": [
    "# Group by State and count \"Good\" and \"Bad\"\n",
    "STATE_GOOD = ea_dump.groupby(['State', 'vista_remark']).size().unstack(fill_value=0)\n",
    "\n",
    "# Add a total count column\n",
    "STATE_GOOD['Total'] = STATE_GOOD['Good'] + STATE_GOOD['Bad']\n",
    "\n",
    "# Filter states with at least 50 data points\n",
    "STATE_GOOD = STATE_GOOD[STATE_GOOD['Total'] >= 50]\n",
    "\n",
    "# Calculate percentage of \"Good\"\n",
    "STATE_GOOD['Data Quality'] = (STATE_GOOD['Good'] / STATE_GOOD['Total']) * 100\n"
   ]
  },
  {
   "cell_type": "markdown",
   "metadata": {},
   "source": [
    "##### TOP 5 STATES"
   ]
  },
  {
   "cell_type": "code",
   "execution_count": 32,
   "metadata": {},
   "outputs": [
    {
     "name": "stdout",
     "output_type": "stream",
     "text": [
      "vista_remark   State  Data Quality\n",
      "0                Oyo     98.475610\n",
      "1             Ebonyi     98.412698\n",
      "2               Ogun     97.656250\n",
      "3             Rivers     97.627119\n",
      "4                Edo     97.340426\n"
     ]
    }
   ],
   "source": [
    "# Get top 5 states with the highest percentage of \"Good\"\n",
    "top_5_states = STATE_GOOD.sort_values(by='Data Quality', ascending=False).head(5)\n",
    "\n",
    "# Keep only State and Data Quality\n",
    "top_5_states = top_5_states[['Data Quality']].reset_index()\n",
    "\n",
    "# Ensure the final DataFrame has only the required columns\n",
    "print(top_5_states)\n",
    "\n",
    "\n",
    "top_5_states.to_csv('../data/dashboard_data/top_5_states.csv', index=False)"
   ]
  },
  {
   "cell_type": "markdown",
   "metadata": {},
   "source": [
    "##### BOTTOM 5 STATES"
   ]
  },
  {
   "cell_type": "code",
   "execution_count": 33,
   "metadata": {},
   "outputs": [
    {
     "name": "stdout",
     "output_type": "stream",
     "text": [
      "vista_remark        State  Data Quality\n",
      "0                   Gombe     73.584906\n",
      "1                     Imo     80.530973\n",
      "2                Nasarawa     81.318681\n",
      "3                   Borno     83.333333\n",
      "4             Cross River     84.773663\n"
     ]
    }
   ],
   "source": [
    "# Get top 5 states with the highest percentage of \"Good\"\n",
    "BOTTOM_5_states = STATE_GOOD.sort_values(by='Data Quality', ascending=True).head(5)\n",
    "\n",
    "# Keep only State and Data Quality\n",
    "BOTTOM_5_states = BOTTOM_5_states[['Data Quality']].reset_index()\n",
    "\n",
    "# Ensure the final DataFrame has only the required columns\n",
    "print(BOTTOM_5_states)\n",
    "\n",
    "\n",
    "BOTTOM_5_states.to_csv('../data/dashboard_data/BOTTOM_5_states.csv', index=False)"
   ]
  },
  {
   "cell_type": "markdown",
   "metadata": {},
   "source": [
    "##### Enumerators Analysis"
   ]
  },
  {
   "cell_type": "code",
   "execution_count": 34,
   "metadata": {},
   "outputs": [],
   "source": [
    "# Group by State and count \"Good\" and \"Bad\"\n",
    "enumerator_good = ea_dump.groupby(['Enumerator Name', 'vista_remark']).size().unstack(fill_value=0)\n",
    "\n",
    "# Add a total count column\n",
    "enumerator_good['Total'] = enumerator_good['Good'] + enumerator_good['Bad']\n",
    "\n",
    "# Filter states with at least 50 data points\n",
    "enumerator_good = enumerator_good[enumerator_good['Total'] >= 30]\n",
    "\n",
    "# Calculate percentage of \"Good\"\n",
    "enumerator_good['Data Quality'] = (enumerator_good['Good'] / enumerator_good['Total']) * 100\n"
   ]
  },
  {
   "cell_type": "markdown",
   "metadata": {},
   "source": [
    "##### Top 5 Enumerators"
   ]
  },
  {
   "cell_type": "code",
   "execution_count": 35,
   "metadata": {},
   "outputs": [
    {
     "name": "stdout",
     "output_type": "stream",
     "text": [
      "vista_remark            Enumerator Name  Data Quality\n",
      "0                         ALEX AFAHOKOR    100.000000\n",
      "1                        Adamaka Aguruo    100.000000\n",
      "2                        Akpovwovwo joy    100.000000\n",
      "3                 Adeyemi oluwadamilare    100.000000\n",
      "4                     Bamidele akinyemi    100.000000\n",
      "5                   Arisekola Ebunoluwa    100.000000\n",
      "6                      Ayomide olawoyin    100.000000\n",
      "7                           Collin Zino    100.000000\n",
      "8                      Chinyere Ejiofor    100.000000\n",
      "9             Divine-Favour Etim Okpoyo    100.000000\n",
      "10                         BELLO YUNUSA    100.000000\n",
      "11                             Emmanuel    100.000000\n",
      "12                             Ekom joy    100.000000\n",
      "13                    Egbeyemi Temitope    100.000000\n",
      "14                    Ogunsina Temitayo    100.000000\n",
      "15                       Omolewa Bosede    100.000000\n",
      "16                      marvelous unung    100.000000\n",
      "17                      Yusuf mosunmola    100.000000\n",
      "18                      Toafeek Olagoke    100.000000\n",
      "19                      mathew usiosefe    100.000000\n",
      "20                    SABO SESAN SAMSON    100.000000\n",
      "21                       Nafisa Ibrahim    100.000000\n",
      "22                   Irechukwu Princess    100.000000\n",
      "23                            Joy Frank    100.000000\n",
      "24                       Nwokenna Chika    100.000000\n",
      "25                      Fadeyi Odunlayo    100.000000\n",
      "26                       Ifeyinwa Okeke    100.000000\n",
      "27                      Bernard Ekemgba     98.648649\n",
      "28                             Oghenero     98.529412\n",
      "29                      Nwosu Ogechukwu     98.437500\n"
     ]
    }
   ],
   "source": [
    "# Get top 5 states with the highest percentage of \"Good\"\n",
    "top_enumerators = enumerator_good.sort_values(by='Data Quality', ascending=False).head(30)\n",
    "\n",
    "top_enumerators = top_enumerators[top_enumerators[\"Data Quality\"] == 100]\n",
    "\n",
    "# Keep only State and Data Quality\n",
    "top_enumerators = top_enumerators[['Data Quality']].reset_index()\n",
    "\n",
    "# Ensure the final DataFrame has only the required columns\n",
    "print(top_enumerators)\n",
    "\n",
    "\n",
    "top_enumerators.to_csv('../data/dashboard_data/top_enumerators.csv', index=False)"
   ]
  },
  {
   "cell_type": "markdown",
   "metadata": {},
   "source": [
    "##### bottom performing enumerators"
   ]
  },
  {
   "cell_type": "code",
   "execution_count": 36,
   "metadata": {},
   "outputs": [
    {
     "name": "stdout",
     "output_type": "stream",
     "text": [
      "vista_remark     Enumerator Name  Data Quality\n",
      "0              Ndifon Ntoni Edim     52.777778\n",
      "1                Olalere Olawale     60.000000\n",
      "2                Olubunmi Mayowa     72.972973\n",
      "3             Ubong Godwin Aaron     73.170732\n",
      "4                          Segun     82.500000\n"
     ]
    }
   ],
   "source": [
    "# Get top 5 states with the highest percentage of \"Good\"\n",
    "bottom_enumerators = enumerator_good.sort_values(by='Data Quality', ascending=True).head(5)\n",
    "\n",
    "# Keep only State and Data Quality\n",
    "bottom_enumerators = bottom_enumerators[['Data Quality']].reset_index()\n",
    "\n",
    "# Ensure the final DataFrame has only the required columns\n",
    "print(bottom_enumerators)\n",
    "\n",
    "\n",
    "bottom_enumerators.to_csv('../data/dashboard_data/bottom_enumerators.csv', index=False)"
   ]
  },
  {
   "cell_type": "code",
   "execution_count": 37,
   "metadata": {},
   "outputs": [
    {
     "data": {
      "text/plain": [
       "['Abia',\n",
       " 'Adamawa',\n",
       " 'Akwa-Ibom',\n",
       " 'Anambra',\n",
       " 'Bauchi',\n",
       " 'Bayelsa',\n",
       " 'Benue',\n",
       " 'Borno',\n",
       " 'Cross River',\n",
       " 'Delta',\n",
       " 'Ebonyi',\n",
       " 'Edo',\n",
       " 'Ekiti',\n",
       " 'Enugu',\n",
       " 'Federal Capital Territory',\n",
       " 'Gombe',\n",
       " 'Imo',\n",
       " 'Jigawa',\n",
       " 'Kaduna',\n",
       " 'Kano',\n",
       " 'Kastina',\n",
       " 'Kebbi',\n",
       " 'Kogi',\n",
       " 'Kwara',\n",
       " 'Lagos',\n",
       " 'Nasarawa',\n",
       " 'Niger',\n",
       " 'Ogun',\n",
       " 'Ondo',\n",
       " 'Osun',\n",
       " 'Oyo',\n",
       " 'Plateau',\n",
       " 'Rivers',\n",
       " 'Sokoto',\n",
       " 'Taraba',\n",
       " 'Yobe',\n",
       " 'Zamfara']"
      ]
     },
     "execution_count": 37,
     "metadata": {},
     "output_type": "execute_result"
    }
   ],
   "source": [
    "expander_data[\"State\"].unique().tolist()"
   ]
  },
  {
   "cell_type": "code",
   "execution_count": null,
   "metadata": {},
   "outputs": [],
   "source": []
  }
 ],
 "metadata": {
  "kernelspec": {
   "display_name": "Python 3.12.4 64-bit",
   "language": "python",
   "name": "python3"
  },
  "language_info": {
   "codemirror_mode": {
    "name": "ipython",
    "version": 3
   },
   "file_extension": ".py",
   "mimetype": "text/x-python",
   "name": "python",
   "nbconvert_exporter": "python",
   "pygments_lexer": "ipython3",
   "version": "3.12.4"
  },
  "orig_nbformat": 4,
  "vscode": {
   "interpreter": {
    "hash": "a940ce198f1cec256b3c1d63fb015ac77894c8c2a48fdeb7eec9bef16754d937"
   }
  }
 },
 "nbformat": 4,
 "nbformat_minor": 2
}
