{
 "cells": [
  {
   "cell_type": "code",
   "execution_count": 104,
   "metadata": {},
   "outputs": [],
   "source": [
    "import pandas as pd\n",
    "import datetime"
   ]
  },
  {
   "cell_type": "code",
   "execution_count": 105,
   "metadata": {},
   "outputs": [],
   "source": [
    "#read data \n",
    "\n",
    "sheet_url = \"../data/data.xlsx\"\n",
    "sheet_ea_day = \"0. Energy Access(LP)\"\n",
    "sheet_ea_dump = \"1. Energy Access Dump\"\n",
    "sheet_ea_passed = \"2. Energy Access(Passed)\"\n",
    "sheet_ea_bad = \"3. Energy Access(Bad)\"\n",
    "\n",
    "energy_access_day = pd.read_excel(sheet_url, sheet_ea_day)\n",
    "ea_dump = pd.read_excel(sheet_url, sheet_ea_dump)\n",
    "ea_passed = pd.read_excel(sheet_url, sheet_ea_passed)\n",
    "ea_bad = pd.read_excel(sheet_url, sheet_ea_bad)\n",
    "\n",
    "\n",
    "#sampling_numbers \n",
    "sampling_sheet = \"Sampling Numbers\"\n",
    "sampling_numbers = pd.read_excel(sheet_url, sampling_sheet)\n",
    "\n"
   ]
  },
  {
   "cell_type": "markdown",
   "metadata": {},
   "source": [
    "##### GENERATE METRICS"
   ]
  },
  {
   "cell_type": "code",
   "execution_count": 106,
   "metadata": {},
   "outputs": [],
   "source": [
    "##### data collection progress\n",
    "# Create Urban_Collected and Rural_Collected based on \"Area Description\"\n",
    "ea_passed[\"Urban_Collected\"] = (ea_passed[\"Area Description\"] == \"Urban\").astype(int)\n",
    "ea_passed[\"Rural_Collected\"] = (ea_passed[\"Area Description\"] == \"Rural\").astype(int)\n",
    "\n",
    "ea_passed = pd.DataFrame(ea_passed)\n",
    "\n",
    "# Group by State and LGA, sum Urban and Rural collected\n",
    "summary_collected = ea_passed.groupby([\"State\", \"LGA\"])[[\"Urban_Collected\", \"Rural_Collected\"]].sum().reset_index()\n"
   ]
  },
  {
   "cell_type": "code",
   "execution_count": 107,
   "metadata": {},
   "outputs": [],
   "source": [
    "# Outer Join on 'LGA'\n",
    "merged_collection_summ = pd.merge(sampling_numbers, summary_collected, on=['State', 'LGA'] , how='outer')\n",
    "\n",
    "merged_collection_summ.fillna(0, inplace=True)\n",
    "\n",
    "# Calculate Completion Percentage per LGA\n",
    "merged_collection_summ[\"Urban_Completion\"] = (merged_collection_summ[\"Urban_Collected\"] / merged_collection_summ[\"Urban_Target\"]) * 100\n",
    "merged_collection_summ[\"Rural_Completion\"] = (merged_collection_summ[\"Rural_Collected\"] / merged_collection_summ[\"Rural_Target\"]) * 100\n"
   ]
  },
  {
   "cell_type": "code",
   "execution_count": 108,
   "metadata": {},
   "outputs": [],
   "source": [
    "# Aggregate to State Level\n",
    "state_completion = merged_collection_summ.groupby(\"State\").agg(\n",
    "    Urban_Completion=(\"Urban_Completion\", \"mean\"),\n",
    "    Rural_Completion=(\"Rural_Completion\", \"mean\")\n",
    ").reset_index()\n",
    "\n",
    "# Calculate Overall Completion per State\n",
    "state_completion[\"Overall_Completion\"] = round((state_completion[\"Urban_Completion\"] + state_completion[\"Rural_Completion\"]) / 2,0)\n",
    "\n",
    "state_data = state_completion.copy()\n"
   ]
  },
  {
   "cell_type": "code",
   "execution_count": 109,
   "metadata": {},
   "outputs": [],
   "source": [
    "#### deficit to calculate percentage completion\n",
    "\n",
    "# Calculate the Deficit (Data not yet collected)\n",
    "merged_collection_summ[\"Urban_Deficit\"] = merged_collection_summ[\"Urban_Target\"] - merged_collection_summ[\"Urban_Collected\"]\n",
    "merged_collection_summ[\"Rural_Deficit\"] = merged_collection_summ[\"Rural_Target\"] - merged_collection_summ[\"Rural_Collected\"]\n",
    "\n",
    "# If collected >= target, set deficit to 0 (i.e., already completed)\n",
    "merged_collection_summ[\"Urban_Deficit\"] = merged_collection_summ[\"Urban_Deficit\"].apply(lambda x: x if x > 0 else 0)\n",
    "merged_collection_summ[\"Rural_Deficit\"] = merged_collection_summ[\"Rural_Deficit\"].apply(lambda x: x if x > 0 else 0)\n",
    "\n",
    "# Sum the deficits and targets across all states and LGAs\n",
    "total_urban_deficit = merged_collection_summ[\"Urban_Deficit\"].sum()\n",
    "total_rural_deficit = merged_collection_summ[\"Rural_Deficit\"].sum()\n",
    "\n",
    "total_urban_target = merged_collection_summ[\"Urban_Target\"].sum()\n",
    "total_rural_target = merged_collection_summ[\"Rural_Target\"].sum()\n",
    "\n",
    "# Total Deficit (Urban + Rural)\n",
    "total_deficit = total_urban_deficit + total_rural_deficit\n",
    "\n",
    "# Total Target (Urban + Rural)\n",
    "total_target = total_urban_target + total_rural_target\n",
    "\n",
    "# Overall Percentage Completion\n",
    "overall_completion = round((1 - (total_deficit / total_target)) * 100,2)\n",
    "perc_deficit =  round((100  - overall_completion), 2)"
   ]
  },
  {
   "cell_type": "code",
   "execution_count": 110,
   "metadata": {},
   "outputs": [],
   "source": [
    "############################################################################\n",
    "# completion date\n",
    "urban_target = sampling_numbers['Urban_Target'].sum()\n",
    "rural_target = sampling_numbers['Rural_Target'].sum()\n",
    "\n",
    "total_target = urban_target + rural_target \n",
    "\n",
    "current_total  = ea_passed.shape[0]"
   ]
  },
  {
   "cell_type": "code",
   "execution_count": 111,
   "metadata": {},
   "outputs": [],
   "source": [
    "# Assuming ea_passed is your DataFrame\n",
    "ea_passed['Timestamp'] = pd.to_datetime(ea_passed['Timestamp'], format='%m/%d/%Y %H:%M:%S')\n",
    "ea_passed['date'] = ea_passed['Timestamp'].dt.date\n",
    "\n",
    "# Daily collection count\n",
    "daily_collection_combined = ea_passed.groupby('date').size()\n",
    "\n",
    "# Average daily collection\n",
    "daily_avg_combined = round(daily_collection_combined.mean(), 0)\n",
    "\n",
    "# Exclude the latest date\n",
    "latest_date = daily_collection_combined.index.max()\n",
    "daily_collection_excluding_latest = daily_collection_combined[daily_collection_combined.index != latest_date]\n",
    "\n",
    "# Average daily collection (excluding the latest date)\n",
    "prev_daily_avg_combined = round(daily_collection_excluding_latest.mean(), 0)\n",
    "\n",
    "perc_inc_dec_avg_col = round((daily_avg_combined - prev_daily_avg_combined)/prev_daily_avg_combined * 100, 0)\n",
    "\n",
    "# Remaining surveys to be collected\n",
    "remaining_total = max(total_target - current_total, 0)\n",
    "\n",
    "# Calculate estimated completion time\n",
    "days_to_complete = remaining_total / daily_avg_combined  # if daily_avg_combined > 0 else float('inf')\n",
    "\n",
    "# Estimated completion date\n",
    "today = datetime.date.today()\n",
    "completion_date = today + datetime.timedelta(days=round(days_to_complete))"
   ]
  },
  {
   "cell_type": "code",
   "execution_count": 112,
   "metadata": {},
   "outputs": [],
   "source": [
    "completion_date_text = completion_date.strftime('%B-%d-%Y')\n",
    "\n",
    "expected_completion_date = \"March 4th, 2025\""
   ]
  },
  {
   "cell_type": "code",
   "execution_count": 113,
   "metadata": {},
   "outputs": [],
   "source": [
    "merged_collection_summ['Rural_Deficit'] = merged_collection_summ['Rural_Deficit'].round(0).astype(int)\n",
    "merged_collection_summ['Urban_Deficit'] = merged_collection_summ['Urban_Deficit'].round(0).astype(int)\n",
    "\n",
    "merged_collection_summ['Urban_Collected'] = merged_collection_summ['Urban_Collected'].round(0).astype(int)\n",
    "merged_collection_summ['Rural_Collected'] = merged_collection_summ['Rural_Collected'].round(0).astype(int)\n",
    "\n",
    "\n",
    "expander_data = merged_collection_summ[['State', 'LGA', 'Urban_Target', 'Rural_Target','Urban_Collected', 'Rural_Collected','Urban_Deficit', 'Rural_Deficit']]"
   ]
  },
  {
   "cell_type": "code",
   "execution_count": 114,
   "metadata": {},
   "outputs": [],
   "source": [
    "## GET ALL METRICS\n",
    "total_states = 37\n",
    "states_done = len(state_data[state_data['Overall_Completion'] >= 100])\n",
    "state_per_cmptd = round((states_done/total_states) *100, 2)\n",
    "states_visited = f\"{ea_passed['State'].nunique()} states visited\"\n"
   ]
  },
  {
   "cell_type": "code",
   "execution_count": 115,
   "metadata": {},
   "outputs": [],
   "source": [
    "# GOOD AND BAD DATA SUMMARY\n",
    "good_bad_summary = ea_dump.pivot_table(\n",
    "    index=\"State\",\n",
    "    columns=\"vista_remark\",\n",
    "    aggfunc=\"size\",\n",
    "    fill_value=0\n",
    ").reset_index()"
   ]
  },
  {
   "cell_type": "code",
   "execution_count": 116,
   "metadata": {},
   "outputs": [],
   "source": [
    "# Ensure \"Good\" and \"Bad\" columns are present even if some are missing\n",
    "if \"Good\" not in good_bad_summary.columns:\n",
    "    good_bad_summary[\"Good\"] = 0\n",
    "if \"Bad\" not in good_bad_summary.columns:\n",
    "    good_bad_summary[\"Bad\"] = 0"
   ]
  },
  {
   "cell_type": "code",
   "execution_count": 117,
   "metadata": {},
   "outputs": [],
   "source": [
    "# Reorder columns for readability\n",
    "good_bad_summary = good_bad_summary[['State', 'Good', 'Bad']]\n",
    "good_bad_summary.rename(columns={\"Good\": \"Clean Data\", \"Bad\": \"Inconsistent Data\"}, inplace=True)"
   ]
  },
  {
   "cell_type": "code",
   "execution_count": 118,
   "metadata": {},
   "outputs": [],
   "source": [
    "total_clean_records = good_bad_summary[\"Clean Data\"].sum()\n",
    "total_bad_records = good_bad_summary[\"Inconsistent Data\"].sum()"
   ]
  },
  {
   "cell_type": "code",
   "execution_count": null,
   "metadata": {},
   "outputs": [],
   "source": []
  },
  {
   "cell_type": "markdown",
   "metadata": {},
   "source": [
    "##### CREATE THE SINGLE DATAFRAME"
   ]
  },
  {
   "cell_type": "code",
   "execution_count": 119,
   "metadata": {},
   "outputs": [],
   "source": [
    "# generate  sinlge line df\n",
    "\n",
    "dashboard_single_df = pd.DataFrame({\n",
    "    'total_states' : [0],\n",
    "    'states_done' : [0],  \n",
    "    'state_per_cmptd' : [0],  \n",
    "    'states_visited' : [0],\n",
    "    'total_target' : [0],\n",
    "    'current_total' : [0],\n",
    "    'daily_avg_combined' :[0],\n",
    "    'perc_inc_dec_avg_col' : [0],\n",
    "    'expected_completion_date' :[0],\n",
    "    'completion_date_text' :[0],\n",
    "    'overall_completion' : [0],\n",
    "    'perc_deficit' : [0],\n",
    "    'total_clean_records' : [0],\n",
    "    'total_bad_records' : [0]\n",
    "})\n"
   ]
  },
  {
   "cell_type": "code",
   "execution_count": 120,
   "metadata": {},
   "outputs": [
    {
     "data": {
      "text/html": [
       "<div>\n",
       "<style scoped>\n",
       "    .dataframe tbody tr th:only-of-type {\n",
       "        vertical-align: middle;\n",
       "    }\n",
       "\n",
       "    .dataframe tbody tr th {\n",
       "        vertical-align: top;\n",
       "    }\n",
       "\n",
       "    .dataframe thead th {\n",
       "        text-align: right;\n",
       "    }\n",
       "</style>\n",
       "<table border=\"1\" class=\"dataframe\">\n",
       "  <thead>\n",
       "    <tr style=\"text-align: right;\">\n",
       "      <th></th>\n",
       "      <th>total_states</th>\n",
       "      <th>states_done</th>\n",
       "      <th>state_per_cmptd</th>\n",
       "      <th>states_visited</th>\n",
       "      <th>total_target</th>\n",
       "      <th>current_total</th>\n",
       "      <th>daily_avg_combined</th>\n",
       "      <th>perc_inc_dec_avg_col</th>\n",
       "      <th>expected_completion_date</th>\n",
       "      <th>completion_date_text</th>\n",
       "      <th>overall_completion</th>\n",
       "      <th>perc_deficit</th>\n",
       "    </tr>\n",
       "  </thead>\n",
       "  <tbody>\n",
       "    <tr>\n",
       "      <th>0</th>\n",
       "      <td>0</td>\n",
       "      <td>0</td>\n",
       "      <td>0</td>\n",
       "      <td>0</td>\n",
       "      <td>0</td>\n",
       "      <td>0</td>\n",
       "      <td>0</td>\n",
       "      <td>0</td>\n",
       "      <td>0</td>\n",
       "      <td>0</td>\n",
       "      <td>0</td>\n",
       "      <td>0</td>\n",
       "    </tr>\n",
       "  </tbody>\n",
       "</table>\n",
       "</div>"
      ],
      "text/plain": [
       "   total_states  states_done  state_per_cmptd  states_visited  total_target  \\\n",
       "0             0            0                0               0             0   \n",
       "\n",
       "   current_total  daily_avg_combined  perc_inc_dec_avg_col  \\\n",
       "0              0                   0                     0   \n",
       "\n",
       "   expected_completion_date  completion_date_text  overall_completion  \\\n",
       "0                         0                     0                   0   \n",
       "\n",
       "   perc_deficit  \n",
       "0             0  "
      ]
     },
     "execution_count": 120,
     "metadata": {},
     "output_type": "execute_result"
    }
   ],
   "source": [
    "dashboard_single_df.head()"
   ]
  },
  {
   "cell_type": "code",
   "execution_count": 121,
   "metadata": {},
   "outputs": [],
   "source": [
    "dashboard_single_df['total_states'] = total_states,\n",
    "dashboard_single_df['states_done'] = states_done,  \n",
    "dashboard_single_df['state_per_cmptd'] = state_per_cmptd,  \n",
    "dashboard_single_df['states_visited'] = states_visited  \n",
    "dashboard_single_df['total_target'] = total_target  \n",
    "dashboard_single_df['current_total'] = current_total\n",
    "dashboard_single_df['daily_avg_combined'] = daily_avg_combined.round(0).astype(int)\n",
    "dashboard_single_df['perc_inc_dec_avg_col'] = perc_inc_dec_avg_col.round(0).astype(int)\n",
    "dashboard_single_df['expected_completion_date'] = expected_completion_date\n",
    "dashboard_single_df['completion_date_text'] = completion_date_text\n",
    "dashboard_single_df['overall_completion'] = overall_completion\n",
    "dashboard_single_df['perc_deficit'] = perc_deficit\n",
    "dashboard_single_df['total_clean_records'] = total_clean_records\n",
    "dashboard_single_df['total_bad_records'] = total_bad_records"
   ]
  },
  {
   "cell_type": "code",
   "execution_count": 122,
   "metadata": {},
   "outputs": [],
   "source": [
    "dashboard_single_df.to_csv('../data/dashboard_data/dashboard_single_df.csv')"
   ]
  },
  {
   "cell_type": "code",
   "execution_count": 123,
   "metadata": {},
   "outputs": [
    {
     "name": "stdout",
     "output_type": "stream",
     "text": [
      "March-26-2025\n"
     ]
    }
   ],
   "source": [
    "print(dashboard_single_df['completion_date_text'][0])\n"
   ]
  },
  {
   "cell_type": "markdown",
   "metadata": {},
   "source": [
    "##### OTHER TABLE METRICS"
   ]
  },
  {
   "cell_type": "markdown",
   "metadata": {},
   "source": [
    "##### 1. GEOLOCATION"
   ]
  },
  {
   "cell_type": "code",
   "execution_count": 124,
   "metadata": {},
   "outputs": [],
   "source": [
    "# 1. GEOLOACATION\n",
    "\n",
    "# Ensure Geolocation is string and split into lat/lon\n",
    "ea_passed['Geolocation'] = ea_passed['Geolocation'].astype(str)\n",
    "ea_passed[['lat', 'lon']] = ea_passed['Geolocation'].str.split(',', expand=True)\n",
    "ea_passed['lat'] = pd.to_numeric(ea_passed['lat'], errors='coerce')\n",
    "ea_passed['lon'] = pd.to_numeric(ea_passed['lon'], errors='coerce')\n",
    "ea_passed = ea_passed.dropna(subset=['lat', 'lon'])"
   ]
  },
  {
   "cell_type": "code",
   "execution_count": 125,
   "metadata": {},
   "outputs": [],
   "source": [
    "geospatial_df = ea_passed[['State', 'LGA', 'lat', 'lon']]"
   ]
  },
  {
   "cell_type": "code",
   "execution_count": 126,
   "metadata": {},
   "outputs": [],
   "source": [
    "geospatial_df.to_csv('../data/dashboard_data/geospatial_df.csv')"
   ]
  },
  {
   "cell_type": "markdown",
   "metadata": {},
   "source": [
    "##### 2. STATE/LGA COMPLETION DATA"
   ]
  },
  {
   "cell_type": "code",
   "execution_count": 127,
   "metadata": {},
   "outputs": [],
   "source": [
    "state_data.to_csv('../data/dashboard_data/state_lga_completion_data.csv')"
   ]
  },
  {
   "cell_type": "markdown",
   "metadata": {},
   "source": [
    "##### 3. DATA QUALITY"
   ]
  },
  {
   "cell_type": "code",
   "execution_count": 128,
   "metadata": {},
   "outputs": [],
   "source": [
    "good_bad_summary.to_csv('../data/dashboard_data/data_quality_summary.csv')"
   ]
  },
  {
   "cell_type": "markdown",
   "metadata": {},
   "source": [
    "##### 4. DATA QUALITY"
   ]
  },
  {
   "cell_type": "code",
   "execution_count": 129,
   "metadata": {},
   "outputs": [],
   "source": [
    "expander_data.to_csv('../data/dashboard_data/expander_df.csv')"
   ]
  },
  {
   "cell_type": "code",
   "execution_count": null,
   "metadata": {},
   "outputs": [],
   "source": []
  }
 ],
 "metadata": {
  "kernelspec": {
   "display_name": "Python 3.12.4 64-bit",
   "language": "python",
   "name": "python3"
  },
  "language_info": {
   "codemirror_mode": {
    "name": "ipython",
    "version": 3
   },
   "file_extension": ".py",
   "mimetype": "text/x-python",
   "name": "python",
   "nbconvert_exporter": "python",
   "pygments_lexer": "ipython3",
   "version": "3.12.4"
  },
  "orig_nbformat": 4,
  "vscode": {
   "interpreter": {
    "hash": "a940ce198f1cec256b3c1d63fb015ac77894c8c2a48fdeb7eec9bef16754d937"
   }
  }
 },
 "nbformat": 4,
 "nbformat_minor": 2
}
