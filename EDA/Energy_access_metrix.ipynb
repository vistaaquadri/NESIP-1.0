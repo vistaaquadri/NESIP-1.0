{
 "cells": [
  {
   "cell_type": "code",
   "execution_count": 44,
   "metadata": {},
   "outputs": [],
   "source": [
    "import pandas as pd\n",
    "import numpy as np"
   ]
  },
  {
   "cell_type": "code",
   "execution_count": 2,
   "metadata": {},
   "outputs": [],
   "source": [
    "#read data \n",
    "\n",
    "#sheet_url = \"../../NESIP_FIELD_DATA/data.xlsx\"\n",
    "\n",
    "#sheet_ea_passed = \"2. Energy Access(Passed)\"\n",
    "\n",
    "#ea_passed = pd.read_excel(sheet_url, sheet_ea_passed)\n"
   ]
  },
  {
   "cell_type": "code",
   "execution_count": 3,
   "metadata": {},
   "outputs": [],
   "source": [
    "# Read data\n",
    "sheet_url = \"../../NESIP_FIELD_DATA/data.xlsx\"\n",
    "\n",
    "sheet_ea_passed = \"2. Energy Access(Passed)\"\n",
    "\n",
    "# Load the sheet into a DataFrame\n",
    "energy_access_data = pd.read_excel(sheet_url, sheet_name=sheet_ea_passed, dtype=str)\n"
   ]
  },
  {
   "cell_type": "markdown",
   "metadata": {},
   "source": [
    "#### 1. Capacity"
   ]
  },
  {
   "cell_type": "markdown",
   "metadata": {},
   "source": [
    "#### 2. Availability"
   ]
  },
  {
   "cell_type": "markdown",
   "metadata": {},
   "source": [
    "#### 3. Reliability"
   ]
  },
  {
   "cell_type": "markdown",
   "metadata": {},
   "source": [
    "#### 4. Quality"
   ]
  },
  {
   "cell_type": "code",
   "execution_count": 68,
   "metadata": {},
   "outputs": [],
   "source": [
    "# Function to determine the tier\n",
    "def map_quality(row):\n",
    "    challenges = row[\"2R. If yes, what are the main challenges you face with your primary electricity source? (Outages, cost, low voltage, etc.)\"]\n",
    "    quality = row[\"2U. How would you describe the quality of energy supply to your household\"]\n",
    "    \n",
    "    if pd.isna(challenges) or pd.isna(quality) or (challenges.strip() == \"\" and quality.strip() == \"\"):\n",
    "        return \"No Tier\"\n",
    "    \n",
    "    if \"Low Voltage\" in challenges:\n",
    "        if quality == \"Good quality of energy supply, Voltage does not affect use of appliances\":\n",
    "            return \"Tier 2\"\n",
    "\n",
    "    if quality == \"Good quality of energy supply, Voltage does not affect use of appliances\":\n",
    "        return \"Tier 3 / Tier 4 / Tier 5\"\n",
    "    \n",
    "    if quality == \"Poor Quality (Damages or cannot operate appliances)\":\n",
    "        return \"Tier 0 / Tier 1\"\n",
    "\n",
    "    return \"No Tier\"\n",
    "\n"
   ]
  },
  {
   "cell_type": "code",
   "execution_count": 69,
   "metadata": {},
   "outputs": [
    {
     "ename": "KeyError",
     "evalue": "'2R. If yes, what are the main challenges you face with your primary electricity source? (Outages, cost, low voltage, etc.)'",
     "output_type": "error",
     "traceback": [
      "\u001b[1;31m---------------------------------------------------------------------------\u001b[0m",
      "\u001b[1;31mKeyError\u001b[0m                                  Traceback (most recent call last)",
      "File \u001b[1;32mc:\\Users\\Vista\\AppData\\Local\\Programs\\Python\\Python312\\Lib\\site-packages\\pandas\\core\\indexes\\base.py:3805\u001b[0m, in \u001b[0;36mIndex.get_loc\u001b[1;34m(self, key)\u001b[0m\n\u001b[0;32m   3804\u001b[0m \u001b[39mtry\u001b[39;00m:\n\u001b[1;32m-> 3805\u001b[0m     \u001b[39mreturn\u001b[39;00m \u001b[39mself\u001b[39;49m\u001b[39m.\u001b[39;49m_engine\u001b[39m.\u001b[39;49mget_loc(casted_key)\n\u001b[0;32m   3806\u001b[0m \u001b[39mexcept\u001b[39;00m \u001b[39mKeyError\u001b[39;00m \u001b[39mas\u001b[39;00m err:\n",
      "File \u001b[1;32mindex.pyx:167\u001b[0m, in \u001b[0;36mpandas._libs.index.IndexEngine.get_loc\u001b[1;34m()\u001b[0m\n",
      "File \u001b[1;32mindex.pyx:196\u001b[0m, in \u001b[0;36mpandas._libs.index.IndexEngine.get_loc\u001b[1;34m()\u001b[0m\n",
      "File \u001b[1;32mpandas\\\\_libs\\\\hashtable_class_helper.pxi:7081\u001b[0m, in \u001b[0;36mpandas._libs.hashtable.PyObjectHashTable.get_item\u001b[1;34m()\u001b[0m\n",
      "File \u001b[1;32mpandas\\\\_libs\\\\hashtable_class_helper.pxi:7089\u001b[0m, in \u001b[0;36mpandas._libs.hashtable.PyObjectHashTable.get_item\u001b[1;34m()\u001b[0m\n",
      "\u001b[1;31mKeyError\u001b[0m: '2R. If yes, what are the main challenges you face with your primary electricity source? (Outages, cost, low voltage, etc.)'",
      "\nThe above exception was the direct cause of the following exception:\n",
      "\u001b[1;31mKeyError\u001b[0m                                  Traceback (most recent call last)",
      "Cell \u001b[1;32mIn[69], line 2\u001b[0m\n\u001b[0;32m      1\u001b[0m \u001b[38;5;66;03m# Apply transformation\u001b[39;00m\n\u001b[1;32m----> 2\u001b[0m energy_access_data[\u001b[38;5;124m\"\u001b[39m\u001b[38;5;124mQuality\u001b[39m\u001b[38;5;124m\"\u001b[39m] \u001b[38;5;241m=\u001b[39m \u001b[43menergy_access_data\u001b[49m\u001b[38;5;241;43m.\u001b[39;49m\u001b[43mapply\u001b[49m\u001b[43m(\u001b[49m\u001b[43mmap_quality\u001b[49m\u001b[43m,\u001b[49m\u001b[43m \u001b[49m\u001b[43maxis\u001b[49m\u001b[38;5;241;43m=\u001b[39;49m\u001b[38;5;241;43m1\u001b[39;49m\u001b[43m)\u001b[49m\n\u001b[0;32m      4\u001b[0m \u001b[38;5;66;03m# Display the first few rows to verify\u001b[39;00m\n\u001b[0;32m      5\u001b[0m \u001b[38;5;28mprint\u001b[39m(energy_access_data[[\u001b[38;5;124m\"\u001b[39m\u001b[38;5;124mQuality\u001b[39m\u001b[38;5;124m\"\u001b[39m]]\u001b[38;5;241m.\u001b[39mhead())\n",
      "File \u001b[1;32mc:\\Users\\Vista\\AppData\\Local\\Programs\\Python\\Python312\\Lib\\site-packages\\pandas\\core\\frame.py:10374\u001b[0m, in \u001b[0;36mDataFrame.apply\u001b[1;34m(self, func, axis, raw, result_type, args, by_row, engine, engine_kwargs, **kwargs)\u001b[0m\n\u001b[0;32m  10360\u001b[0m \u001b[39mfrom\u001b[39;00m \u001b[39mpandas\u001b[39;00m\u001b[39m.\u001b[39;00m\u001b[39mcore\u001b[39;00m\u001b[39m.\u001b[39;00m\u001b[39mapply\u001b[39;00m \u001b[39mimport\u001b[39;00m frame_apply\n\u001b[0;32m  10362\u001b[0m op \u001b[39m=\u001b[39m frame_apply(\n\u001b[0;32m  10363\u001b[0m     \u001b[39mself\u001b[39m,\n\u001b[0;32m  10364\u001b[0m     func\u001b[39m=\u001b[39mfunc,\n\u001b[1;32m   (...)\u001b[0m\n\u001b[0;32m  10372\u001b[0m     kwargs\u001b[39m=\u001b[39mkwargs,\n\u001b[0;32m  10373\u001b[0m )\n\u001b[1;32m> 10374\u001b[0m \u001b[39mreturn\u001b[39;00m op\u001b[39m.\u001b[39;49mapply()\u001b[39m.\u001b[39m__finalize__(\u001b[39mself\u001b[39m, method\u001b[39m=\u001b[39m\u001b[39m\"\u001b[39m\u001b[39mapply\u001b[39m\u001b[39m\"\u001b[39m)\n",
      "File \u001b[1;32mc:\\Users\\Vista\\AppData\\Local\\Programs\\Python\\Python312\\Lib\\site-packages\\pandas\\core\\apply.py:916\u001b[0m, in \u001b[0;36mFrameApply.apply\u001b[1;34m(self)\u001b[0m\n\u001b[0;32m    913\u001b[0m \u001b[39melif\u001b[39;00m \u001b[39mself\u001b[39m\u001b[39m.\u001b[39mraw:\n\u001b[0;32m    914\u001b[0m     \u001b[39mreturn\u001b[39;00m \u001b[39mself\u001b[39m\u001b[39m.\u001b[39mapply_raw(engine\u001b[39m=\u001b[39m\u001b[39mself\u001b[39m\u001b[39m.\u001b[39mengine, engine_kwargs\u001b[39m=\u001b[39m\u001b[39mself\u001b[39m\u001b[39m.\u001b[39mengine_kwargs)\n\u001b[1;32m--> 916\u001b[0m \u001b[39mreturn\u001b[39;00m \u001b[39mself\u001b[39;49m\u001b[39m.\u001b[39;49mapply_standard()\n",
      "File \u001b[1;32mc:\\Users\\Vista\\AppData\\Local\\Programs\\Python\\Python312\\Lib\\site-packages\\pandas\\core\\apply.py:1063\u001b[0m, in \u001b[0;36mFrameApply.apply_standard\u001b[1;34m(self)\u001b[0m\n\u001b[0;32m   1061\u001b[0m \u001b[39mdef\u001b[39;00m \u001b[39mapply_standard\u001b[39m(\u001b[39mself\u001b[39m):\n\u001b[0;32m   1062\u001b[0m     \u001b[39mif\u001b[39;00m \u001b[39mself\u001b[39m\u001b[39m.\u001b[39mengine \u001b[39m==\u001b[39m \u001b[39m\"\u001b[39m\u001b[39mpython\u001b[39m\u001b[39m\"\u001b[39m:\n\u001b[1;32m-> 1063\u001b[0m         results, res_index \u001b[39m=\u001b[39m \u001b[39mself\u001b[39;49m\u001b[39m.\u001b[39;49mapply_series_generator()\n\u001b[0;32m   1064\u001b[0m     \u001b[39melse\u001b[39;00m:\n\u001b[0;32m   1065\u001b[0m         results, res_index \u001b[39m=\u001b[39m \u001b[39mself\u001b[39m\u001b[39m.\u001b[39mapply_series_numba()\n",
      "File \u001b[1;32mc:\\Users\\Vista\\AppData\\Local\\Programs\\Python\\Python312\\Lib\\site-packages\\pandas\\core\\apply.py:1081\u001b[0m, in \u001b[0;36mFrameApply.apply_series_generator\u001b[1;34m(self)\u001b[0m\n\u001b[0;32m   1078\u001b[0m \u001b[39mwith\u001b[39;00m option_context(\u001b[39m\"\u001b[39m\u001b[39mmode.chained_assignment\u001b[39m\u001b[39m\"\u001b[39m, \u001b[39mNone\u001b[39;00m):\n\u001b[0;32m   1079\u001b[0m     \u001b[39mfor\u001b[39;00m i, v \u001b[39min\u001b[39;00m \u001b[39menumerate\u001b[39m(series_gen):\n\u001b[0;32m   1080\u001b[0m         \u001b[39m# ignore SettingWithCopy here in case the user mutates\u001b[39;00m\n\u001b[1;32m-> 1081\u001b[0m         results[i] \u001b[39m=\u001b[39m \u001b[39mself\u001b[39;49m\u001b[39m.\u001b[39;49mfunc(v, \u001b[39m*\u001b[39;49m\u001b[39mself\u001b[39;49m\u001b[39m.\u001b[39;49margs, \u001b[39m*\u001b[39;49m\u001b[39m*\u001b[39;49m\u001b[39mself\u001b[39;49m\u001b[39m.\u001b[39;49mkwargs)\n\u001b[0;32m   1082\u001b[0m         \u001b[39mif\u001b[39;00m \u001b[39misinstance\u001b[39m(results[i], ABCSeries):\n\u001b[0;32m   1083\u001b[0m             \u001b[39m# If we have a view on v, we need to make a copy because\u001b[39;00m\n\u001b[0;32m   1084\u001b[0m             \u001b[39m#  series_generator will swap out the underlying data\u001b[39;00m\n\u001b[0;32m   1085\u001b[0m             results[i] \u001b[39m=\u001b[39m results[i]\u001b[39m.\u001b[39mcopy(deep\u001b[39m=\u001b[39m\u001b[39mFalse\u001b[39;00m)\n",
      "Cell \u001b[1;32mIn[68], line 3\u001b[0m, in \u001b[0;36mmap_quality\u001b[1;34m(row)\u001b[0m\n\u001b[0;32m      2\u001b[0m \u001b[38;5;28;01mdef\u001b[39;00m \u001b[38;5;21mmap_quality\u001b[39m(row):\n\u001b[1;32m----> 3\u001b[0m     challenges \u001b[38;5;241m=\u001b[39m \u001b[43mrow\u001b[49m\u001b[43m[\u001b[49m\u001b[38;5;124;43m\"\u001b[39;49m\u001b[38;5;124;43m2R. If yes, what are the main challenges you face with your primary electricity source? (Outages, cost, low voltage, etc.)\u001b[39;49m\u001b[38;5;124;43m\"\u001b[39;49m\u001b[43m]\u001b[49m\n\u001b[0;32m      4\u001b[0m     quality \u001b[38;5;241m=\u001b[39m row[\u001b[38;5;124m\"\u001b[39m\u001b[38;5;124m2U. How would you describe the quality of energy supply to your household\u001b[39m\u001b[38;5;124m\"\u001b[39m]\n\u001b[0;32m      6\u001b[0m     \u001b[38;5;28;01mif\u001b[39;00m pd\u001b[38;5;241m.\u001b[39misna(challenges) \u001b[38;5;129;01mor\u001b[39;00m pd\u001b[38;5;241m.\u001b[39misna(quality) \u001b[38;5;129;01mor\u001b[39;00m (challenges\u001b[38;5;241m.\u001b[39mstrip() \u001b[38;5;241m==\u001b[39m \u001b[38;5;124m\"\u001b[39m\u001b[38;5;124m\"\u001b[39m \u001b[38;5;129;01mand\u001b[39;00m quality\u001b[38;5;241m.\u001b[39mstrip() \u001b[38;5;241m==\u001b[39m \u001b[38;5;124m\"\u001b[39m\u001b[38;5;124m\"\u001b[39m):\n",
      "File \u001b[1;32mc:\\Users\\Vista\\AppData\\Local\\Programs\\Python\\Python312\\Lib\\site-packages\\pandas\\core\\series.py:1121\u001b[0m, in \u001b[0;36mSeries.__getitem__\u001b[1;34m(self, key)\u001b[0m\n\u001b[0;32m   1118\u001b[0m     \u001b[39mreturn\u001b[39;00m \u001b[39mself\u001b[39m\u001b[39m.\u001b[39m_values[key]\n\u001b[0;32m   1120\u001b[0m \u001b[39melif\u001b[39;00m key_is_scalar:\n\u001b[1;32m-> 1121\u001b[0m     \u001b[39mreturn\u001b[39;00m \u001b[39mself\u001b[39;49m\u001b[39m.\u001b[39;49m_get_value(key)\n\u001b[0;32m   1123\u001b[0m \u001b[39m# Convert generator to list before going through hashable part\u001b[39;00m\n\u001b[0;32m   1124\u001b[0m \u001b[39m# (We will iterate through the generator there to check for slices)\u001b[39;00m\n\u001b[0;32m   1125\u001b[0m \u001b[39mif\u001b[39;00m is_iterator(key):\n",
      "File \u001b[1;32mc:\\Users\\Vista\\AppData\\Local\\Programs\\Python\\Python312\\Lib\\site-packages\\pandas\\core\\series.py:1237\u001b[0m, in \u001b[0;36mSeries._get_value\u001b[1;34m(self, label, takeable)\u001b[0m\n\u001b[0;32m   1234\u001b[0m     \u001b[39mreturn\u001b[39;00m \u001b[39mself\u001b[39m\u001b[39m.\u001b[39m_values[label]\n\u001b[0;32m   1236\u001b[0m \u001b[39m# Similar to Index.get_value, but we do not fall back to positional\u001b[39;00m\n\u001b[1;32m-> 1237\u001b[0m loc \u001b[39m=\u001b[39m \u001b[39mself\u001b[39;49m\u001b[39m.\u001b[39;49mindex\u001b[39m.\u001b[39;49mget_loc(label)\n\u001b[0;32m   1239\u001b[0m \u001b[39mif\u001b[39;00m is_integer(loc):\n\u001b[0;32m   1240\u001b[0m     \u001b[39mreturn\u001b[39;00m \u001b[39mself\u001b[39m\u001b[39m.\u001b[39m_values[loc]\n",
      "File \u001b[1;32mc:\\Users\\Vista\\AppData\\Local\\Programs\\Python\\Python312\\Lib\\site-packages\\pandas\\core\\indexes\\base.py:3812\u001b[0m, in \u001b[0;36mIndex.get_loc\u001b[1;34m(self, key)\u001b[0m\n\u001b[0;32m   3807\u001b[0m     \u001b[39mif\u001b[39;00m \u001b[39misinstance\u001b[39m(casted_key, \u001b[39mslice\u001b[39m) \u001b[39mor\u001b[39;00m (\n\u001b[0;32m   3808\u001b[0m         \u001b[39misinstance\u001b[39m(casted_key, abc\u001b[39m.\u001b[39mIterable)\n\u001b[0;32m   3809\u001b[0m         \u001b[39mand\u001b[39;00m \u001b[39many\u001b[39m(\u001b[39misinstance\u001b[39m(x, \u001b[39mslice\u001b[39m) \u001b[39mfor\u001b[39;00m x \u001b[39min\u001b[39;00m casted_key)\n\u001b[0;32m   3810\u001b[0m     ):\n\u001b[0;32m   3811\u001b[0m         \u001b[39mraise\u001b[39;00m InvalidIndexError(key)\n\u001b[1;32m-> 3812\u001b[0m     \u001b[39mraise\u001b[39;00m \u001b[39mKeyError\u001b[39;00m(key) \u001b[39mfrom\u001b[39;00m \u001b[39merr\u001b[39;00m\n\u001b[0;32m   3813\u001b[0m \u001b[39mexcept\u001b[39;00m \u001b[39mTypeError\u001b[39;00m:\n\u001b[0;32m   3814\u001b[0m     \u001b[39m# If we have a listlike key, _check_indexing_error will raise\u001b[39;00m\n\u001b[0;32m   3815\u001b[0m     \u001b[39m#  InvalidIndexError. Otherwise we fall through and re-raise\u001b[39;00m\n\u001b[0;32m   3816\u001b[0m     \u001b[39m#  the TypeError.\u001b[39;00m\n\u001b[0;32m   3817\u001b[0m     \u001b[39mself\u001b[39m\u001b[39m.\u001b[39m_check_indexing_error(key)\n",
      "\u001b[1;31mKeyError\u001b[0m: '2R. If yes, what are the main challenges you face with your primary electricity source? (Outages, cost, low voltage, etc.)'"
     ]
    }
   ],
   "source": [
    "# Apply transformation\n",
    "energy_access_data[\"Quality\"] = energy_access_data.apply(map_quality, axis=1)\n",
    "\n",
    "# Display the first few rows to verify\n",
    "print(energy_access_data[[\"Quality\"]].head())\n"
   ]
  },
  {
   "cell_type": "markdown",
   "metadata": {},
   "source": [
    "##### 5. Affordability"
   ]
  },
  {
   "cell_type": "code",
   "execution_count": 52,
   "metadata": {},
   "outputs": [],
   "source": [
    "# Convert numerical column to numeric type, forcing errors to NaN for empty values\n",
    "energy_access_data[\"2P. how much do you pay for the primary source of electricity for the period mentioned earlier? (Exact Amount Specified n ₦)\"] = pd.to_numeric(\n",
    "    energy_access_data[\"2P. how much do you pay for the primary source of electricity for the period mentioned earlier? (Exact Amount Specified n ₦)\"], errors=\"coerce\"\n",
    ")\n",
    "\n",
    "# Mapping of frequency to yearly multiplier\n",
    "multipliers = {\n",
    "    \"Daily\": 365,\n",
    "    \"Weekly\": 52,\n",
    "    \"Bi-Weekly\": 26,\n",
    "    \"Monthly\": 12,\n",
    "    \"Quarterly\": 4,\n",
    "    \"Yearly\": 1\n",
    "}\n",
    "\n",
    "# Compute yearly and monthly payments, keeping NaNs\n",
    "energy_access_data[\"yearly grid payment\"] = energy_access_data[\"2N. How often do you pay for the primary source of energy?\"].map(multipliers) * energy_access_data[\"2P. how much do you pay for the primary source of electricity for the period mentioned earlier? (Exact Amount Specified n ₦)\"]\n",
    "energy_access_data[\"monthly grid payment\"] = energy_access_data[\"yearly grid payment\"] / 12  # Convert yearly to monthly\n"
   ]
  },
  {
   "cell_type": "code",
   "execution_count": 57,
   "metadata": {},
   "outputs": [
    {
     "data": {
      "text/plain": [
       "0     8666.666667\n",
       "1             NaN\n",
       "2    12000.000000\n",
       "3     5000.000000\n",
       "4     2000.000000\n",
       "Name: monthly grid payment, dtype: float64"
      ]
     },
     "execution_count": 57,
     "metadata": {},
     "output_type": "execute_result"
    }
   ],
   "source": [
    "energy_access_data[\"1L(iii). What is your total monthly household income?, Specify in ₦.\"] = pd.to_numeric(energy_access_data[\"1L(iii). What is your total monthly household income?, Specify in ₦.\"], errors=\"coerce\")\n",
    "\n",
    "energy_access_data[\"monthly grid payment\"].head()"
   ]
  },
  {
   "cell_type": "code",
   "execution_count": 56,
   "metadata": {},
   "outputs": [],
   "source": [
    "# Function to determine \"Legality\"\n",
    "def determine_affordability(monthly_pay, monthly_allowance):\n",
    "    if monthly_pay >= (0.15 * monthly_allowance):\n",
    "        return \"Tier 0 / Tier 1\"\n",
    "    elif monthly_pay < (0.15 * monthly_allowance):\n",
    "        return \"Tier 2 / Tier 3 / Tier 4 / Tier 5\"\n",
    "    else:\n",
    "        return \"No Tier\"  # Return blank if none of the conditions match"
   ]
  },
  {
   "cell_type": "code",
   "execution_count": 59,
   "metadata": {},
   "outputs": [
    {
     "name": "stdout",
     "output_type": "stream",
     "text": [
      "                       Affordability\n",
      "0  Tier 2 / Tier 3 / Tier 4 / Tier 5\n",
      "1                            No Tier\n",
      "2  Tier 2 / Tier 3 / Tier 4 / Tier 5\n",
      "3  Tier 2 / Tier 3 / Tier 4 / Tier 5\n",
      "4  Tier 2 / Tier 3 / Tier 4 / Tier 5\n"
     ]
    }
   ],
   "source": [
    "monthly_grid_spend = \"monthly grid payment\"\n",
    "household_income = \"1L(iii). What is your total monthly household income?, Specify in ₦.\"\n",
    "\n",
    "# Apply function to create \"Legality\" column\n",
    "energy_access_data[\"Affordability\"] = energy_access_data.apply(\n",
    "    lambda row: determine_affordability(row[monthly_grid_spend], row[household_income]), axis=1\n",
    ")\n",
    "\n",
    "# Display the first few rows to verify\n",
    "print(energy_access_data[[\"Affordability\"]].head())"
   ]
  },
  {
   "cell_type": "markdown",
   "metadata": {},
   "source": [
    "#### 5. Legality"
   ]
  },
  {
   "cell_type": "code",
   "execution_count": 21,
   "metadata": {},
   "outputs": [],
   "source": [
    "# Column names\n",
    "metered_col = \"5D. Are you metered?\"\n",
    "payment_col = \"5E. If not metered, How do you pay for electricity?\"\n"
   ]
  },
  {
   "cell_type": "code",
   "execution_count": 22,
   "metadata": {},
   "outputs": [],
   "source": [
    "# Clean and normalize the data\n",
    "energy_access_data[metered_col] = energy_access_data[metered_col].astype(str).str.strip().str.lower()\n",
    "energy_access_data[payment_col] = energy_access_data[payment_col].astype(str).str.strip().str.lower()"
   ]
  },
  {
   "cell_type": "code",
   "execution_count": 30,
   "metadata": {},
   "outputs": [],
   "source": [
    "# Function to determine \"Legality\"\n",
    "def determine_legality(metered, payment):\n",
    "    if metered in [\"yes, with a prepaid meter\", \"yes, with a postpaid meter\"]:\n",
    "        return \"Tier 1 / Tier 2 / Tier 3 / Tier 4 / Tier 5\"\n",
    "    elif payment in [\n",
    "        \"through community billing arrangements (e.g., shared connections in the neighborhood)\",\n",
    "        \"through a flat rate or estimated billing system provided by the electricity company\"\n",
    "    ]:\n",
    "        return \"Tier 1 / Tier 2 / Tier 3 / Tier 4 / Tier 5\"\n",
    "    elif payment == \"do not pay for electricity\":\n",
    "        return \"Tier 0\"\n",
    "    else:\n",
    "        return \"No Tier\"  # Return blank if none of the conditions match"
   ]
  },
  {
   "cell_type": "code",
   "execution_count": 31,
   "metadata": {},
   "outputs": [
    {
     "name": "stdout",
     "output_type": "stream",
     "text": [
      "                                      Legality\n",
      "0   Tier 1 / Tier 2 / Tier 3 / Tier 4 / Tier 5\n",
      "1                                      No Tier\n",
      "2   Tier 1 / Tier 2 / Tier 3 / Tier 4 / Tier 5\n",
      "3   Tier 1 / Tier 2 / Tier 3 / Tier 4 / Tier 5\n",
      "4   Tier 1 / Tier 2 / Tier 3 / Tier 4 / Tier 5\n",
      "5                                      No Tier\n",
      "6                                      No Tier\n",
      "7   Tier 1 / Tier 2 / Tier 3 / Tier 4 / Tier 5\n",
      "8   Tier 1 / Tier 2 / Tier 3 / Tier 4 / Tier 5\n",
      "9                                      No Tier\n",
      "10  Tier 1 / Tier 2 / Tier 3 / Tier 4 / Tier 5\n",
      "11  Tier 1 / Tier 2 / Tier 3 / Tier 4 / Tier 5\n",
      "12                                     No Tier\n",
      "13  Tier 1 / Tier 2 / Tier 3 / Tier 4 / Tier 5\n",
      "14  Tier 1 / Tier 2 / Tier 3 / Tier 4 / Tier 5\n",
      "15  Tier 1 / Tier 2 / Tier 3 / Tier 4 / Tier 5\n",
      "16                                     No Tier\n",
      "17  Tier 1 / Tier 2 / Tier 3 / Tier 4 / Tier 5\n",
      "18                                     No Tier\n",
      "19  Tier 1 / Tier 2 / Tier 3 / Tier 4 / Tier 5\n"
     ]
    }
   ],
   "source": [
    "# Apply function to create \"Legality\" column\n",
    "energy_access_data[\"Legality\"] = energy_access_data.apply(\n",
    "    lambda row: determine_legality(row[metered_col], row[payment_col]), axis=1\n",
    ")\n",
    "\n",
    "# Display the first few rows to verify\n",
    "print(energy_access_data[[\"Legality\"]].head(20))\n"
   ]
  },
  {
   "cell_type": "markdown",
   "metadata": {},
   "source": [
    "#### 6. Health and Safety"
   ]
  },
  {
   "cell_type": "code",
   "execution_count": 32,
   "metadata": {},
   "outputs": [],
   "source": [
    "# Column name\n",
    "col_name = \"6B. Have you or anyone in your household experienced an incident caused by an electricity connection (e.g., shock, fire)?\"\n",
    "\n",
    "# Clean and normalize values\n",
    "energy_access_data[col_name] = (\n",
    "    energy_access_data[col_name]\n",
    "    .str.strip()  # Remove leading/trailing spaces\n",
    "    .str.lower()  # Convert to lowercase for consistency\n",
    ")"
   ]
  },
  {
   "cell_type": "code",
   "execution_count": 33,
   "metadata": {},
   "outputs": [],
   "source": [
    "# Mapping function\n",
    "def map_health_safety(value):\n",
    "    if value == \"true\":\n",
    "        return \"Tier 0 / Tier 1 / Tier 2 / Tier 3\"\n",
    "    elif value == \"false\":\n",
    "        return \"Tier 4 / Tier 5\"\n",
    "    else:\n",
    "        return \"No Tier\"  # Keep NaN as an empty string"
   ]
  },
  {
   "cell_type": "code",
   "execution_count": 34,
   "metadata": {},
   "outputs": [
    {
     "name": "stdout",
     "output_type": "stream",
     "text": [
      "  Health and Safety\n",
      "0   Tier 4 / Tier 5\n",
      "1           No Tier\n",
      "2   Tier 4 / Tier 5\n",
      "3   Tier 4 / Tier 5\n",
      "4   Tier 4 / Tier 5\n"
     ]
    }
   ],
   "source": [
    "# Apply transformation\n",
    "energy_access_data[\"Health and Safety\"] = energy_access_data[col_name].apply(map_health_safety)\n",
    "\n",
    "# Display the first few rows to verify\n",
    "print(energy_access_data[[\"Health and Safety\"]].head())\n"
   ]
  },
  {
   "cell_type": "code",
   "execution_count": null,
   "metadata": {},
   "outputs": [],
   "source": []
  },
  {
   "cell_type": "markdown",
   "metadata": {},
   "source": [
    "##### Dashboard Analysis - PER HOUSEHOLD"
   ]
  },
  {
   "cell_type": "code",
   "execution_count": 35,
   "metadata": {},
   "outputs": [],
   "source": [
    "# Create an empty DataFrame\n",
    "per_household_summary = pd.DataFrame()"
   ]
  },
  {
   "cell_type": "markdown",
   "metadata": {},
   "source": [
    "##### 1. State and LGA"
   ]
  },
  {
   "cell_type": "code",
   "execution_count": 36,
   "metadata": {},
   "outputs": [
    {
     "name": "stdout",
     "output_type": "stream",
     "text": [
      "         State                LGA\n",
      "0  Cross River  Calabar Municipal\n",
      "1  Cross River  Calabar Municipal\n",
      "2        Delta      Ughelli North\n",
      "3      Bayelsa              Nembe\n",
      "4  Cross River  Calabar Municipal\n"
     ]
    }
   ],
   "source": [
    "# Assign specific columns (with their values)\n",
    "per_household_summary['State'] = energy_access_data['State']\n",
    "per_household_summary['LGA'] = energy_access_data['LGA']\n",
    "\n",
    "print(per_household_summary.head())\n"
   ]
  },
  {
   "cell_type": "markdown",
   "metadata": {},
   "source": [
    "##### 2. Health and Safety"
   ]
  },
  {
   "cell_type": "code",
   "execution_count": 37,
   "metadata": {},
   "outputs": [
    {
     "name": "stdout",
     "output_type": "stream",
     "text": [
      "         State                LGA Health and Safety\n",
      "0  Cross River  Calabar Municipal   Tier 4 / Tier 5\n",
      "1  Cross River  Calabar Municipal           No Tier\n",
      "2        Delta      Ughelli North   Tier 4 / Tier 5\n",
      "3      Bayelsa              Nembe   Tier 4 / Tier 5\n",
      "4  Cross River  Calabar Municipal   Tier 4 / Tier 5\n"
     ]
    }
   ],
   "source": [
    "# Assign specific columns (with their values)\n",
    "per_household_summary['Health and Safety'] = energy_access_data['Health and Safety']\n",
    "\n",
    "print(per_household_summary.head())\n"
   ]
  },
  {
   "cell_type": "markdown",
   "metadata": {},
   "source": [
    "##### 3. Legality"
   ]
  },
  {
   "cell_type": "code",
   "execution_count": 38,
   "metadata": {},
   "outputs": [
    {
     "name": "stdout",
     "output_type": "stream",
     "text": [
      "0    Tier 1 / Tier 2 / Tier 3 / Tier 4 / Tier 5\n",
      "1                                       No Tier\n",
      "2    Tier 1 / Tier 2 / Tier 3 / Tier 4 / Tier 5\n",
      "3    Tier 1 / Tier 2 / Tier 3 / Tier 4 / Tier 5\n",
      "4    Tier 1 / Tier 2 / Tier 3 / Tier 4 / Tier 5\n",
      "Name: Legality, dtype: object\n"
     ]
    }
   ],
   "source": [
    "# Assign specific columns (with their values)\n",
    "per_household_summary['Legality'] = energy_access_data['Legality']\n",
    "\n",
    "print(per_household_summary['Legality'].head())\n"
   ]
  },
  {
   "cell_type": "markdown",
   "metadata": {},
   "source": [
    "##### 4. Affordability"
   ]
  },
  {
   "cell_type": "code",
   "execution_count": null,
   "metadata": {},
   "outputs": [],
   "source": [
    "# Cost of standard consumption package is less than 15% of household income per year\n",
    "\n",
    "2N. How often do you pay for the primary source of energy?\t   \n",
    "2P. how much do you pay for the primary source of electricity for the period mentioned earlier? (Exact Amount Specified n ₦)"
   ]
  },
  {
   "cell_type": "code",
   "execution_count": null,
   "metadata": {},
   "outputs": [],
   "source": []
  }
 ],
 "metadata": {
  "kernelspec": {
   "display_name": "Python 3.12.4 64-bit",
   "language": "python",
   "name": "python3"
  },
  "language_info": {
   "codemirror_mode": {
    "name": "ipython",
    "version": 3
   },
   "file_extension": ".py",
   "mimetype": "text/x-python",
   "name": "python",
   "nbconvert_exporter": "python",
   "pygments_lexer": "ipython3",
   "version": "3.12.4"
  },
  "orig_nbformat": 4,
  "vscode": {
   "interpreter": {
    "hash": "a940ce198f1cec256b3c1d63fb015ac77894c8c2a48fdeb7eec9bef16754d937"
   }
  }
 },
 "nbformat": 4,
 "nbformat_minor": 2
}
