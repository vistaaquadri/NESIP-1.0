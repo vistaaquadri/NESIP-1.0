{
 "cells": [
  {
   "cell_type": "code",
   "execution_count": 1,
   "metadata": {},
   "outputs": [],
   "source": [
    "import pandas as pd"
   ]
  },
  {
   "cell_type": "code",
   "execution_count": 2,
   "metadata": {},
   "outputs": [],
   "source": [
    "#read data \n",
    "\n",
    "sheet_url = \"../../NESIP_FIELD_DATA/data.xlsx\"\n",
    "\n",
    "sheet_ea_passed = \"2. Energy Access(Passed)\"\n",
    "\n",
    "ea_passed = pd.read_excel(sheet_url, sheet_ea_passed)\n"
   ]
  },
  {
   "cell_type": "markdown",
   "metadata": {},
   "source": [
    "#### 1. CAPACITY"
   ]
  },
  {
   "cell_type": "code",
   "execution_count": null,
   "metadata": {},
   "outputs": [],
   "source": [
    "# To Get Capacity, Spend on Energy would me used and the hours of power supply. \n",
    "\n"
   ]
  }
 ],
 "metadata": {
  "kernelspec": {
   "display_name": "Python 3.12.4 64-bit",
   "language": "python",
   "name": "python3"
  },
  "language_info": {
   "codemirror_mode": {
    "name": "ipython",
    "version": 3
   },
   "file_extension": ".py",
   "mimetype": "text/x-python",
   "name": "python",
   "nbconvert_exporter": "python",
   "pygments_lexer": "ipython3",
   "version": "3.12.4"
  },
  "orig_nbformat": 4,
  "vscode": {
   "interpreter": {
    "hash": "a940ce198f1cec256b3c1d63fb015ac77894c8c2a48fdeb7eec9bef16754d937"
   }
  }
 },
 "nbformat": 4,
 "nbformat_minor": 2
}
