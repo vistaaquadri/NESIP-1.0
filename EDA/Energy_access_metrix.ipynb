{
 "cells": [
  {
   "cell_type": "code",
   "execution_count": 44,
   "metadata": {},
   "outputs": [],
   "source": [
    "import pandas as pd\n",
    "import numpy as np"
   ]
  },
  {
   "cell_type": "code",
   "execution_count": 2,
   "metadata": {},
   "outputs": [],
   "source": [
    "#read data \n",
    "\n",
    "#sheet_url = \"../../NESIP_FIELD_DATA/data.xlsx\"\n",
    "\n",
    "#sheet_ea_passed = \"2. Energy Access(Passed)\"\n",
    "\n",
    "#ea_passed = pd.read_excel(sheet_url, sheet_ea_passed)\n"
   ]
  },
  {
   "cell_type": "code",
   "execution_count": 75,
   "metadata": {},
   "outputs": [],
   "source": [
    "# Read data\n",
    "sheet_url = \"../../NESIP_FIELD_DATA/data.xlsx\"\n",
    "\n",
    "sheet_ea_passed = \"2. Energy Access(Passed)\"\n",
    "\n",
    "# Load the sheet into a DataFrame\n",
    "energy_access_data = pd.read_excel(sheet_url, sheet_name=sheet_ea_passed, dtype=str)\n"
   ]
  },
  {
   "cell_type": "markdown",
   "metadata": {},
   "source": [
    "#### 1. Capacity"
   ]
  },
  {
   "cell_type": "markdown",
   "metadata": {},
   "source": [
    "#### 2. Availability"
   ]
  },
  {
   "cell_type": "markdown",
   "metadata": {},
   "source": [
    "###### Daytime Availability"
   ]
  },
  {
   "cell_type": "code",
   "execution_count": 83,
   "metadata": {},
   "outputs": [],
   "source": [
    "# Define mapping dictionary\n",
    "tier_mapping = {\n",
    "    \"0 hour\": \"Tier 0\",\n",
    "    \"1 hour\": \"Tier 1\",\n",
    "    \"2 hours\": \"Tier 2\",\n",
    "    \"3 hours\": \"Tier 3\",\n",
    "    \"4 hours\": \"Tier 4 / Tier 5\",\n",
    "    \"> 4 hours\": \"Tier 4 / Tier 5\"\n",
    "}"
   ]
  },
  {
   "cell_type": "code",
   "execution_count": 84,
   "metadata": {},
   "outputs": [
    {
     "name": "stderr",
     "output_type": "stream",
     "text": [
      "C:\\Users\\Vista\\AppData\\Local\\Temp\\ipykernel_34940\\3745757305.py:5: FutureWarning: A value is trying to be set on a copy of a DataFrame or Series through chained assignment using an inplace method.\n",
      "The behavior will change in pandas 3.0. This inplace method will never work because the intermediate object on which we are setting values always behaves as a copy.\n",
      "\n",
      "For example, when doing 'df[col].method(value, inplace=True)', try using 'df.method({col: value}, inplace=True)' or df[col] = df[col].method(value) instead, to perform the operation inplace on the original object.\n",
      "\n",
      "\n",
      "  energy_access_data[\"Daytime Availability\"].fillna(\"No Tier\", inplace=True)\n"
     ]
    }
   ],
   "source": [
    "# Strip spaces and map values\n",
    "energy_access_data[\"Daytime Availability\"] = energy_access_data[\"2G. During the day (6 am–6 pm), how many hours of electricity do you get from the primary sources?\"].str.strip().map(tier_mapping)\n",
    "\n",
    "# Fill NaN values with \"No Tier\"\n",
    "energy_access_data[\"Daytime Availability\"].fillna(\"No Tier\", inplace=True)\n"
   ]
  },
  {
   "cell_type": "code",
   "execution_count": 85,
   "metadata": {},
   "outputs": [
    {
     "name": "stdout",
     "output_type": "stream",
     "text": [
      "  Daytime Availability\n",
      "0      Tier 4 / Tier 5\n",
      "1              No Tier\n",
      "2               Tier 2\n",
      "3               Tier 2\n",
      "4               Tier 3\n"
     ]
    }
   ],
   "source": [
    "# Display result\n",
    "print(energy_access_data[[\"Daytime Availability\"]].head())"
   ]
  },
  {
   "cell_type": "markdown",
   "metadata": {},
   "source": [
    "###### Evening Availability"
   ]
  },
  {
   "cell_type": "code",
   "execution_count": 78,
   "metadata": {},
   "outputs": [],
   "source": [
    "# Define mapping dictionary\n",
    "tier_mapping = {\n",
    "    \"0 hour\": \"Tier 0\",\n",
    "    \"1 hour\": \"Tier 1\",\n",
    "    \"2 hours\": \"Tier 2\",\n",
    "    \"3 hours\": \"Tier 3\",\n",
    "    \"4 hours\": \"Tier 4 / Tier 5\",\n",
    "    \"> 4 hours\": \"Tier 4 / Tier 5\"\n",
    "}"
   ]
  },
  {
   "cell_type": "code",
   "execution_count": null,
   "metadata": {},
   "outputs": [],
   "source": [
    "# Strip spaces and map values\n",
    "energy_access_data[\"Evening Availability\"] = energy_access_data[\"2H. At Night (6 pm–6 am), how many hours of electricity do you get from the primary sources?\"].str.strip().map(tier_mapping)\n",
    "\n",
    "# Fill NaN values with \"No Tier\"\n",
    "energy_access_data[\"Evening Availability\"].fillna(\"No Tier\", inplace=True)\n"
   ]
  },
  {
   "cell_type": "code",
   "execution_count": 81,
   "metadata": {},
   "outputs": [
    {
     "name": "stdout",
     "output_type": "stream",
     "text": [
      "  Evening Availability\n",
      "0      Tier 4 / Tier 5\n",
      "1              No Tier\n",
      "2      Tier 4 / Tier 5\n",
      "3               Tier 2\n",
      "4               Tier 1\n"
     ]
    }
   ],
   "source": [
    "# Display result\n",
    "print(energy_access_data[[\"Evening Availability\"]].head())"
   ]
  },
  {
   "cell_type": "markdown",
   "metadata": {},
   "source": [
    "##### DAILY AVAILABILITY"
   ]
  },
  {
   "cell_type": "code",
   "execution_count": null,
   "metadata": {},
   "outputs": [],
   "source": []
  },
  {
   "cell_type": "markdown",
   "metadata": {},
   "source": [
    "#### 3. Reliability"
   ]
  },
  {
   "cell_type": "code",
   "execution_count": null,
   "metadata": {},
   "outputs": [],
   "source": []
  },
  {
   "cell_type": "code",
   "execution_count": null,
   "metadata": {},
   "outputs": [],
   "source": []
  },
  {
   "cell_type": "markdown",
   "metadata": {},
   "source": [
    "#### 4. Quality"
   ]
  },
  {
   "cell_type": "code",
   "execution_count": 76,
   "metadata": {},
   "outputs": [],
   "source": [
    "# Function to determine the tier\n",
    "def map_quality(row):\n",
    "    challenges = row[\"2R. If yes, what are the main challenges you face with your primary electricity source? (Outages, cost, low voltage, etc.)\"]\n",
    "    quality = row[\"2U. How would you describe the quality of energy supply to your household\"]\n",
    "    \n",
    "    if pd.isna(challenges) or pd.isna(quality) or (challenges.strip() == \"\" and quality.strip() == \"\"):\n",
    "        return \"No Tier\"\n",
    "    \n",
    "    if \"Low Voltage\" in challenges:\n",
    "        if quality == \"Good quality of energy supply, Voltage does not affect use of appliances\":\n",
    "            return \"Tier 2\"\n",
    "\n",
    "    if quality == \"Good quality of energy supply, Voltage does not affect use of appliances\":\n",
    "        return \"Tier 3 / Tier 4 / Tier 5\"\n",
    "    \n",
    "    if quality == \"Poor Quality (Damages or cannot operate appliances)\":\n",
    "        return \"Tier 0 / Tier 1\"\n",
    "\n",
    "    return \"No Tier\"\n",
    "\n"
   ]
  },
  {
   "cell_type": "code",
   "execution_count": 77,
   "metadata": {},
   "outputs": [
    {
     "name": "stdout",
     "output_type": "stream",
     "text": [
      "                    Quality\n",
      "0  Tier 3 / Tier 4 / Tier 5\n",
      "1                   No Tier\n",
      "2           Tier 0 / Tier 1\n",
      "3           Tier 0 / Tier 1\n",
      "4                    Tier 2\n"
     ]
    }
   ],
   "source": [
    "# Apply transformation\n",
    "energy_access_data[\"Quality\"] = energy_access_data.apply(map_quality, axis=1)\n",
    "\n",
    "# Display the first few rows to verify\n",
    "print(energy_access_data[[\"Quality\"]].head())\n"
   ]
  },
  {
   "cell_type": "markdown",
   "metadata": {},
   "source": [
    "##### 5. Affordability"
   ]
  },
  {
   "cell_type": "code",
   "execution_count": 52,
   "metadata": {},
   "outputs": [],
   "source": [
    "# Convert numerical column to numeric type, forcing errors to NaN for empty values\n",
    "energy_access_data[\"2P. how much do you pay for the primary source of electricity for the period mentioned earlier? (Exact Amount Specified n ₦)\"] = pd.to_numeric(\n",
    "    energy_access_data[\"2P. how much do you pay for the primary source of electricity for the period mentioned earlier? (Exact Amount Specified n ₦)\"], errors=\"coerce\"\n",
    ")\n",
    "\n",
    "# Mapping of frequency to yearly multiplier\n",
    "multipliers = {\n",
    "    \"Daily\": 365,\n",
    "    \"Weekly\": 52,\n",
    "    \"Bi-Weekly\": 26,\n",
    "    \"Monthly\": 12,\n",
    "    \"Quarterly\": 4,\n",
    "    \"Yearly\": 1\n",
    "}\n",
    "\n",
    "# Compute yearly and monthly payments, keeping NaNs\n",
    "energy_access_data[\"yearly grid payment\"] = energy_access_data[\"2N. How often do you pay for the primary source of energy?\"].map(multipliers) * energy_access_data[\"2P. how much do you pay for the primary source of electricity for the period mentioned earlier? (Exact Amount Specified n ₦)\"]\n",
    "energy_access_data[\"monthly grid payment\"] = energy_access_data[\"yearly grid payment\"] / 12  # Convert yearly to monthly\n"
   ]
  },
  {
   "cell_type": "code",
   "execution_count": 57,
   "metadata": {},
   "outputs": [
    {
     "data": {
      "text/plain": [
       "0     8666.666667\n",
       "1             NaN\n",
       "2    12000.000000\n",
       "3     5000.000000\n",
       "4     2000.000000\n",
       "Name: monthly grid payment, dtype: float64"
      ]
     },
     "execution_count": 57,
     "metadata": {},
     "output_type": "execute_result"
    }
   ],
   "source": [
    "energy_access_data[\"1L(iii). What is your total monthly household income?, Specify in ₦.\"] = pd.to_numeric(energy_access_data[\"1L(iii). What is your total monthly household income?, Specify in ₦.\"], errors=\"coerce\")\n",
    "\n",
    "energy_access_data[\"monthly grid payment\"].head()"
   ]
  },
  {
   "cell_type": "code",
   "execution_count": 56,
   "metadata": {},
   "outputs": [],
   "source": [
    "# Function to determine \"Legality\"\n",
    "def determine_affordability(monthly_pay, monthly_allowance):\n",
    "    if monthly_pay >= (0.15 * monthly_allowance):\n",
    "        return \"Tier 0 / Tier 1\"\n",
    "    elif monthly_pay < (0.15 * monthly_allowance):\n",
    "        return \"Tier 2 / Tier 3 / Tier 4 / Tier 5\"\n",
    "    else:\n",
    "        return \"No Tier\"  # Return blank if none of the conditions match"
   ]
  },
  {
   "cell_type": "code",
   "execution_count": 59,
   "metadata": {},
   "outputs": [
    {
     "name": "stdout",
     "output_type": "stream",
     "text": [
      "                       Affordability\n",
      "0  Tier 2 / Tier 3 / Tier 4 / Tier 5\n",
      "1                            No Tier\n",
      "2  Tier 2 / Tier 3 / Tier 4 / Tier 5\n",
      "3  Tier 2 / Tier 3 / Tier 4 / Tier 5\n",
      "4  Tier 2 / Tier 3 / Tier 4 / Tier 5\n"
     ]
    }
   ],
   "source": [
    "monthly_grid_spend = \"monthly grid payment\"\n",
    "household_income = \"1L(iii). What is your total monthly household income?, Specify in ₦.\"\n",
    "\n",
    "# Apply function to create \"Legality\" column\n",
    "energy_access_data[\"Affordability\"] = energy_access_data.apply(\n",
    "    lambda row: determine_affordability(row[monthly_grid_spend], row[household_income]), axis=1\n",
    ")\n",
    "\n",
    "# Display the first few rows to verify\n",
    "print(energy_access_data[[\"Affordability\"]].head())"
   ]
  },
  {
   "cell_type": "markdown",
   "metadata": {},
   "source": [
    "#### 5. Legality"
   ]
  },
  {
   "cell_type": "code",
   "execution_count": 21,
   "metadata": {},
   "outputs": [],
   "source": [
    "# Column names\n",
    "metered_col = \"5D. Are you metered?\"\n",
    "payment_col = \"5E. If not metered, How do you pay for electricity?\"\n"
   ]
  },
  {
   "cell_type": "code",
   "execution_count": 22,
   "metadata": {},
   "outputs": [],
   "source": [
    "# Clean and normalize the data\n",
    "energy_access_data[metered_col] = energy_access_data[metered_col].astype(str).str.strip().str.lower()\n",
    "energy_access_data[payment_col] = energy_access_data[payment_col].astype(str).str.strip().str.lower()"
   ]
  },
  {
   "cell_type": "code",
   "execution_count": 30,
   "metadata": {},
   "outputs": [],
   "source": [
    "# Function to determine \"Legality\"\n",
    "def determine_legality(metered, payment):\n",
    "    if metered in [\"yes, with a prepaid meter\", \"yes, with a postpaid meter\"]:\n",
    "        return \"Tier 1 / Tier 2 / Tier 3 / Tier 4 / Tier 5\"\n",
    "    elif payment in [\n",
    "        \"through community billing arrangements (e.g., shared connections in the neighborhood)\",\n",
    "        \"through a flat rate or estimated billing system provided by the electricity company\"\n",
    "    ]:\n",
    "        return \"Tier 1 / Tier 2 / Tier 3 / Tier 4 / Tier 5\"\n",
    "    elif payment == \"do not pay for electricity\":\n",
    "        return \"Tier 0\"\n",
    "    else:\n",
    "        return \"No Tier\"  # Return blank if none of the conditions match"
   ]
  },
  {
   "cell_type": "code",
   "execution_count": 31,
   "metadata": {},
   "outputs": [
    {
     "name": "stdout",
     "output_type": "stream",
     "text": [
      "                                      Legality\n",
      "0   Tier 1 / Tier 2 / Tier 3 / Tier 4 / Tier 5\n",
      "1                                      No Tier\n",
      "2   Tier 1 / Tier 2 / Tier 3 / Tier 4 / Tier 5\n",
      "3   Tier 1 / Tier 2 / Tier 3 / Tier 4 / Tier 5\n",
      "4   Tier 1 / Tier 2 / Tier 3 / Tier 4 / Tier 5\n",
      "5                                      No Tier\n",
      "6                                      No Tier\n",
      "7   Tier 1 / Tier 2 / Tier 3 / Tier 4 / Tier 5\n",
      "8   Tier 1 / Tier 2 / Tier 3 / Tier 4 / Tier 5\n",
      "9                                      No Tier\n",
      "10  Tier 1 / Tier 2 / Tier 3 / Tier 4 / Tier 5\n",
      "11  Tier 1 / Tier 2 / Tier 3 / Tier 4 / Tier 5\n",
      "12                                     No Tier\n",
      "13  Tier 1 / Tier 2 / Tier 3 / Tier 4 / Tier 5\n",
      "14  Tier 1 / Tier 2 / Tier 3 / Tier 4 / Tier 5\n",
      "15  Tier 1 / Tier 2 / Tier 3 / Tier 4 / Tier 5\n",
      "16                                     No Tier\n",
      "17  Tier 1 / Tier 2 / Tier 3 / Tier 4 / Tier 5\n",
      "18                                     No Tier\n",
      "19  Tier 1 / Tier 2 / Tier 3 / Tier 4 / Tier 5\n"
     ]
    }
   ],
   "source": [
    "# Apply function to create \"Legality\" column\n",
    "energy_access_data[\"Legality\"] = energy_access_data.apply(\n",
    "    lambda row: determine_legality(row[metered_col], row[payment_col]), axis=1\n",
    ")\n",
    "\n",
    "# Display the first few rows to verify\n",
    "print(energy_access_data[[\"Legality\"]].head(20))\n"
   ]
  },
  {
   "cell_type": "markdown",
   "metadata": {},
   "source": [
    "#### 6. Health and Safety"
   ]
  },
  {
   "cell_type": "code",
   "execution_count": 32,
   "metadata": {},
   "outputs": [],
   "source": [
    "# Column name\n",
    "col_name = \"6B. Have you or anyone in your household experienced an incident caused by an electricity connection (e.g., shock, fire)?\"\n",
    "\n",
    "# Clean and normalize values\n",
    "energy_access_data[col_name] = (\n",
    "    energy_access_data[col_name]\n",
    "    .str.strip()  # Remove leading/trailing spaces\n",
    "    .str.lower()  # Convert to lowercase for consistency\n",
    ")"
   ]
  },
  {
   "cell_type": "code",
   "execution_count": 33,
   "metadata": {},
   "outputs": [],
   "source": [
    "# Mapping function\n",
    "def map_health_safety(value):\n",
    "    if value == \"true\":\n",
    "        return \"Tier 0 / Tier 1 / Tier 2 / Tier 3\"\n",
    "    elif value == \"false\":\n",
    "        return \"Tier 4 / Tier 5\"\n",
    "    else:\n",
    "        return \"No Tier\"  # Keep NaN as an empty string"
   ]
  },
  {
   "cell_type": "code",
   "execution_count": 34,
   "metadata": {},
   "outputs": [
    {
     "name": "stdout",
     "output_type": "stream",
     "text": [
      "  Health and Safety\n",
      "0   Tier 4 / Tier 5\n",
      "1           No Tier\n",
      "2   Tier 4 / Tier 5\n",
      "3   Tier 4 / Tier 5\n",
      "4   Tier 4 / Tier 5\n"
     ]
    }
   ],
   "source": [
    "# Apply transformation\n",
    "energy_access_data[\"Health and Safety\"] = energy_access_data[col_name].apply(map_health_safety)\n",
    "\n",
    "# Display the first few rows to verify\n",
    "print(energy_access_data[[\"Health and Safety\"]].head())\n"
   ]
  },
  {
   "cell_type": "code",
   "execution_count": null,
   "metadata": {},
   "outputs": [],
   "source": []
  },
  {
   "cell_type": "markdown",
   "metadata": {},
   "source": [
    "##### Dashboard Analysis - PER HOUSEHOLD"
   ]
  },
  {
   "cell_type": "code",
   "execution_count": 35,
   "metadata": {},
   "outputs": [],
   "source": [
    "# Create an empty DataFrame\n",
    "per_household_summary = pd.DataFrame()"
   ]
  },
  {
   "cell_type": "markdown",
   "metadata": {},
   "source": [
    "##### 1. State and LGA"
   ]
  },
  {
   "cell_type": "code",
   "execution_count": 36,
   "metadata": {},
   "outputs": [
    {
     "name": "stdout",
     "output_type": "stream",
     "text": [
      "         State                LGA\n",
      "0  Cross River  Calabar Municipal\n",
      "1  Cross River  Calabar Municipal\n",
      "2        Delta      Ughelli North\n",
      "3      Bayelsa              Nembe\n",
      "4  Cross River  Calabar Municipal\n"
     ]
    }
   ],
   "source": [
    "# Assign specific columns (with their values)\n",
    "per_household_summary['State'] = energy_access_data['State']\n",
    "per_household_summary['LGA'] = energy_access_data['LGA']\n",
    "\n",
    "print(per_household_summary.head())\n"
   ]
  },
  {
   "cell_type": "markdown",
   "metadata": {},
   "source": [
    "##### 2. Health and Safety"
   ]
  },
  {
   "cell_type": "code",
   "execution_count": 37,
   "metadata": {},
   "outputs": [
    {
     "name": "stdout",
     "output_type": "stream",
     "text": [
      "         State                LGA Health and Safety\n",
      "0  Cross River  Calabar Municipal   Tier 4 / Tier 5\n",
      "1  Cross River  Calabar Municipal           No Tier\n",
      "2        Delta      Ughelli North   Tier 4 / Tier 5\n",
      "3      Bayelsa              Nembe   Tier 4 / Tier 5\n",
      "4  Cross River  Calabar Municipal   Tier 4 / Tier 5\n"
     ]
    }
   ],
   "source": [
    "# Assign specific columns (with their values)\n",
    "per_household_summary['Health and Safety'] = energy_access_data['Health and Safety']\n",
    "\n",
    "print(per_household_summary.head())\n"
   ]
  },
  {
   "cell_type": "markdown",
   "metadata": {},
   "source": [
    "##### 3. Legality"
   ]
  },
  {
   "cell_type": "code",
   "execution_count": 38,
   "metadata": {},
   "outputs": [
    {
     "name": "stdout",
     "output_type": "stream",
     "text": [
      "0    Tier 1 / Tier 2 / Tier 3 / Tier 4 / Tier 5\n",
      "1                                       No Tier\n",
      "2    Tier 1 / Tier 2 / Tier 3 / Tier 4 / Tier 5\n",
      "3    Tier 1 / Tier 2 / Tier 3 / Tier 4 / Tier 5\n",
      "4    Tier 1 / Tier 2 / Tier 3 / Tier 4 / Tier 5\n",
      "Name: Legality, dtype: object\n"
     ]
    }
   ],
   "source": [
    "# Assign specific columns (with their values)\n",
    "per_household_summary['Legality'] = energy_access_data['Legality']\n",
    "\n",
    "print(per_household_summary['Legality'].head())\n"
   ]
  },
  {
   "cell_type": "markdown",
   "metadata": {},
   "source": [
    "##### 4. Affordability"
   ]
  },
  {
   "cell_type": "code",
   "execution_count": null,
   "metadata": {},
   "outputs": [],
   "source": [
    "# Cost of standard consumption package is less than 15% of household income per year\n",
    "\n",
    "2N. How often do you pay for the primary source of energy?\t   \n",
    "2P. how much do you pay for the primary source of electricity for the period mentioned earlier? (Exact Amount Specified n ₦)"
   ]
  },
  {
   "cell_type": "code",
   "execution_count": null,
   "metadata": {},
   "outputs": [],
   "source": []
  }
 ],
 "metadata": {
  "kernelspec": {
   "display_name": "Python 3.12.4 64-bit",
   "language": "python",
   "name": "python3"
  },
  "language_info": {
   "codemirror_mode": {
    "name": "ipython",
    "version": 3
   },
   "file_extension": ".py",
   "mimetype": "text/x-python",
   "name": "python",
   "nbconvert_exporter": "python",
   "pygments_lexer": "ipython3",
   "version": "3.12.4"
  },
  "orig_nbformat": 4,
  "vscode": {
   "interpreter": {
    "hash": "a940ce198f1cec256b3c1d63fb015ac77894c8c2a48fdeb7eec9bef16754d937"
   }
  }
 },
 "nbformat": 4,
 "nbformat_minor": 2
}
