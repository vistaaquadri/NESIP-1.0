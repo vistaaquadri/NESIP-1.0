{
 "cells": [
  {
   "cell_type": "code",
   "execution_count": 1,
   "metadata": {},
   "outputs": [],
   "source": [
    "import pandas as pd\n",
    "import numpy as np"
   ]
  },
  {
   "cell_type": "code",
   "execution_count": 2,
   "metadata": {},
   "outputs": [],
   "source": [
    "#read data \n",
    "\n",
    "#sheet_url = \"../../NESIP_FIELD_DATA/data.xlsx\"\n",
    "\n",
    "#sheet_ea_passed = \"2. Energy Access(Passed)\"\n",
    "\n",
    "#ea_passed = pd.read_excel(sheet_url, sheet_ea_passed)\n"
   ]
  },
  {
   "cell_type": "code",
   "execution_count": 3,
   "metadata": {},
   "outputs": [],
   "source": [
    "# Read data\n",
    "sheet_url = \"../../NESIP_FIELD_DATA/data.xlsx\"\n",
    "\n",
    "sheet_ea_passed = \"2. Energy Access(Passed)\"\n",
    "\n",
    "tariff_df = \"disco_information_lga\"\n",
    "\n",
    "# Load the sheet into a DataFrame\n",
    "energy_access_data = pd.read_excel(sheet_url, sheet_name=sheet_ea_passed, dtype=str)\n",
    "\n",
    "# Load the tariff sheet into a DataFrame\n",
    "tariff_data = pd.read_excel(sheet_url, sheet_name=tariff_df)\n"
   ]
  },
  {
   "cell_type": "markdown",
   "metadata": {},
   "source": [
    "#### 2. Availability"
   ]
  },
  {
   "cell_type": "markdown",
   "metadata": {},
   "source": [
    "###### Daytime Availability"
   ]
  },
  {
   "cell_type": "code",
   "execution_count": 4,
   "metadata": {},
   "outputs": [],
   "source": [
    "# Define mapping dictionary\n",
    "tier_mapping = {\n",
    "    \"0 hour\": \"Tier 0\",\n",
    "    \"1 hour\": \"Tier 1\",\n",
    "    \"2 hours\": \"Tier 2\",\n",
    "    \"3 hours\": \"Tier 3\",\n",
    "    \"4 hours\": \"Tier 4\",\n",
    "    \"> 4 hours\": \"Tier 5\"\n",
    "}"
   ]
  },
  {
   "cell_type": "code",
   "execution_count": 5,
   "metadata": {},
   "outputs": [
    {
     "name": "stderr",
     "output_type": "stream",
     "text": [
      "C:\\Users\\Vista\\AppData\\Local\\Temp\\ipykernel_44768\\3745757305.py:5: FutureWarning: A value is trying to be set on a copy of a DataFrame or Series through chained assignment using an inplace method.\n",
      "The behavior will change in pandas 3.0. This inplace method will never work because the intermediate object on which we are setting values always behaves as a copy.\n",
      "\n",
      "For example, when doing 'df[col].method(value, inplace=True)', try using 'df.method({col: value}, inplace=True)' or df[col] = df[col].method(value) instead, to perform the operation inplace on the original object.\n",
      "\n",
      "\n",
      "  energy_access_data[\"Daytime Availability\"].fillna(\"No Tier\", inplace=True)\n"
     ]
    }
   ],
   "source": [
    "# Strip spaces and map values\n",
    "energy_access_data[\"Daytime Availability\"] = energy_access_data[\"2G. During the day (6 am–6 pm), how many hours of electricity do you get from the primary sources?\"].str.strip().map(tier_mapping)\n",
    "\n",
    "# Fill NaN values with \"No Tier\"\n",
    "energy_access_data[\"Daytime Availability\"].fillna(\"No Tier\", inplace=True)\n"
   ]
  },
  {
   "cell_type": "code",
   "execution_count": 6,
   "metadata": {},
   "outputs": [
    {
     "name": "stdout",
     "output_type": "stream",
     "text": [
      "  Daytime Availability\n",
      "0               Tier 5\n",
      "1              No Tier\n",
      "2               Tier 2\n",
      "3               Tier 2\n",
      "4               Tier 3\n"
     ]
    }
   ],
   "source": [
    "# Display result\n",
    "print(energy_access_data[[\"Daytime Availability\"]].head())"
   ]
  },
  {
   "cell_type": "markdown",
   "metadata": {},
   "source": [
    "###### Evening Availability"
   ]
  },
  {
   "cell_type": "code",
   "execution_count": 7,
   "metadata": {},
   "outputs": [],
   "source": [
    "# Define mapping dictionary\n",
    "tier_mapping = {\n",
    "    \"0 hour\": \"Tier 0\",\n",
    "    \"1 hour\": \"Tier 1\",\n",
    "    \"2 hours\": \"Tier 2\",\n",
    "    \"3 hours\": \"Tier 3\",\n",
    "    \"4 hours\": \"Tier 4\",\n",
    "    \"> 4 hours\": \"Tier 5\"\n",
    "}"
   ]
  },
  {
   "cell_type": "code",
   "execution_count": 8,
   "metadata": {},
   "outputs": [
    {
     "name": "stderr",
     "output_type": "stream",
     "text": [
      "C:\\Users\\Vista\\AppData\\Local\\Temp\\ipykernel_44768\\1886907578.py:5: FutureWarning: A value is trying to be set on a copy of a DataFrame or Series through chained assignment using an inplace method.\n",
      "The behavior will change in pandas 3.0. This inplace method will never work because the intermediate object on which we are setting values always behaves as a copy.\n",
      "\n",
      "For example, when doing 'df[col].method(value, inplace=True)', try using 'df.method({col: value}, inplace=True)' or df[col] = df[col].method(value) instead, to perform the operation inplace on the original object.\n",
      "\n",
      "\n",
      "  energy_access_data[\"Evening Availability\"].fillna(\"No Tier\", inplace=True)\n"
     ]
    }
   ],
   "source": [
    "# Strip spaces and map values\n",
    "energy_access_data[\"Evening Availability\"] = energy_access_data[\"2H. At Night (6 pm–6 am), how many hours of electricity do you get from the primary sources?\"].str.strip().map(tier_mapping)\n",
    "\n",
    "# Fill NaN values with \"No Tier\"\n",
    "energy_access_data[\"Evening Availability\"].fillna(\"No Tier\", inplace=True)\n"
   ]
  },
  {
   "cell_type": "code",
   "execution_count": 9,
   "metadata": {},
   "outputs": [
    {
     "name": "stdout",
     "output_type": "stream",
     "text": [
      "  Evening Availability\n",
      "0               Tier 5\n",
      "1              No Tier\n",
      "2               Tier 4\n",
      "3               Tier 2\n",
      "4               Tier 1\n"
     ]
    }
   ],
   "source": [
    "# Display result\n",
    "print(energy_access_data[[\"Evening Availability\"]].head())"
   ]
  },
  {
   "cell_type": "markdown",
   "metadata": {},
   "source": [
    "##### DAILY AVAILABILITY"
   ]
  },
  {
   "cell_type": "code",
   "execution_count": 10,
   "metadata": {},
   "outputs": [],
   "source": [
    "# Define column names\n",
    "day_col = \"2G. During the day (6 am–6 pm), how many hours of electricity do you get from the primary sources?\"\n",
    "night_col = \"2H. At Night (6 pm–6 am), how many hours of electricity do you get from the primary sources?\"\n",
    "\n",
    "# Remove \"hour\" and \"hours\" while converting to string safely\n",
    "energy_access_data[[day_col, night_col]] = energy_access_data[[day_col, night_col]].astype(str).replace({\"hour\": \"\", \"s\": \"\"}, regex=True).apply(lambda x: x.str.strip())\n"
   ]
  },
  {
   "cell_type": "code",
   "execution_count": 11,
   "metadata": {},
   "outputs": [
    {
     "data": {
      "text/html": [
       "<div>\n",
       "<style scoped>\n",
       "    .dataframe tbody tr th:only-of-type {\n",
       "        vertical-align: middle;\n",
       "    }\n",
       "\n",
       "    .dataframe tbody tr th {\n",
       "        vertical-align: top;\n",
       "    }\n",
       "\n",
       "    .dataframe thead th {\n",
       "        text-align: right;\n",
       "    }\n",
       "</style>\n",
       "<table border=\"1\" class=\"dataframe\">\n",
       "  <thead>\n",
       "    <tr style=\"text-align: right;\">\n",
       "      <th></th>\n",
       "      <th>2G. During the day (6 am–6 pm), how many hours of electricity do you get from the primary sources?</th>\n",
       "      <th>2H. At Night (6 pm–6 am), how many hours of electricity do you get from the primary sources?</th>\n",
       "    </tr>\n",
       "  </thead>\n",
       "  <tbody>\n",
       "    <tr>\n",
       "      <th>0</th>\n",
       "      <td>&gt; 4</td>\n",
       "      <td>&gt; 4</td>\n",
       "    </tr>\n",
       "    <tr>\n",
       "      <th>1</th>\n",
       "      <td>nan</td>\n",
       "      <td>nan</td>\n",
       "    </tr>\n",
       "    <tr>\n",
       "      <th>2</th>\n",
       "      <td>2</td>\n",
       "      <td>4</td>\n",
       "    </tr>\n",
       "    <tr>\n",
       "      <th>3</th>\n",
       "      <td>2</td>\n",
       "      <td>2</td>\n",
       "    </tr>\n",
       "    <tr>\n",
       "      <th>4</th>\n",
       "      <td>3</td>\n",
       "      <td>1</td>\n",
       "    </tr>\n",
       "  </tbody>\n",
       "</table>\n",
       "</div>"
      ],
      "text/plain": [
       "  2G. During the day (6 am–6 pm), how many hours of electricity do you get from the primary sources?  \\\n",
       "0                                                > 4                                                   \n",
       "1                                                nan                                                   \n",
       "2                                                  2                                                   \n",
       "3                                                  2                                                   \n",
       "4                                                  3                                                   \n",
       "\n",
       "  2H. At Night (6 pm–6 am), how many hours of electricity do you get from the primary sources?  \n",
       "0                                                > 4                                            \n",
       "1                                                nan                                            \n",
       "2                                                  4                                            \n",
       "3                                                  2                                            \n",
       "4                                                  1                                            "
      ]
     },
     "execution_count": 11,
     "metadata": {},
     "output_type": "execute_result"
    }
   ],
   "source": [
    "# Remove \"hour\" and \"hours\" while converting to string safely\n",
    "energy_access_data[[day_col, night_col]].head()"
   ]
  },
  {
   "cell_type": "markdown",
   "metadata": {},
   "source": [
    "disruptions_col = \"2I. Do you experience disruptions from your primary source of electricity supply?\"\n",
    "outages_col = \"2J. How often do you experience power outages?\"\n",
    "interruptions_col = \"2K. On an average day, how many times does the electricity supply get interrupted?\"\n",
    "restoration_col = \"2L. When the electricity is interrupted, how long does it typically take to be restored?\"\n",
    "\n",
    "# Function to clean and convert numeric values\n",
    "def clean_numeric(value):\n",
    "    if pd.isna(value) or value in [\"\", \"None\"]:\n",
    "        return 0\n",
    "    elif value == \"> 4\":\n",
    "        return 8  # Assume > 4 means 8\n",
    "    elif value == \"0 - 1\":\n",
    "        return 1\n",
    "    elif value == \"> 10\":\n",
    "        return 12\n",
    "    return float(value)\n",
    "\n",
    "# Function to compute total hours of power supply\n",
    "def compute_total_hours(row):\n",
    "    day_val = clean_numeric(row[day_col])\n",
    "    night_val = clean_numeric(row[night_col])\n",
    "\n",
    "    # If both are ≤ 4, simply sum them\n",
    "    if day_val <= 4 and night_val <= 4:\n",
    "        return day_val + night_val\n",
    "\n",
    "    # If either is > 4, apply escalation logic\n",
    "    if day_val > 4 or night_val > 4:\n",
    "        if not row[disruptions_col]:  # No disruptions\n",
    "            return 24\n",
    "        elif row[outages_col] == \"Rarely (less than 4 times per week)\":\n",
    "            return 22\n",
    "        elif row[outages_col] == \"Occasionally (4–8 times per week)\":\n",
    "            if row[restoration_col] == \"More than 4 hours\":\n",
    "                return 16\n",
    "            elif row[restoration_col] == \"Less than 30 minutes\":\n",
    "                return 23\n",
    "            elif row[restoration_col] == \"2 - 4 hours\":\n",
    "                return 21\n",
    "            elif row[restoration_col] == \"1–2 hours\":\n",
    "                return 22\n",
    "\n",
    "    return day_val + night_val\n",
    "\n",
    "# Apply function to compute total hours\n",
    "energy_access_data[\"total_hours\"] = energy_access_data.apply(compute_total_hours, axis=1)\n",
    "\n",
    "# Function to adjust for frequent daily interruptions **AFTER total_hours is computed**\n",
    "def adjust_for_interruptions(row):\n",
    "    total_hours = row[\"total_hours\"] if pd.notna(row[\"total_hours\"]) else 0\n",
    "    times_interrupted = clean_numeric(row.get(interruptions_col, 0))\n",
    "\n",
    "    if row.get(outages_col, \"\") == \"Frequently (daily interruptions)\":\n",
    "        if row.get(restoration_col, \"\") == \"Less than 30 minutes\":\n",
    "            return max(0, total_hours - (0.5 * times_interrupted))\n",
    "        elif row.get(restoration_col, \"\") == \"30 minutes–1 hour\":\n",
    "            return max(0, total_hours - (1 * times_interrupted))\n",
    "        elif row.get(restoration_col, \"\") == \"1–2 hours\":\n",
    "            return max(0, total_hours - (2 * times_interrupted))\n",
    "        elif row.get(restoration_col, \"\") == \"2 - 4 hours\":\n",
    "            return max(0, total_hours - (2 * times_interrupted))\n",
    "        elif row.get(restoration_col, \"\") == \"More than 4 hours\":\n",
    "            return max(0, total_hours - (8 * times_interrupted))\n",
    "\n",
    "    return total_hours\n",
    "\n",
    "# Apply the adjustment function\n",
    "energy_access_data[\"total_hours\"] = energy_access_data.apply(adjust_for_interruptions, axis=1)\n",
    "\n",
    "# Display final DataFrame\n",
    "print(energy_access_data[\"total_hours\"].head(15))\n"
   ]
  },
  {
   "cell_type": "code",
   "execution_count": 12,
   "metadata": {},
   "outputs": [
    {
     "name": "stdout",
     "output_type": "stream",
     "text": [
      "    total_hours\n",
      "0          16.0\n",
      "1           NaN\n",
      "2           6.0\n",
      "3           4.0\n",
      "4           4.0\n",
      "5           NaN\n",
      "6           NaN\n",
      "7          16.0\n",
      "8           8.0\n",
      "9           NaN\n",
      "10          7.0\n",
      "11          NaN\n",
      "12          NaN\n",
      "13          6.0\n",
      "14          8.0\n"
     ]
    }
   ],
   "source": [
    "disruptions_col = \"2I. Do you experience disruptions from your primary source of electricity supply?\"\n",
    "outages_col = \"2J. How often do you experience power outages?\"\n",
    "interruptions_col = \"2K. On an average day, how many times does the electricity supply get interrupted?\"\n",
    "restoration_col = \"2L. When the electricity is interrupted, how long does it typically take to be restored?\"\n",
    "\n",
    "# Function to clean and convert numeric values\n",
    "def clean_numeric(value):\n",
    "    if pd.isna(value) or value in [\"\", \"None\"]:\n",
    "        return 0\n",
    "    value = str(value).replace(\"hours\", \"\").replace(\"hour\", \"\").strip()  # Remove \"hours\" from string\n",
    "    if value == \"> 4\":\n",
    "        return 8  # Assuming \"> 4\" means 8 hours (worst case)\n",
    "    elif value == \"0 - 1\":\n",
    "        return 1\n",
    "    elif value == \"> 10\":\n",
    "        return 12\n",
    "    try:\n",
    "        return float(value)\n",
    "    except:\n",
    "        return 0\n",
    "\n",
    "# Function to compute total hours\n",
    "def compute_total_hours(row):\n",
    "    # Clean and convert numeric values\n",
    "    day_val = clean_numeric(row[day_col])\n",
    "    night_val = clean_numeric(row[night_col])\n",
    "    disruptions = row[disruptions_col]\n",
    "    outage_freq = row[outages_col]\n",
    "    times_interrupted = str(row[interruptions_col]).strip()\n",
    "    restoration_time = str(row[restoration_col]).strip()  # Ensure it's a string\n",
    "\n",
    "    # Convert \"> 4\" to 8 for calculations\n",
    "    day_val = 8 if row[day_col] == \"> 4\" else day_val\n",
    "    night_val = 8 if row[night_col] == \"> 4\" else night_val\n",
    "\n",
    "    # Convert times_interrupted values\n",
    "    if times_interrupted == \"0 - 1\":\n",
    "        times_interrupted = 1\n",
    "    elif times_interrupted == \"> 10\":\n",
    "        times_interrupted = 12\n",
    "    else:\n",
    "        times_interrupted = clean_numeric(times_interrupted)\n",
    "\n",
    "    total_hours = 0  # Default value\n",
    "\n",
    "    # **🔹 Step 1: If both values are ≤ 4, sum them up and return the result**\n",
    "    if day_val <= 4 and night_val <= 4:\n",
    "        return day_val + night_val\n",
    "\n",
    "    # **🔹 Step 2: Handle cases where both day and night values are greater than 4**\n",
    "    if day_val > 4 and night_val > 4:\n",
    "        if not disruptions:  # Column c is FALSE\n",
    "            return 24\n",
    "        elif outage_freq == \"Rarely (less than 4 times per week)\":\n",
    "            return 22\n",
    "        elif outage_freq == \"Occasionally (4–8 times per week)\":\n",
    "            if \"More than 4 hours\" in restoration_time:\n",
    "                return 16\n",
    "            elif \"Less than 30 minutes\" in restoration_time:\n",
    "                return 23\n",
    "            elif \"2 - 4 hours\" in restoration_time:\n",
    "                return 21\n",
    "            elif \"1–2 hours\" in restoration_time:\n",
    "                return 22\n",
    "\n",
    "    # **🔹 Step 3: Handle \"Frequently (daily interruptions)\" cases**\n",
    "    if outage_freq == \"Frequently (daily interruptions)\":\n",
    "        if \"Less than 30 minutes\" in restoration_time:\n",
    "            total_hours = max(0, 24 - (0.5 * times_interrupted))\n",
    "        elif \"30 minutes–1 hour\" in restoration_time:\n",
    "            total_hours = max(0, 24 - (1 * times_interrupted))\n",
    "        elif \"1–2 hours\" in restoration_time:\n",
    "            total_hours = max(0, 24 - (2 * times_interrupted))\n",
    "        elif \"2 - 4 hours\" in restoration_time:\n",
    "            total_hours = max(0, 24 - (2 * times_interrupted))\n",
    "        elif \"More than 4 hours\" in restoration_time:\n",
    "            total_hours = max(0, 24 - (8 * times_interrupted))\n",
    "        return total_hours\n",
    "\n",
    "    # **🔹 Step 4: If neither special case applies, sum the values (normal behavior)**\n",
    "    return day_val + night_val\n",
    "\n",
    "\n",
    "# Apply function\n",
    "energy_access_data[\"total_hours\"] = energy_access_data.apply(compute_total_hours, axis=1)\n",
    "\n",
    "# Display DataFrame\n",
    "print(energy_access_data[[\"total_hours\"]].head(15))\n"
   ]
  },
  {
   "cell_type": "code",
   "execution_count": 13,
   "metadata": {},
   "outputs": [],
   "source": [
    "# Function to categorize into tiers\n",
    "def categorize_tier(value):\n",
    "    if value == \"no connection\" or pd.isna(value):\n",
    "        return \"Tier 0\"\n",
    "    elif value < 4:\n",
    "        return \"Tier 0\"\n",
    "    elif 4 <= value <= 7:\n",
    "        return \"Tier 1\"\n",
    "    elif 8 <= value <= 15:\n",
    "        return \"Tier 3\"\n",
    "    elif 16 <= value <= 22:\n",
    "        return \"Tier 4\"\n",
    "    elif 23 <= value <= 24:\n",
    "        return \"Tier 5\"\n",
    "    else:\n",
    "        return \"Unknown\""
   ]
  },
  {
   "cell_type": "code",
   "execution_count": 14,
   "metadata": {},
   "outputs": [],
   "source": [
    "# Apply function to create tier_category column\n",
    "energy_access_data[\"Daily Availability\"] = energy_access_data[\"total_hours\"].map(categorize_tier)"
   ]
  },
  {
   "cell_type": "code",
   "execution_count": 15,
   "metadata": {},
   "outputs": [
    {
     "name": "stdout",
     "output_type": "stream",
     "text": [
      "0     Tier 4\n",
      "1     Tier 0\n",
      "2     Tier 1\n",
      "3     Tier 1\n",
      "4     Tier 1\n",
      "5     Tier 0\n",
      "6     Tier 0\n",
      "7     Tier 4\n",
      "8     Tier 3\n",
      "9     Tier 0\n",
      "10    Tier 1\n",
      "11    Tier 0\n",
      "12    Tier 0\n",
      "13    Tier 1\n",
      "14    Tier 3\n",
      "Name: Daily Availability, dtype: object\n"
     ]
    }
   ],
   "source": [
    "# Display result\n",
    "print(energy_access_data[\"Daily Availability\"].head(15))"
   ]
  },
  {
   "cell_type": "markdown",
   "metadata": {},
   "source": [
    "#### 3. Reliability"
   ]
  },
  {
   "cell_type": "code",
   "execution_count": 16,
   "metadata": {},
   "outputs": [],
   "source": [
    "# Mapping values for response categories\n",
    "short_durations = ['Less than 30 minutes', '30 minutes–1 hour', '1–2 hours']\n",
    "long_durations = ['3 - 4 hours', 'More than 4 hours']\n",
    "\n",
    "\n",
    "\n",
    "# Function to determine reliability tier\n",
    "def classify_tier(row):\n",
    "    col_a = row['2J. How often do you experience power outages?']\n",
    "    col_b = row['2K. On an average day, how many times does the electricity supply get interrupted?']\n",
    "    col_c = row['2L. When the electricity is interrupted, how long does it typically take to be restored?']\n",
    "\n",
    "    # Handling NaN values\n",
    "    if pd.isna(col_a):\n",
    "        return \"Tier 0\"\n",
    "    \n",
    "    # Rarely cases\n",
    "    if col_a == 'Rarely (less than 4 times per week)':\n",
    "        return \"Tier 5\" if col_c in ['Less than 30 minutes', '30 minutes–1 hour', '1–2 hours'] else \"Tier 4\"\n",
    "\n",
    "    # Occasionally cases\n",
    "    if col_a == 'Occasionally (4–8 times per week)':\n",
    "        return \"Tier 4\" if col_c in ['Less than 30 minutes', '30 minutes–1 hour', '1–2 hours'] else \"Tier 3\"\n",
    "\n",
    "    # Frequently cases\n",
    "    if col_a == 'Frequently (daily interruptions)':\n",
    "        # Normalize col_b values\n",
    "        if str(col_b).strip() in [\"0 - 1\", \"0-1\"]:  # Handle both \"0 - 1\" and \"0-1\"\n",
    "            col_b = 1\n",
    "        elif str(col_b).strip() in [\">10\", \"> 10\"]:  # Handle both \">10\" and \"> 10\"\n",
    "            col_b = 12\n",
    "        else:\n",
    "            try:\n",
    "                col_b = int(col_b)  # Convert numeric values\n",
    "            except ValueError:\n",
    "                return \"Tier 1\"  # Default case if conversion fails\n",
    "\n",
    "        interruptions_per_week = col_b * 7\n",
    "\n",
    "        return \"Tier 3\" if interruptions_per_week <= 14 else \"Tier 1\"\n",
    "\n",
    "    return \"Tier 1\"\n"
   ]
  },
  {
   "cell_type": "code",
   "execution_count": 17,
   "metadata": {},
   "outputs": [],
   "source": [
    "# Apply function to create new column\n",
    "energy_access_data['Reliability'] = energy_access_data.apply(classify_tier, axis=1)"
   ]
  },
  {
   "cell_type": "code",
   "execution_count": 18,
   "metadata": {},
   "outputs": [
    {
     "name": "stdout",
     "output_type": "stream",
     "text": [
      "0     Tier 3\n",
      "1     Tier 0\n",
      "2     Tier 4\n",
      "3     Tier 3\n",
      "4     Tier 3\n",
      "5     Tier 0\n",
      "6     Tier 0\n",
      "7     Tier 3\n",
      "8     Tier 3\n",
      "9     Tier 0\n",
      "10    Tier 3\n",
      "11    Tier 0\n",
      "12    Tier 0\n",
      "13    Tier 1\n",
      "14    Tier 1\n",
      "Name: Reliability, dtype: object\n"
     ]
    }
   ],
   "source": [
    "# Display result\n",
    "print(energy_access_data['Reliability'].head(15))"
   ]
  },
  {
   "cell_type": "markdown",
   "metadata": {},
   "source": [
    "#### 4. Quality"
   ]
  },
  {
   "cell_type": "code",
   "execution_count": 19,
   "metadata": {},
   "outputs": [],
   "source": [
    "# Function to determine the tier\n",
    "def map_quality(row):\n",
    "    challenges = row[\"2R. If yes, what are the main challenges you face with your primary electricity source? (Outages, cost, low voltage, etc.)\"]\n",
    "    quality = row[\"2U. How would you describe the quality of energy supply to your household\"]\n",
    "    \n",
    "    if pd.isna(challenges) or pd.isna(quality) or (challenges.strip() == \"\" and quality.strip() == \"\"):\n",
    "        return \"No Tier\"\n",
    "    \n",
    "    if \"Low Voltage\" in challenges:\n",
    "        if quality == \"Good quality of energy supply, Voltage does not affect use of appliances\":\n",
    "            return \"Tier 2\"\n",
    "\n",
    "    if quality == \"Good quality of energy supply, Voltage does not affect use of appliances\":\n",
    "        return \"Tier 5\"\n",
    "    \n",
    "    if quality == \"Poor Quality (Damages or cannot operate appliances)\":\n",
    "        return \"Tier 1\"\n",
    "\n",
    "    return \"No Tier\"\n",
    "\n"
   ]
  },
  {
   "cell_type": "code",
   "execution_count": 20,
   "metadata": {},
   "outputs": [
    {
     "name": "stdout",
     "output_type": "stream",
     "text": [
      "   Quality\n",
      "0   Tier 5\n",
      "1  No Tier\n",
      "2   Tier 1\n",
      "3   Tier 1\n",
      "4   Tier 2\n"
     ]
    }
   ],
   "source": [
    "# Apply transformation\n",
    "energy_access_data[\"Quality\"] = energy_access_data.apply(map_quality, axis=1)\n",
    "\n",
    "# Display the first few rows to verify\n",
    "print(energy_access_data[[\"Quality\"]].head())\n"
   ]
  },
  {
   "cell_type": "markdown",
   "metadata": {},
   "source": [
    "##### 5. Affordability"
   ]
  },
  {
   "cell_type": "code",
   "execution_count": 21,
   "metadata": {},
   "outputs": [],
   "source": [
    "# Convert numerical column to numeric type, forcing errors to NaN for empty values\n",
    "energy_access_data[\"2P. how much do you pay for the primary source of electricity for the period mentioned earlier? (Exact Amount Specified n ₦)\"] = pd.to_numeric(\n",
    "    energy_access_data[\"2P. how much do you pay for the primary source of electricity for the period mentioned earlier? (Exact Amount Specified n ₦)\"], errors=\"coerce\"\n",
    ")\n",
    "\n",
    "# Mapping of frequency to yearly multiplier\n",
    "multipliers = {\n",
    "    \"Daily\": 365,\n",
    "    \"Weekly\": 52,\n",
    "    \"Bi-Weekly\": 26,\n",
    "    \"Monthly\": 12,\n",
    "    \"Quarterly\": 4,\n",
    "    \"Yearly\": 1\n",
    "}\n",
    "\n",
    "# Compute yearly and monthly payments, keeping NaNs\n",
    "energy_access_data[\"yearly grid payment\"] = energy_access_data[\"2N. How often do you pay for the primary source of energy?\"].map(multipliers) * energy_access_data[\"2P. how much do you pay for the primary source of electricity for the period mentioned earlier? (Exact Amount Specified n ₦)\"]\n",
    "energy_access_data[\"monthly grid payment\"] = energy_access_data[\"yearly grid payment\"] / 12  # Convert yearly to monthly\n"
   ]
  },
  {
   "cell_type": "code",
   "execution_count": 22,
   "metadata": {},
   "outputs": [
    {
     "data": {
      "text/plain": [
       "0     8666.666667\n",
       "1             NaN\n",
       "2    12000.000000\n",
       "3     5000.000000\n",
       "4     2000.000000\n",
       "Name: monthly grid payment, dtype: float64"
      ]
     },
     "execution_count": 22,
     "metadata": {},
     "output_type": "execute_result"
    }
   ],
   "source": [
    "energy_access_data[\"1L(iii). What is your total monthly household income?, Specify in ₦.\"] = pd.to_numeric(energy_access_data[\"1L(iii). What is your total monthly household income?, Specify in ₦.\"], errors=\"coerce\")\n",
    "\n",
    "energy_access_data[\"monthly grid payment\"].head()"
   ]
  },
  {
   "cell_type": "code",
   "execution_count": 23,
   "metadata": {},
   "outputs": [],
   "source": [
    "# Function to determine \"Legality\"\n",
    "def determine_affordability(monthly_pay, monthly_allowance):\n",
    "    if monthly_pay >= (0.05 * monthly_allowance):\n",
    "        return \"Tier 1\"\n",
    "    elif monthly_pay < (0.05 * monthly_allowance):\n",
    "        return \"Tier 5\"\n",
    "    else:\n",
    "        return \"No Tier\"  # Return blank if none of the conditions match"
   ]
  },
  {
   "cell_type": "code",
   "execution_count": 24,
   "metadata": {},
   "outputs": [
    {
     "name": "stdout",
     "output_type": "stream",
     "text": [
      "  Affordability\n",
      "0        Tier 1\n",
      "1       No Tier\n",
      "2        Tier 1\n",
      "3        Tier 5\n",
      "4        Tier 5\n"
     ]
    }
   ],
   "source": [
    "monthly_grid_spend = \"monthly grid payment\"\n",
    "household_income = \"1L(iii). What is your total monthly household income?, Specify in ₦.\"\n",
    "\n",
    "# Apply function to create \"Legality\" column\n",
    "energy_access_data[\"Affordability\"] = energy_access_data.apply(\n",
    "    lambda row: determine_affordability(row[monthly_grid_spend], row[household_income]), axis=1\n",
    ")\n",
    "\n",
    "# Display the first few rows to verify\n",
    "print(energy_access_data[[\"Affordability\"]].head())"
   ]
  },
  {
   "cell_type": "markdown",
   "metadata": {},
   "source": [
    "#### 5. Legality"
   ]
  },
  {
   "cell_type": "code",
   "execution_count": 25,
   "metadata": {},
   "outputs": [],
   "source": [
    "# Column names\n",
    "metered_col = \"5D. Are you metered?\"\n",
    "payment_col = \"5E. If not metered, How do you pay for electricity?\"\n"
   ]
  },
  {
   "cell_type": "code",
   "execution_count": 26,
   "metadata": {},
   "outputs": [],
   "source": [
    "# Clean and normalize the data\n",
    "energy_access_data[metered_col] = energy_access_data[metered_col].astype(str).str.strip().str.lower()\n",
    "energy_access_data[payment_col] = energy_access_data[payment_col].astype(str).str.strip().str.lower()"
   ]
  },
  {
   "cell_type": "code",
   "execution_count": 27,
   "metadata": {},
   "outputs": [],
   "source": [
    "# Function to determine \"Legality\"\n",
    "def determine_legality(metered, payment):\n",
    "    if metered in [\"yes, with a prepaid meter\", \"yes, with a postpaid meter\"]:\n",
    "        return \"Tier 5\"\n",
    "    elif payment in [\n",
    "        \"through community billing arrangements (e.g., shared connections in the neighborhood)\",\n",
    "        \"through a flat rate or estimated billing system provided by the electricity company\"\n",
    "    ]:\n",
    "        return \"Tier 5\"\n",
    "    elif payment == \"do not pay for electricity\":\n",
    "        return \"Tier 0\"\n",
    "    else:\n",
    "        return \"No Tier\"  # Return blank if none of the conditions match"
   ]
  },
  {
   "cell_type": "code",
   "execution_count": 28,
   "metadata": {},
   "outputs": [
    {
     "name": "stdout",
     "output_type": "stream",
     "text": [
      "   Legality\n",
      "0    Tier 5\n",
      "1   No Tier\n",
      "2    Tier 5\n",
      "3    Tier 5\n",
      "4    Tier 5\n",
      "5   No Tier\n",
      "6   No Tier\n",
      "7    Tier 5\n",
      "8    Tier 5\n",
      "9   No Tier\n",
      "10   Tier 5\n",
      "11   Tier 5\n",
      "12  No Tier\n",
      "13   Tier 5\n",
      "14   Tier 5\n",
      "15   Tier 5\n",
      "16  No Tier\n",
      "17   Tier 5\n",
      "18  No Tier\n",
      "19   Tier 5\n"
     ]
    }
   ],
   "source": [
    "# Apply function to create \"Legality\" column\n",
    "energy_access_data[\"Legality\"] = energy_access_data.apply(\n",
    "    lambda row: determine_legality(row[metered_col], row[payment_col]), axis=1\n",
    ")\n",
    "\n",
    "# Display the first few rows to verify\n",
    "print(energy_access_data[[\"Legality\"]].head(20))\n"
   ]
  },
  {
   "cell_type": "markdown",
   "metadata": {},
   "source": [
    "#### 6. Health and Safety"
   ]
  },
  {
   "cell_type": "code",
   "execution_count": 29,
   "metadata": {},
   "outputs": [],
   "source": [
    "# Column name\n",
    "col_name = \"6B. Have you or anyone in your household experienced an incident caused by an electricity connection (e.g., shock, fire)?\"\n",
    "\n",
    "# Clean and normalize values\n",
    "energy_access_data[col_name] = (\n",
    "    energy_access_data[col_name]\n",
    "    .str.strip()  # Remove leading/trailing spaces\n",
    "    .str.lower()  # Convert to lowercase for consistency\n",
    ")"
   ]
  },
  {
   "cell_type": "code",
   "execution_count": 30,
   "metadata": {},
   "outputs": [],
   "source": [
    "# Mapping function\n",
    "def map_health_safety(value):\n",
    "    if value == \"true\":\n",
    "        return \"Tier 0\"\n",
    "    elif value == \"false\":\n",
    "        return \"Tier 5\"\n",
    "    else:\n",
    "        return \"No Tier\"  # Keep NaN as an empty string"
   ]
  },
  {
   "cell_type": "code",
   "execution_count": 31,
   "metadata": {},
   "outputs": [
    {
     "name": "stdout",
     "output_type": "stream",
     "text": [
      "  Health and Safety\n",
      "0            Tier 5\n",
      "1           No Tier\n",
      "2            Tier 5\n",
      "3            Tier 5\n",
      "4            Tier 5\n"
     ]
    }
   ],
   "source": [
    "# Apply transformation\n",
    "energy_access_data[\"Health and Safety\"] = energy_access_data[col_name].apply(map_health_safety)\n",
    "\n",
    "# Display the first few rows to verify\n",
    "print(energy_access_data[[\"Health and Safety\"]].head())\n"
   ]
  },
  {
   "cell_type": "markdown",
   "metadata": {},
   "source": [
    "#### 1. CAPACITY"
   ]
  },
  {
   "cell_type": "code",
   "execution_count": 32,
   "metadata": {},
   "outputs": [],
   "source": [
    "# Merging df1 with df2 using 'State' and 'LGA' as keys\n",
    "merged_df_for_capacity = energy_access_data.merge(tariff_data, on=['State', 'LGA'], how='left')"
   ]
  },
  {
   "cell_type": "code",
   "execution_count": 33,
   "metadata": {},
   "outputs": [],
   "source": [
    "import numpy as np\n",
    "\n",
    "# Define a function to determine the correct tariff band based on 'total_hours'\n",
    "def select_tariff(row):\n",
    "    if row['total_hours'] >= 20:\n",
    "        return row['BAND A']\n",
    "    elif 16 <= row['total_hours'] <= 19:\n",
    "        return row['BAND B']\n",
    "    elif 12 <= row['total_hours'] <= 15:\n",
    "        return row['BAND C']\n",
    "    elif 8 <= row['total_hours'] <= 11:\n",
    "        return row['BAND D']\n",
    "    elif 1 <= row['total_hours'] <= 7:\n",
    "        return row['BAND E']\n",
    "    else:\n",
    "        return np.nan  # If total_hours is 0 or NaN, return NaN\n",
    "\n",
    "# Apply the function to select the tariff\n",
    "merged_df_for_capacity['selected_tariff'] = merged_df_for_capacity.apply(select_tariff, axis=1)\n",
    "\n",
    "# Calculate Capacity in kWh\n",
    "merged_df_for_capacity['Capacity_in_kwh'] = np.where(\n",
    "    (merged_df_for_capacity['total_hours'] == 0) | (merged_df_for_capacity['total_hours'].isna()),\n",
    "    0,\n",
    "    merged_df_for_capacity['monthly grid payment'] / merged_df_for_capacity['selected_tariff']\n",
    ")\n",
    "\n"
   ]
  },
  {
   "cell_type": "code",
   "execution_count": 34,
   "metadata": {},
   "outputs": [
    {
     "name": "stdout",
     "output_type": "stream",
     "text": [
      "0      125.676721\n",
      "1        0.000000\n",
      "2      291.191458\n",
      "3       90.203861\n",
      "4       36.081544\n",
      "5        0.000000\n",
      "6        0.000000\n",
      "7       58.004640\n",
      "8      234.530038\n",
      "9        0.000000\n",
      "10      27.061158\n",
      "11       0.000000\n",
      "12       0.000000\n",
      "13     132.479576\n",
      "14      79.792539\n",
      "15      97.063819\n",
      "16       0.000000\n",
      "17      62.052506\n",
      "18       0.000000\n",
      "19     188.797986\n",
      "20     409.062303\n",
      "21       0.000000\n",
      "22     121.329774\n",
      "23      72.797865\n",
      "24      72.797865\n",
      "25       0.000000\n",
      "26     119.688809\n",
      "27      97.063819\n",
      "28      72.797865\n",
      "29     171.526587\n",
      "30     121.329774\n",
      "31     184.632865\n",
      "32     121.329774\n",
      "33      72.797865\n",
      "34      85.763293\n",
      "35      42.881647\n",
      "36     266.925504\n",
      "37      21.440823\n",
      "38      36.081544\n",
      "39      14.319809\n",
      "40      87.006961\n",
      "41       0.000000\n",
      "42       0.000000\n",
      "43       0.000000\n",
      "44       0.000000\n",
      "45    6283.836040\n",
      "46      27.061158\n",
      "47     126.285405\n",
      "48      90.203861\n",
      "49       0.000000\n",
      "Name: Capacity_in_kwh, dtype: float64\n"
     ]
    }
   ],
   "source": [
    "# Display the final DataFrame\n",
    "print(merged_df_for_capacity['Capacity_in_kwh'].head(50))"
   ]
  },
  {
   "cell_type": "code",
   "execution_count": 35,
   "metadata": {},
   "outputs": [],
   "source": [
    "# Define tier bins and labels\n",
    "bins = [-float('inf'), 0.012, 0.2, 1.0, 3.4, 8.2, float('inf')]\n",
    "labels = ['Tier 0', 'Tier 1', 'Tier 2', 'Tier 3', 'Tier 4', 'Tier 5']\n",
    "\n",
    "# Assign tiers based on Capacity_in_kWh\n",
    "merged_df_for_capacity['Capacity'] = pd.cut(merged_df_for_capacity['Capacity_in_kwh'], bins=bins, labels=labels, right=False)\n",
    "\n"
   ]
  },
  {
   "cell_type": "code",
   "execution_count": 36,
   "metadata": {},
   "outputs": [
    {
     "name": "stdout",
     "output_type": "stream",
     "text": [
      "0     Tier 5\n",
      "1     Tier 0\n",
      "2     Tier 5\n",
      "3     Tier 5\n",
      "4     Tier 5\n",
      "5     Tier 0\n",
      "6     Tier 0\n",
      "7     Tier 5\n",
      "8     Tier 5\n",
      "9     Tier 0\n",
      "10    Tier 5\n",
      "11    Tier 0\n",
      "12    Tier 0\n",
      "13    Tier 5\n",
      "14    Tier 5\n",
      "Name: Capacity, dtype: category\n",
      "Categories (6, object): ['Tier 0' < 'Tier 1' < 'Tier 2' < 'Tier 3' < 'Tier 4' < 'Tier 5']\n"
     ]
    }
   ],
   "source": [
    "# Display the updated DataFrame\n",
    "print(merged_df_for_capacity['Capacity'].head(15))"
   ]
  },
  {
   "cell_type": "code",
   "execution_count": null,
   "metadata": {},
   "outputs": [],
   "source": []
  },
  {
   "cell_type": "code",
   "execution_count": null,
   "metadata": {},
   "outputs": [],
   "source": []
  },
  {
   "cell_type": "code",
   "execution_count": null,
   "metadata": {},
   "outputs": [],
   "source": []
  },
  {
   "cell_type": "markdown",
   "metadata": {},
   "source": [
    "##### Dashboard Analysis - PER HOUSEHOLD"
   ]
  },
  {
   "cell_type": "code",
   "execution_count": 37,
   "metadata": {},
   "outputs": [],
   "source": [
    "# Create an empty DataFrame\n",
    "per_household_summary = pd.DataFrame()"
   ]
  },
  {
   "cell_type": "markdown",
   "metadata": {},
   "source": [
    "##### 1. State and LGA"
   ]
  },
  {
   "cell_type": "code",
   "execution_count": 38,
   "metadata": {},
   "outputs": [
    {
     "name": "stdout",
     "output_type": "stream",
     "text": [
      "         State                LGA\n",
      "0  Cross River  Calabar Municipal\n",
      "1  Cross River  Calabar Municipal\n",
      "2        Delta      Ughelli North\n",
      "3      Bayelsa              Nembe\n",
      "4  Cross River  Calabar Municipal\n"
     ]
    }
   ],
   "source": [
    "# Assign specific columns (with their values)\n",
    "per_household_summary['State'] = merged_df_for_capacity['State']\n",
    "per_household_summary['LGA'] = merged_df_for_capacity['LGA']\n",
    "\n",
    "print(per_household_summary.head())\n"
   ]
  },
  {
   "cell_type": "markdown",
   "metadata": {},
   "source": [
    "##### 2. Health and Safety"
   ]
  },
  {
   "cell_type": "code",
   "execution_count": 39,
   "metadata": {},
   "outputs": [
    {
     "name": "stdout",
     "output_type": "stream",
     "text": [
      "         State                LGA Health and Safety\n",
      "0  Cross River  Calabar Municipal            Tier 5\n",
      "1  Cross River  Calabar Municipal           No Tier\n",
      "2        Delta      Ughelli North            Tier 5\n",
      "3      Bayelsa              Nembe            Tier 5\n",
      "4  Cross River  Calabar Municipal            Tier 5\n"
     ]
    }
   ],
   "source": [
    "# Assign specific columns (with their values)\n",
    "per_household_summary['Health and Safety'] = merged_df_for_capacity['Health and Safety']\n",
    "\n",
    "print(per_household_summary.head())\n"
   ]
  },
  {
   "cell_type": "markdown",
   "metadata": {},
   "source": [
    "##### 3. Legality"
   ]
  },
  {
   "cell_type": "code",
   "execution_count": 40,
   "metadata": {},
   "outputs": [
    {
     "name": "stdout",
     "output_type": "stream",
     "text": [
      "0     Tier 5\n",
      "1    No Tier\n",
      "2     Tier 5\n",
      "3     Tier 5\n",
      "4     Tier 5\n",
      "Name: Legality, dtype: object\n"
     ]
    }
   ],
   "source": [
    "# Assign specific columns (with their values)\n",
    "per_household_summary['Legality'] = merged_df_for_capacity['Legality']\n",
    "\n",
    "print(per_household_summary['Legality'].head())\n"
   ]
  },
  {
   "cell_type": "markdown",
   "metadata": {},
   "source": [
    "##### 4. Affordability"
   ]
  },
  {
   "cell_type": "code",
   "execution_count": 41,
   "metadata": {},
   "outputs": [
    {
     "name": "stdout",
     "output_type": "stream",
     "text": [
      "0     Tier 5\n",
      "1    No Tier\n",
      "2     Tier 1\n",
      "3     Tier 1\n",
      "4     Tier 2\n",
      "Name: Affordability, dtype: object\n"
     ]
    }
   ],
   "source": [
    "# Assign specific columns (with their values)\n",
    "per_household_summary['Affordability'] = merged_df_for_capacity['Quality']\n",
    "\n",
    "print(per_household_summary['Affordability'].head())\n"
   ]
  },
  {
   "cell_type": "markdown",
   "metadata": {},
   "source": [
    "##### 5. Quality"
   ]
  },
  {
   "cell_type": "code",
   "execution_count": 42,
   "metadata": {},
   "outputs": [
    {
     "name": "stdout",
     "output_type": "stream",
     "text": [
      "0     Tier 5\n",
      "1    No Tier\n",
      "2     Tier 1\n",
      "3     Tier 1\n",
      "4     Tier 2\n",
      "Name: Quality, dtype: object\n"
     ]
    }
   ],
   "source": [
    "# Assign specific columns (with their values)\n",
    "per_household_summary['Quality'] = merged_df_for_capacity['Quality']\n",
    "\n",
    "print(per_household_summary['Quality'].head())\n"
   ]
  },
  {
   "cell_type": "markdown",
   "metadata": {},
   "source": [
    "##### 6. Reliability"
   ]
  },
  {
   "cell_type": "code",
   "execution_count": 43,
   "metadata": {},
   "outputs": [
    {
     "name": "stdout",
     "output_type": "stream",
     "text": [
      "0    Tier 3\n",
      "1    Tier 0\n",
      "2    Tier 4\n",
      "3    Tier 3\n",
      "4    Tier 3\n",
      "Name: Reliability, dtype: object\n"
     ]
    }
   ],
   "source": [
    "# Assign specific columns (with their values)\n",
    "per_household_summary['Reliability'] = merged_df_for_capacity['Reliability']\n",
    "\n",
    "print(per_household_summary['Reliability'].head())\n"
   ]
  },
  {
   "cell_type": "markdown",
   "metadata": {},
   "source": [
    "##### 7. Daily Availability"
   ]
  },
  {
   "cell_type": "code",
   "execution_count": 44,
   "metadata": {},
   "outputs": [
    {
     "name": "stdout",
     "output_type": "stream",
     "text": [
      "0    Tier 4\n",
      "1    Tier 0\n",
      "2    Tier 1\n",
      "3    Tier 1\n",
      "4    Tier 1\n",
      "Name: Daily Availability, dtype: object\n"
     ]
    }
   ],
   "source": [
    "# Assign specific columns (with their values)\n",
    "per_household_summary[\"Daily Availability\"] = merged_df_for_capacity[\"Daily Availability\"]\n",
    "\n",
    "print(per_household_summary[\"Daily Availability\"].head())\n"
   ]
  },
  {
   "cell_type": "markdown",
   "metadata": {},
   "source": [
    "##### 8. Daytime Availability"
   ]
  },
  {
   "cell_type": "code",
   "execution_count": 45,
   "metadata": {},
   "outputs": [
    {
     "name": "stdout",
     "output_type": "stream",
     "text": [
      "0     Tier 5\n",
      "1    No Tier\n",
      "2     Tier 2\n",
      "3     Tier 2\n",
      "4     Tier 3\n",
      "Name: Daytime Availability, dtype: object\n"
     ]
    }
   ],
   "source": [
    "# Assign specific columns (with their values)\n",
    "per_household_summary['Daytime Availability'] = merged_df_for_capacity['Daytime Availability']\n",
    "\n",
    "print(per_household_summary['Daytime Availability'].head())\n"
   ]
  },
  {
   "cell_type": "markdown",
   "metadata": {},
   "source": [
    "##### 9. Night time Availability"
   ]
  },
  {
   "cell_type": "code",
   "execution_count": 46,
   "metadata": {},
   "outputs": [
    {
     "name": "stdout",
     "output_type": "stream",
     "text": [
      "0     Tier 5\n",
      "1    No Tier\n",
      "2     Tier 4\n",
      "3     Tier 2\n",
      "4     Tier 1\n",
      "Name: Evening Availability, dtype: object\n"
     ]
    }
   ],
   "source": [
    "# Assign specific columns (with their values)\n",
    "per_household_summary['Evening Availability'] = merged_df_for_capacity['Evening Availability']\n",
    "\n",
    "print(per_household_summary['Evening Availability'].head())\n"
   ]
  },
  {
   "cell_type": "markdown",
   "metadata": {},
   "source": [
    "##### 10. Capacity"
   ]
  },
  {
   "cell_type": "code",
   "execution_count": 55,
   "metadata": {},
   "outputs": [
    {
     "name": "stdout",
     "output_type": "stream",
     "text": [
      "0    Tier 5\n",
      "1    Tier 0\n",
      "2    Tier 5\n",
      "3    Tier 5\n",
      "4    Tier 5\n",
      "Name: Capacity, dtype: category\n",
      "Categories (6, object): ['Tier 0' < 'Tier 1' < 'Tier 2' < 'Tier 3' < 'Tier 4' < 'Tier 5']\n"
     ]
    }
   ],
   "source": [
    "# Assign specific columns (with their values)\n",
    "per_household_summary['Capacity'] = merged_df_for_capacity['Capacity']\n",
    "\n",
    "print(per_household_summary['Capacity'].head())\n"
   ]
  },
  {
   "cell_type": "code",
   "execution_count": null,
   "metadata": {},
   "outputs": [],
   "source": [
    "national_level_df = per_household_summary.copy()\n",
    "state_level_df = per_household_summary.copy()"
   ]
  },
  {
   "cell_type": "markdown",
   "metadata": {},
   "source": []
  },
  {
   "cell_type": "markdown",
   "metadata": {},
   "source": [
    "# write to csv"
   ]
  },
  {
   "cell_type": "code",
   "execution_count": 48,
   "metadata": {},
   "outputs": [
    {
     "name": "stdout",
     "output_type": "stream",
     "text": [
      "Sample unique values from Capacity column: ['Tier 5', 'Tier 0', 'Tier 4', 'Tier 3']\n",
      "Categories (6, object): ['Tier 0' < 'Tier 1' < 'Tier 2' < 'Tier 3' < 'Tier 4' < 'Tier 5']\n",
      "After extraction, Capacity column unique values: [5, 0, 4, 3]\n",
      "Categories (6, int64): [0 < 1 < 2 < 3 < 4 < 5]\n",
      "### Metric Breakdown:\n",
      "- Health and Safety: 4.20 (Tier 4-5)\n",
      "- Legality: 4.43 (Tier 4-5)\n",
      "- Affordability: 1.33 (Tier 1-2)\n",
      "- Quality: 2.33 (Tier 2-3)\n",
      "- Reliability: 0.12 (Tier 0-1)\n",
      "- Daily Availability: 1.26 (Tier 1-2)\n",
      "- Daytime Availability: 1.42 (Tier 1-2)\n",
      "- Evening Availability: 3.30 (Tier 3-4)\n",
      "- Capacity: 1.00 (Tier 1-2)\n",
      "\n",
      "### Overall National Tier: 2.15 (≈ Tier 2)\n"
     ]
    },
    {
     "name": "stderr",
     "output_type": "stream",
     "text": [
      "C:\\Users\\Vista\\AppData\\Local\\Temp\\ipykernel_44768\\3919388317.py:27: FutureWarning: DataFrame.applymap has been deprecated. Use DataFrame.map instead.\n",
      "  per_household_summary[metric_columns] = per_household_summary[metric_columns].applymap(extract_highest_tier)\n"
     ]
    }
   ],
   "source": [
    "# Drop unnecessary index column if it exists\n",
    "per_household_summary = per_household_summary.drop(columns=[\"Unnamed: 0\"], errors='ignore')\n",
    "\n",
    "# Trim spaces from column names\n",
    "per_household_summary.columns = per_household_summary.columns.str.strip()\n",
    "\n",
    "# Function to extract the highest tier from a given string\n",
    "def extract_highest_tier(value):\n",
    "    if isinstance(value, str):\n",
    "        if \"No Tier\" in value:\n",
    "            return 0  # Assign 0 for \"No Tier\"\n",
    "        tiers = [int(s) for s in value.split() if s.isdigit()]  # Extract numbers\n",
    "        return max(tiers) if tiers else np.nan  # Get the highest tier or NaN if empty\n",
    "    return np.nan\n",
    "\n",
    "# Define metric columns\n",
    "metric_columns = [\n",
    "    \"Health and Safety\", \"Legality\", \"Affordability\", \"Quality\",\n",
    "    \"Reliability\", \"Daily Availability\", \"Daytime Availability\",\n",
    "    \"Evening Availability\", \"Capacity\"\n",
    "]\n",
    "\n",
    "# Debug: Print unique values in one column to check format\n",
    "print(\"Sample unique values from Capacity column:\", per_household_summary[\"Capacity\"].unique()[:10])\n",
    "\n",
    "# Apply extraction function to all metric columns\n",
    "per_household_summary[metric_columns] = per_household_summary[metric_columns].applymap(extract_highest_tier)\n",
    "\n",
    "# Debug: Check if data was correctly processed\n",
    "print(\"After extraction, Capacity column unique values:\", per_household_summary[\"Capacity\"].unique()[:10])\n",
    "\n",
    "# Define tier thresholds based on the energy access framework\n",
    "tier_thresholds = {\n",
    "    \"Health and Safety\": [0, 1, 2, 3, 4, 5],\n",
    "    \"Legality\": [0, 1, 2, 3, 4, 5],\n",
    "    \"Affordability\": [0, 1, 2, 3, 4, 5],\n",
    "    \"Quality\": [0, 1, 2, 3, 4, 5],\n",
    "    \"Reliability\": [0, 1, 2, 3, 4, 5],\n",
    "    \"Daily Availability\": [0, 4, 8, 16, 23],\n",
    "    \"Daytime Availability\": [0, 4, 8, 16, 23],\n",
    "    \"Evening Availability\": [0, 1, 2, 3, 4],\n",
    "    \"Capacity\": [0, 12, 200, 1000, 3400, 8200]\n",
    "}\n",
    "\n",
    "# Function to assign tiers based on thresholds\n",
    "def assign_tier(value, thresholds, reverse=False):\n",
    "    if pd.isna(value):\n",
    "        return np.nan\n",
    "    if reverse:  # Lower values indicate higher tiers\n",
    "        thresholds = thresholds[::-1]\n",
    "    for i, threshold in enumerate(thresholds):\n",
    "        if value < threshold:\n",
    "            return i\n",
    "    return len(thresholds) - 1\n",
    "\n",
    "# Apply the tiering function to each metric\n",
    "per_household_summary_tiers = per_household_summary.copy()\n",
    "for metric, thresholds in tier_thresholds.items():\n",
    "    reverse = metric in [\"Reliability\", \"Affordability\"]  # Lower is better for these\n",
    "    per_household_summary_tiers[f\"{metric}_Tier\"] = per_household_summary[metric].apply(lambda x: assign_tier(x, thresholds, reverse))\n",
    "\n",
    "# Compute the national average tier for each metric\n",
    "national_tiers = per_household_summary_tiers[[col for col in per_household_summary_tiers.columns if \"_Tier\" in col]].mean()\n",
    "\n",
    "# Compute the overall national tier\n",
    "overall_national_tier = national_tiers.mean()\n",
    "\n",
    "# Print the metric breakdown\n",
    "print(\"### Metric Breakdown:\")\n",
    "for metric, value in national_tiers.items():\n",
    "    tier_range = f\"(Tier {int(value)}-{int(value) + 1})\" if not pd.isna(value) else \"N/A\"\n",
    "    print(f\"- {metric.replace('_Tier', '')}: {value:.2f} {tier_range}\")\n",
    "\n",
    "# Ensure overall tier is a valid number before converting to int\n",
    "if not pd.isna(overall_national_tier):\n",
    "    print(f\"\\n### Overall National Tier: {overall_national_tier:.2f} (≈ Tier {int(np.round(overall_national_tier))})\")\n",
    "else:\n",
    "    print(\"\\n### Overall National Tier: Data issue - Cannot determine tier\")"
   ]
  },
  {
   "cell_type": "markdown",
   "metadata": {},
   "source": []
  },
  {
   "cell_type": "code",
   "execution_count": null,
   "metadata": {},
   "outputs": [],
   "source": [
    "### state"
   ]
  },
  {
   "cell_type": "code",
   "execution_count": 51,
   "metadata": {},
   "outputs": [
    {
     "name": "stdout",
     "output_type": "stream",
     "text": [
      "State-level energy access tiers saved to 'state_energy_access_tiers.csv' in the current directory.\n"
     ]
    },
    {
     "name": "stderr",
     "output_type": "stream",
     "text": [
      "C:\\Users\\Vista\\AppData\\Local\\Temp\\ipykernel_44768\\3566551673.py:24: FutureWarning: DataFrame.applymap has been deprecated. Use DataFrame.map instead.\n",
      "  per_household_summary[metric_columns] = per_household_summary[metric_columns].applymap(extract_highest_tier)\n"
     ]
    }
   ],
   "source": [
    "# Drop unnecessary index column if it exists\n",
    "per_household_summary = per_household_summary.drop(columns=[\"Unnamed: 0\"], errors='ignore')\n",
    "\n",
    "# Trim spaces from column names\n",
    "per_household_summary.columns = per_household_summary.columns.str.strip()\n",
    "\n",
    "# Function to extract the highest tier from a given string\n",
    "def extract_highest_tier(value):\n",
    "    if isinstance(value, str):\n",
    "        if \"No Tier\" in value:\n",
    "            return 0  # Assign 0 for \"No Tier\"\n",
    "        tiers = [int(s) for s in value.split() if s.isdigit()]  # Extract numbers\n",
    "        return max(tiers) if tiers else np.nan  # Get the highest tier or NaN if empty\n",
    "    return np.nan\n",
    "\n",
    "# Define metric columns\n",
    "metric_columns = [\n",
    "    \"Health and Safety\", \"Legality\", \"Affordability\", \"Quality\",\n",
    "    \"Reliability\", \"Daily Availability\", \"Daytime Availability\",\n",
    "    \"Evening Availability\", \"Capacity\"\n",
    "]\n",
    "\n",
    "# Apply extraction function to all metric columns\n",
    "per_household_summary[metric_columns] = per_household_summary[metric_columns].applymap(extract_highest_tier)\n",
    "\n",
    "# Define tier thresholds based on the energy access framework\n",
    "tier_thresholds = {\n",
    "    \"Health and Safety\": [0, 1, 2, 3, 4, 5],\n",
    "    \"Legality\": [0, 1, 2, 3, 4, 5],\n",
    "    \"Affordability\": [0, 1, 2, 3, 4, 5],\n",
    "    \"Quality\": [0, 1, 2, 3, 4, 5],\n",
    "    \"Reliability\": [0, 1, 2, 3, 4, 5],\n",
    "    \"Daily Availability\": [0, 4, 8, 16, 23],\n",
    "    \"Daytime Availability\": [0, 4, 8, 16, 23],\n",
    "    \"Evening Availability\": [0, 1, 2, 3, 4],\n",
    "    \"Capacity\": [0, 12, 200, 1000, 3400, 8200]\n",
    "}\n",
    "\n",
    "# Function to assign tiers based on thresholds\n",
    "def assign_tier(value, thresholds, reverse=False):\n",
    "    if pd.isna(value):\n",
    "        return np.nan\n",
    "    if reverse:  # Lower values indicate higher tiers\n",
    "        thresholds = thresholds[::-1]\n",
    "    for i, threshold in enumerate(thresholds):\n",
    "        if value < threshold:\n",
    "            return i\n",
    "    return len(thresholds) - 1\n",
    "\n",
    "# Apply the tiering function to each metric\n",
    "per_household_summary_tiers = per_household_summary.copy()\n",
    "for metric, thresholds in tier_thresholds.items():\n",
    "    reverse = metric in [\"Reliability\", \"Affordability\"]  # Lower is better for these\n",
    "    per_household_summary_tiers[f\"{metric}_Tier\"] = per_household_summary[metric].apply(lambda x: assign_tier(x, thresholds, reverse))\n",
    "\n",
    "# Compute the state average tier for each metric\n",
    "state_tiers = per_household_summary_tiers.groupby(\"State\")[[col for col in per_household_summary_tiers.columns if \"_Tier\" in col]].mean()\n",
    "\n",
    "# Compute the overall tier for each state using the weakest-link approach\n",
    "state_tiers[\"Overall_Tier\"] = state_tiers.min(axis=1)\n",
    "\n",
    "# Save state-level energy access tiers to CSV\n",
    "state_tiers.to_csv(\"state_energy_access_tiers.csv\")\n",
    "\n",
    "print(\"State-level energy access tiers saved to 'state_energy_access_tiers.csv' in the current directory.\")\n"
   ]
  },
  {
   "cell_type": "code",
   "execution_count": 52,
   "metadata": {},
   "outputs": [
    {
     "name": "stdout",
     "output_type": "stream",
     "text": [
      "['State', 'LGA', 'Health and Safety', 'Legality', 'Affordability', 'Quality', 'Reliability', 'Daily Availability', 'Daytime Availability', 'Evening Availability', 'Capacity']\n"
     ]
    }
   ],
   "source": [
    "print(per_household_summary.columns.tolist())\n"
   ]
  },
  {
   "cell_type": "code",
   "execution_count": 53,
   "metadata": {},
   "outputs": [],
   "source": [
    "per_household_summary.columns = per_household_summary.columns.str.strip()\n"
   ]
  },
  {
   "cell_type": "code",
   "execution_count": 56,
   "metadata": {},
   "outputs": [
    {
     "name": "stdout",
     "output_type": "stream",
     "text": [
      "         State                LGA  Health and Safety  Legality  Affordability  \\\n",
      "0  Cross River  Calabar Municipal                NaN       NaN            NaN   \n",
      "1  Cross River  Calabar Municipal                NaN       NaN            NaN   \n",
      "2        Delta      Ughelli North                NaN       NaN            NaN   \n",
      "3      Bayelsa              Nembe                NaN       NaN            NaN   \n",
      "4  Cross River  Calabar Municipal                NaN       NaN            NaN   \n",
      "\n",
      "   Quality  Reliability  Daily Availability  Daytime Availability  \\\n",
      "0      NaN          NaN                 NaN                   NaN   \n",
      "1      NaN          NaN                 NaN                   NaN   \n",
      "2      NaN          NaN                 NaN                   NaN   \n",
      "3      NaN          NaN                 NaN                   NaN   \n",
      "4      NaN          NaN                 NaN                   NaN   \n",
      "\n",
      "   Evening Availability Capacity  \n",
      "0                   NaN   Tier 5  \n",
      "1                   NaN   Tier 0  \n",
      "2                   NaN   Tier 5  \n",
      "3                   NaN   Tier 5  \n",
      "4                   NaN   Tier 5  \n",
      "         State                LGA  Health and Safety  Legality  Affordability  \\\n",
      "0  Cross River  Calabar Municipal                NaN       NaN            NaN   \n",
      "1  Cross River  Calabar Municipal                NaN       NaN            NaN   \n",
      "2        Delta      Ughelli North                NaN       NaN            NaN   \n",
      "3      Bayelsa              Nembe                NaN       NaN            NaN   \n",
      "4  Cross River  Calabar Municipal                NaN       NaN            NaN   \n",
      "\n",
      "   Quality  Reliability  Daily Availability  Daytime Availability  \\\n",
      "0      NaN          NaN                 NaN                   NaN   \n",
      "1      NaN          NaN                 NaN                   NaN   \n",
      "2      NaN          NaN                 NaN                   NaN   \n",
      "3      NaN          NaN                 NaN                   NaN   \n",
      "4      NaN          NaN                 NaN                   NaN   \n",
      "\n",
      "   Evening Availability Capacity  \n",
      "0                   NaN   Tier 5  \n",
      "1                   NaN   Tier 0  \n",
      "2                   NaN   Tier 5  \n",
      "3                   NaN   Tier 5  \n",
      "4                   NaN   Tier 5  \n"
     ]
    }
   ],
   "source": [
    "print(per_household_summary.head(5))\n",
    "print(per_household_summary.head(5))\n",
    "\n"
   ]
  },
  {
   "cell_type": "code",
   "execution_count": null,
   "metadata": {},
   "outputs": [],
   "source": []
  }
 ],
 "metadata": {
  "kernelspec": {
   "display_name": "Python 3.12.4 64-bit",
   "language": "python",
   "name": "python3"
  },
  "language_info": {
   "codemirror_mode": {
    "name": "ipython",
    "version": 3
   },
   "file_extension": ".py",
   "mimetype": "text/x-python",
   "name": "python",
   "nbconvert_exporter": "python",
   "pygments_lexer": "ipython3",
   "version": "3.12.4"
  },
  "orig_nbformat": 4,
  "vscode": {
   "interpreter": {
    "hash": "a940ce198f1cec256b3c1d63fb015ac77894c8c2a48fdeb7eec9bef16754d937"
   }
  }
 },
 "nbformat": 4,
 "nbformat_minor": 2
}
