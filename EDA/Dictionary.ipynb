{
 "cells": [
  {
   "cell_type": "code",
   "execution_count": 1,
   "metadata": {},
   "outputs": [],
   "source": [
    "import pandas as pd\n",
    "import numpy as np"
   ]
  },
  {
   "cell_type": "code",
   "execution_count": 2,
   "metadata": {},
   "outputs": [],
   "source": [
    "# Read data\n",
    "sheet_url = \"../../NESIP_FIELD_DATA/data.xlsx\"\n",
    "\n",
    "sheet_ea_passed = \"TBE\"\n",
    "\n",
    "tariff_df = \"disco_information_lga\"\n",
    "\n",
    "# Load the sheet into a DataFrame\n",
    "energy_access_data = pd.read_excel(sheet_url, sheet_name=sheet_ea_passed, dtype=str)\n"
   ]
  },
  {
   "cell_type": "markdown",
   "metadata": {},
   "source": [
    "#### ENCODE"
   ]
  },
  {
   "cell_type": "code",
   "execution_count": 3,
   "metadata": {},
   "outputs": [],
   "source": [
    "# Create a new empty DataFrame to store encoded values\n",
    "df_encoded = pd.DataFrame()\n"
   ]
  },
  {
   "cell_type": "code",
   "execution_count": 4,
   "metadata": {},
   "outputs": [
    {
     "name": "stdout",
     "output_type": "stream",
     "text": [
      "  ea_unique_id\n",
      "0     f353f088\n",
      "1     c175f41b\n",
      "2     eef8c99e\n",
      "3     d38f809a\n",
      "4     e7d82445\n"
     ]
    }
   ],
   "source": [
    "# Encode 'state' column and store in the new DataFrame\n",
    "df_encoded['ea_unique_id'] = energy_access_data['unique_id']\n",
    "print(df_encoded.head())"
   ]
  },
  {
   "cell_type": "code",
   "execution_count": 5,
   "metadata": {},
   "outputs": [],
   "source": [
    "# Define the states\n",
    "states = [\n",
    "    'Cross River', 'Delta', 'Bayelsa', 'Rivers', 'Lagos', 'Ondo',\n",
    "    'Ekiti', 'Oyo', 'Ogun', 'Osun', 'Akwa-Ibom', 'Edo', 'Benue',\n",
    "    'Kwara', 'Kogi', 'Anambra', 'Enugu', 'Federal Capital Territory',\n",
    "    'Niger', 'Nasarawa', 'Abia', 'Imo', 'Plateau', 'Ebonyi', 'Sokoto',\n",
    "    'Kano', 'Zamfara', 'Kebbi', 'Bauchi', 'Yobe', 'Taraba', 'Gombe',\n",
    "    'Borno', 'Adamawa', 'Kastina', 'Jigawa', 'Kaduna'\n",
    "]\n",
    "\n",
    "# Create the encoding dictionary\n",
    "state_encoding = {state: i+1 for i, state in enumerate(states)}  # Start from 1\n"
   ]
  },
  {
   "cell_type": "code",
   "execution_count": 6,
   "metadata": {},
   "outputs": [
    {
     "name": "stdout",
     "output_type": "stream",
     "text": [
      "  ea_unique_id  ea_st\n",
      "0     f353f088      1\n",
      "1     c175f41b      1\n",
      "2     eef8c99e      2\n",
      "3     d38f809a      3\n",
      "4     e7d82445      1\n"
     ]
    }
   ],
   "source": [
    "# Encode 'state' column and store in the new DataFrame\n",
    "df_encoded['ea_st'] = energy_access_data['State'].map(state_encoding).fillna(0).astype(int)\n",
    "\n",
    "print(df_encoded.head())"
   ]
  },
  {
   "cell_type": "code",
   "execution_count": 7,
   "metadata": {},
   "outputs": [
    {
     "name": "stdout",
     "output_type": "stream",
     "text": [
      "  ea_unique_id  ea_st  ea_lga\n",
      "0     f353f088      1       1\n",
      "1     c175f41b      1       1\n",
      "2     eef8c99e      2       2\n",
      "3     d38f809a      3       3\n",
      "4     e7d82445      1       1\n"
     ]
    }
   ],
   "source": [
    "LGA = energy_access_data['LGA'].unique().tolist()\n",
    "\n",
    "# Create the encoding dictionary\n",
    "LGA_encoding = {LGA: i+1 for i, LGA in enumerate(LGA)}  # Start from 1\n",
    "\n",
    "# Encode 'state' column and store in the new DataFrame\n",
    "df_encoded['ea_lga'] = energy_access_data['LGA'].map(LGA_encoding).fillna(0).astype(int)\n",
    "\n",
    "print(df_encoded.head())"
   ]
  },
  {
   "cell_type": "code",
   "execution_count": 8,
   "metadata": {},
   "outputs": [
    {
     "name": "stdout",
     "output_type": "stream",
     "text": [
      "  ea_unique_id  ea_st  ea_lga              ea_geo\n",
      "0     f353f088      1       1  4.957840, 8.331658\n",
      "1     c175f41b      1       1  4.963248, 8.336100\n",
      "2     eef8c99e      2       2  5.516544, 5.973179\n",
      "3     d38f809a      3       3  4.905981, 6.297498\n",
      "4     e7d82445      1       1  4.974888, 8.352433\n"
     ]
    }
   ],
   "source": [
    "# Encode 'state' column and store in the new DataFrame\n",
    "df_encoded['ea_geo'] = energy_access_data['Geolocation']\n",
    "print(df_encoded.head())"
   ]
  },
  {
   "cell_type": "code",
   "execution_count": 9,
   "metadata": {},
   "outputs": [
    {
     "name": "stdout",
     "output_type": "stream",
     "text": [
      "  ea_unique_id  ea_st  ea_lga              ea_geo  ea_arDesc\n",
      "0     f353f088      1       1  4.957840, 8.331658          1\n",
      "1     c175f41b      1       1  4.963248, 8.336100          1\n",
      "2     eef8c99e      2       2  5.516544, 5.973179          1\n",
      "3     d38f809a      3       3  4.905981, 6.297498          1\n",
      "4     e7d82445      1       1  4.974888, 8.352433          1\n"
     ]
    }
   ],
   "source": [
    "area_desc = energy_access_data['Area Description'].unique().tolist()\n",
    "\n",
    "# Create the encoding dictionary\n",
    "area_desc_encoding = {area_desc: i+1 for i, area_desc in enumerate(area_desc)}  # Start from 1\n",
    "\n",
    "# Encode 'state' column and store in the new DataFrame\n",
    "df_encoded['ea_arDesc'] = energy_access_data['Area Description'].map(area_desc_encoding).fillna(0).astype(int)\n",
    "\n",
    "print(df_encoded.head())\n"
   ]
  },
  {
   "cell_type": "code",
   "execution_count": 10,
   "metadata": {},
   "outputs": [
    {
     "name": "stdout",
     "output_type": "stream",
     "text": [
      "  ea_unique_id  ea_st  ea_lga              ea_geo  ea_arDesc  ea_ltype\n",
      "0     f353f088      1       1  4.957840, 8.331658          1         1\n",
      "1     c175f41b      1       1  4.963248, 8.336100          1         1\n",
      "2     eef8c99e      2       2  5.516544, 5.973179          1         1\n",
      "3     d38f809a      3       3  4.905981, 6.297498          1         1\n",
      "4     e7d82445      1       1  4.974888, 8.352433          1         1\n"
     ]
    }
   ],
   "source": [
    "un_val = energy_access_data['Location Type'].unique().tolist()\n",
    "\n",
    "# Create the encoding dictionary\n",
    "un_val_encoding = {un_val: i+1 for i, un_val in enumerate(un_val)}  # Start from 1\n",
    "\n",
    "# Encode 'state' column and store in the new DataFrame\n",
    "df_encoded['ea_ltype'] = energy_access_data['Location Type'].map(un_val_encoding).fillna(0).astype(int)\n",
    "\n",
    "print(df_encoded.head())\n"
   ]
  },
  {
   "cell_type": "code",
   "execution_count": 11,
   "metadata": {},
   "outputs": [
    {
     "name": "stdout",
     "output_type": "stream",
     "text": [
      "0    1\n",
      "1    1\n",
      "2    1\n",
      "3    1\n",
      "4    1\n",
      "Name: ea_lang, dtype: int64\n"
     ]
    }
   ],
   "source": [
    "un_val = energy_access_data['Preferred Language'].unique().tolist()\n",
    "\n",
    "# Create the encoding dictionary\n",
    "un_val_encoding = {un_val: i+1 for i, un_val in enumerate(un_val)}  # Start from 1\n",
    "\n",
    "# Encode 'state' column and store in the new DataFrame\n",
    "df_encoded['ea_lang'] = energy_access_data['Preferred Language'].map(un_val_encoding).fillna(0).astype(int)\n",
    "\n",
    "print(df_encoded['ea_lang'].head())\n"
   ]
  },
  {
   "cell_type": "code",
   "execution_count": 12,
   "metadata": {},
   "outputs": [
    {
     "name": "stdout",
     "output_type": "stream",
     "text": [
      "0    0\n",
      "1    0\n",
      "2    0\n",
      "3    0\n",
      "4    0\n",
      "Name: ea_HH_sec, dtype: int64\n"
     ]
    },
    {
     "name": "stderr",
     "output_type": "stream",
     "text": [
      "C:\\Users\\Vista\\AppData\\Local\\Temp\\ipykernel_42064\\2032181835.py:2: FutureWarning: Downcasting object dtype arrays on .fillna, .ffill, .bfill is deprecated and will change in a future version. Call result.infer_objects(copy=False) instead. To opt-in to the future behavior, set `pd.set_option('future.no_silent_downcasting', True)`\n",
      "  df_encoded['ea_HH_sec'] = energy_access_data['SECTION 1: HOUSEHOLD INFORMATION'].fillna(0).astype(int)\n"
     ]
    }
   ],
   "source": [
    "# Encode 'state' column and store in the new DataFrame\n",
    "df_encoded['ea_HH_sec'] = energy_access_data['SECTION 1: HOUSEHOLD INFORMATION'].fillna(0).astype(int)\n",
    "print(df_encoded['ea_HH_sec'].head())"
   ]
  },
  {
   "cell_type": "code",
   "execution_count": 13,
   "metadata": {},
   "outputs": [
    {
     "name": "stdout",
     "output_type": "stream",
     "text": [
      "0    1\n",
      "1    2\n",
      "2    1\n",
      "3    2\n",
      "4    2\n",
      "Name: ea_HH_1, dtype: int64\n"
     ]
    }
   ],
   "source": [
    "un_val = energy_access_data['1C. Are you the head of the Household?'].unique().tolist()\n",
    "\n",
    "# Create the encoding dictionary\n",
    "un_val_encoding = {un_val: i+1 for i, un_val in enumerate(un_val)}  # Start from 1\n",
    "\n",
    "# Encode 'state' column and store in the new DataFrame\n",
    "df_encoded['ea_HH_1'] = energy_access_data['1C. Are you the head of the Household?'].map(un_val_encoding).fillna(0).astype(int)\n",
    "\n",
    "print(df_encoded['ea_HH_1'].head())"
   ]
  },
  {
   "cell_type": "code",
   "execution_count": 14,
   "metadata": {},
   "outputs": [
    {
     "name": "stdout",
     "output_type": "stream",
     "text": [
      "0    1\n",
      "1    2\n",
      "2    1\n",
      "3    2\n",
      "4    1\n",
      "Name: ea_HH_2, dtype: int64\n"
     ]
    }
   ],
   "source": [
    "un_val = energy_access_data['1D. Gender'].unique().tolist()\n",
    "\n",
    "# Create the encoding dictionary\n",
    "un_val_encoding = {un_val: i+1 for i, un_val in enumerate(un_val)}  # Start from 1\n",
    "\n",
    "# Encode 'state' column and store in the new DataFrame\n",
    "df_encoded['ea_HH_2'] = energy_access_data['1D. Gender'].map(un_val_encoding).fillna(0).astype(int)\n",
    "\n",
    "print(df_encoded['ea_HH_2'].head())"
   ]
  },
  {
   "cell_type": "code",
   "execution_count": 15,
   "metadata": {},
   "outputs": [
    {
     "name": "stdout",
     "output_type": "stream",
     "text": [
      "0    1\n",
      "1    1\n",
      "2    2\n",
      "3    1\n",
      "4    1\n",
      "Name: ea_HH_3, dtype: int64\n"
     ]
    }
   ],
   "source": [
    "col_name = \"1E. Age Range\"\n",
    "en_col_name = \"ea_HH_3\"\n",
    "\n",
    "\n",
    "un_val = energy_access_data[col_name].unique().tolist()\n",
    "\n",
    "# Create the encoding dictionary\n",
    "un_val_encoding = {un_val: i+1 for i, un_val in enumerate(un_val)}  # Start from 1\n",
    "\n",
    "# Encode 'state' column and store in the new DataFrame\n",
    "df_encoded[en_col_name] = energy_access_data[col_name].map(un_val_encoding).fillna(0).astype(int)\n",
    "\n",
    "print(df_encoded[en_col_name].head())"
   ]
  },
  {
   "cell_type": "code",
   "execution_count": 16,
   "metadata": {},
   "outputs": [
    {
     "name": "stdout",
     "output_type": "stream",
     "text": [
      "0    1\n",
      "1    1\n",
      "2    1\n",
      "3    1\n",
      "4    1\n",
      "Name: ea_HH_4, dtype: int64\n"
     ]
    }
   ],
   "source": [
    "col_name = \"1F. Highest level of education attained\"\n",
    "en_col_name = \"ea_HH_4\"\n",
    "\n",
    "\n",
    "un_val = energy_access_data[col_name].unique().tolist()\n",
    "\n",
    "# Create the encoding dictionary\n",
    "un_val_encoding = {un_val: i+1 for i, un_val in enumerate(un_val)}  # Start from 1\n",
    "\n",
    "# Encode 'state' column and store in the new DataFrame\n",
    "df_encoded[en_col_name] = energy_access_data[col_name].map(un_val_encoding).fillna(0).astype(int)\n",
    "\n",
    "print(df_encoded[en_col_name].head())"
   ]
  },
  {
   "cell_type": "code",
   "execution_count": 17,
   "metadata": {},
   "outputs": [
    {
     "name": "stdout",
     "output_type": "stream",
     "text": [
      "0    1\n",
      "1    2\n",
      "2    3\n",
      "3    1\n",
      "4    4\n",
      "Name: ea_HH_5, dtype: int64\n"
     ]
    }
   ],
   "source": [
    "col_name = \"1G. What is the primary occupation of the head of household\"\n",
    "en_col_name = \"ea_HH_5\"\n",
    "\n",
    "\n",
    "un_val = energy_access_data[col_name].unique().tolist()\n",
    "\n",
    "# Create the encoding dictionary\n",
    "un_val_encoding = {un_val: i+1 for i, un_val in enumerate(un_val)}  # Start from 1\n",
    "\n",
    "# Encode 'state' column and store in the new DataFrame\n",
    "df_encoded[en_col_name] = energy_access_data[col_name].map(un_val_encoding).fillna(0).astype(int)\n",
    "\n",
    "print(df_encoded[en_col_name].head())"
   ]
  },
  {
   "cell_type": "code",
   "execution_count": 18,
   "metadata": {},
   "outputs": [
    {
     "name": "stdout",
     "output_type": "stream",
     "text": [
      "0                  0\n",
      "1                  0\n",
      "2    Ministry Pastor\n",
      "3                  0\n",
      "4                  0\n",
      "Name: ea_HH_6, dtype: object\n"
     ]
    }
   ],
   "source": [
    "col_name = \"1G(i). Others, Please specify(po)\"\n",
    "en_col_name = \"ea_HH_6\"\n",
    "\n",
    "# Encode 'state' column and store in the new DataFrame\n",
    "df_encoded[en_col_name] = energy_access_data[col_name].fillna(0)\n",
    "print(df_encoded[en_col_name].head())"
   ]
  },
  {
   "cell_type": "code",
   "execution_count": 19,
   "metadata": {},
   "outputs": [
    {
     "name": "stdout",
     "output_type": "stream",
     "text": [
      "0    1\n",
      "1    1\n",
      "2    1\n",
      "3    2\n",
      "4    2\n",
      "Name: ea_HH_7, dtype: int64\n"
     ]
    }
   ],
   "source": [
    "col_name = \"1H. What type of building is the household residing in?\"\n",
    "en_col_name = \"ea_HH_7\"\n",
    "\n",
    "\n",
    "un_val = energy_access_data[col_name].unique().tolist()\n",
    "\n",
    "# Create the encoding dictionary\n",
    "un_val_encoding = {un_val: i+1 for i, un_val in enumerate(un_val)}  # Start from 1\n",
    "\n",
    "# Encode 'state' column and store in the new DataFrame\n",
    "df_encoded[en_col_name] = energy_access_data[col_name].map(un_val_encoding).fillna(0).astype(int)\n",
    "\n",
    "print(df_encoded[en_col_name].head())"
   ]
  },
  {
   "cell_type": "code",
   "execution_count": 20,
   "metadata": {},
   "outputs": [
    {
     "name": "stdout",
     "output_type": "stream",
     "text": [
      "0    1\n",
      "1    1\n",
      "2    1\n",
      "3    1\n",
      "4    1\n",
      "Name: ea_HH_8, dtype: int64\n"
     ]
    }
   ],
   "source": [
    "col_name = \"1I. What is the size of your household (number of individuals permanently living in the household, including yourself)\"\n",
    "en_col_name = \"ea_HH_8\"\n",
    "\n",
    "\n",
    "un_val = energy_access_data[col_name].unique().tolist()\n",
    "\n",
    "# Create the encoding dictionary\n",
    "un_val_encoding = {un_val: i+1 for i, un_val in enumerate(un_val)}  # Start from 1\n",
    "\n",
    "# Encode 'state' column and store in the new DataFrame\n",
    "df_encoded[en_col_name] = energy_access_data[col_name].map(un_val_encoding).fillna(0).astype(int)\n",
    "\n",
    "print(df_encoded[en_col_name].head())"
   ]
  },
  {
   "cell_type": "code",
   "execution_count": 21,
   "metadata": {},
   "outputs": [
    {
     "name": "stdout",
     "output_type": "stream",
     "text": [
      "0    1\n",
      "1    1\n",
      "2    2\n",
      "3    1\n",
      "4    1\n",
      "Name: ea_HH_9, dtype: int64\n"
     ]
    }
   ],
   "source": [
    "col_name = \"1J. Is the house/housing unit owned or rented?\"\n",
    "en_col_name = \"ea_HH_9\"\n",
    "\n",
    "\n",
    "un_val = energy_access_data[col_name].unique().tolist()\n",
    "\n",
    "# Create the encoding dictionary\n",
    "un_val_encoding = {un_val: i+1 for i, un_val in enumerate(un_val)}  # Start from 1\n",
    "\n",
    "# Encode 'state' column and store in the new DataFrame\n",
    "df_encoded[en_col_name] = energy_access_data[col_name].map(un_val_encoding).fillna(0).astype(int)\n",
    "\n",
    "print(df_encoded[en_col_name].head())"
   ]
  },
  {
   "cell_type": "code",
   "execution_count": 22,
   "metadata": {},
   "outputs": [
    {
     "name": "stdout",
     "output_type": "stream",
     "text": [
      "0    1\n",
      "1    2\n",
      "2    3\n",
      "3    2\n",
      "4    2\n",
      "Name: ea_HH_10, dtype: int64\n"
     ]
    }
   ],
   "source": [
    "col_name = \"1K. How long have you been residing in this house?\"\n",
    "en_col_name = \"ea_HH_10\"\n",
    "\n",
    "\n",
    "un_val = energy_access_data[col_name].unique().tolist()\n",
    "\n",
    "# Create the encoding dictionary\n",
    "un_val_encoding = {un_val: i+1 for i, un_val in enumerate(un_val)}  # Start from 1\n",
    "\n",
    "# Encode 'state' column and store in the new DataFrame\n",
    "df_encoded[en_col_name] = energy_access_data[col_name].map(un_val_encoding).fillna(0).astype(int)\n",
    "\n",
    "print(df_encoded[en_col_name].head())"
   ]
  },
  {
   "cell_type": "code",
   "execution_count": 23,
   "metadata": {},
   "outputs": [
    {
     "name": "stdout",
     "output_type": "stream",
     "text": [
      "0    1\n",
      "1    1\n",
      "2    2\n",
      "3    1\n",
      "4    2\n",
      "Name: ea_HH_11, dtype: int64\n"
     ]
    }
   ],
   "source": [
    "col_name = \"1L. Primary source of income of the household?\"\n",
    "en_col_name = \"ea_HH_11\"\n",
    "\n",
    "\n",
    "un_val = energy_access_data[col_name].unique().tolist()\n",
    "\n",
    "# Create the encoding dictionary\n",
    "un_val_encoding = {un_val: i+1 for i, un_val in enumerate(un_val)}  # Start from 1\n",
    "\n",
    "# Encode 'state' column and store in the new DataFrame\n",
    "df_encoded[en_col_name] = energy_access_data[col_name].map(un_val_encoding).fillna(0).astype(int)\n",
    "\n",
    "print(df_encoded[en_col_name].head())"
   ]
  },
  {
   "cell_type": "code",
   "execution_count": 24,
   "metadata": {},
   "outputs": [
    {
     "name": "stdout",
     "output_type": "stream",
     "text": [
      "0    0\n",
      "1    0\n",
      "2    0\n",
      "3    0\n",
      "4    0\n",
      "Name: ea_HH_12, dtype: object\n"
     ]
    }
   ],
   "source": [
    "col_name = \"1L(i). if others, please specify(ih)\"\n",
    "en_col_name = \"ea_HH_12\"\n",
    "\n",
    "# Encode 'state' column and store in the new DataFrame\n",
    "df_encoded[en_col_name] = energy_access_data[col_name].fillna(0)\n",
    "print(df_encoded[en_col_name].head())"
   ]
  },
  {
   "cell_type": "code",
   "execution_count": 25,
   "metadata": {},
   "outputs": [
    {
     "name": "stdout",
     "output_type": "stream",
     "text": [
      "0    1\n",
      "1    2\n",
      "2    3\n",
      "3    4\n",
      "4    1\n",
      "Name: ea_HH_13, dtype: int64\n"
     ]
    }
   ],
   "source": [
    "col_name = \"1L(ii). What is your total monthly household income?, Range in ₦.\"\n",
    "en_col_name = \"ea_HH_13\"\n",
    "\n",
    "\n",
    "un_val = energy_access_data[col_name].unique().tolist()\n",
    "\n",
    "# Create the encoding dictionary\n",
    "un_val_encoding = {un_val: i+1 for i, un_val in enumerate(un_val)}  # Start from 1\n",
    "\n",
    "# Encode 'state' column and store in the new DataFrame\n",
    "df_encoded[en_col_name] = energy_access_data[col_name].map(un_val_encoding).fillna(0).astype(int)\n",
    "\n",
    "print(df_encoded[en_col_name].head())"
   ]
  },
  {
   "cell_type": "code",
   "execution_count": 26,
   "metadata": {},
   "outputs": [
    {
     "name": "stdout",
     "output_type": "stream",
     "text": [
      "0     85000\n",
      "1     50000\n",
      "2    200000\n",
      "3    300000\n",
      "4     70000\n",
      "Name: ea_HH_14, dtype: object\n"
     ]
    }
   ],
   "source": [
    "col_name = \"1L(iii). What is your total monthly household income?, Specify in ₦.\"\n",
    "en_col_name = \"ea_HH_14\"\n",
    "\n",
    "# Encode 'state' column and store in the new DataFrame\n",
    "df_encoded[en_col_name] = energy_access_data[col_name].fillna(0)\n",
    "print(df_encoded[en_col_name].head())"
   ]
  },
  {
   "cell_type": "code",
   "execution_count": 27,
   "metadata": {},
   "outputs": [
    {
     "name": "stdout",
     "output_type": "stream",
     "text": [
      "0    1\n",
      "1    1\n",
      "2    2\n",
      "3    1\n",
      "4    1\n",
      "Name: ea_HH_15, dtype: int64\n"
     ]
    }
   ],
   "source": [
    "col_name = \"1N. Do you have a business you run in your household?\"\n",
    "en_col_name = \"ea_HH_15\"\n",
    "\n",
    "\n",
    "un_val = energy_access_data[col_name].unique().tolist()\n",
    "\n",
    "# Create the encoding dictionary\n",
    "un_val_encoding = {un_val: i+1 for i, un_val in enumerate(un_val)}  # Start from 1\n",
    "\n",
    "# Encode 'state' column and store in the new DataFrame\n",
    "df_encoded[en_col_name] = energy_access_data[col_name].map(un_val_encoding).fillna(0).astype(int)\n",
    "\n",
    "print(df_encoded[en_col_name].head())"
   ]
  },
  {
   "cell_type": "code",
   "execution_count": 28,
   "metadata": {},
   "outputs": [
    {
     "name": "stdout",
     "output_type": "stream",
     "text": [
      "   ea_HH_16\n",
      "0         0\n",
      "1         0\n",
      "2         1\n",
      "3         0\n",
      "4         0\n"
     ]
    }
   ],
   "source": [
    "# Column names\n",
    "col_name = \"1O. If yes, what is the nature of the business?\"\n",
    "en_col_name = \"ea_HH_16\"\n",
    "\n",
    "# Get unique values **excluding NaN**\n",
    "un_val = energy_access_data[col_name].dropna().unique().tolist()\n",
    "\n",
    "# Create encoding dictionary (starting from 1)\n",
    "un_val_encoding = {val: i+1 for i, val in enumerate(un_val)}  \n",
    "\n",
    "# Apply encoding, ensuring NaN stays 0\n",
    "energy_access_data[en_col_name] = energy_access_data[col_name].map(un_val_encoding).fillna(0).astype(int)\n",
    "\n",
    "# Print encoded column\n",
    "print(energy_access_data[[en_col_name]].head())"
   ]
  },
  {
   "cell_type": "code",
   "execution_count": 29,
   "metadata": {},
   "outputs": [
    {
     "name": "stdout",
     "output_type": "stream",
     "text": [
      "0         0\n",
      "1         0\n",
      "2    Clinic\n",
      "3         0\n",
      "4         0\n",
      "Name: ea_HH_17, dtype: object\n"
     ]
    }
   ],
   "source": [
    "col_name = \"1O(i). please specify(bn)\"\n",
    "en_col_name = \"ea_HH_17\"\n",
    "\n",
    "# Encode 'state' column and store in the new DataFrame\n",
    "df_encoded[en_col_name] = energy_access_data[col_name].fillna(0)\n",
    "print(df_encoded[en_col_name].head())"
   ]
  },
  {
   "cell_type": "code",
   "execution_count": 30,
   "metadata": {},
   "outputs": [
    {
     "name": "stdout",
     "output_type": "stream",
     "text": [
      "   ea_HH_18\n",
      "0         0\n",
      "1         0\n",
      "2         1\n",
      "3         0\n",
      "4         0\n"
     ]
    }
   ],
   "source": [
    "# Column names\n",
    "col_name = \"1P. If yes, what is the size of the business (number of current employees who are not household members)\"\n",
    "en_col_name = \"ea_HH_18\"\n",
    "\n",
    "# Get unique values **excluding NaN**\n",
    "un_val = energy_access_data[col_name].dropna().unique().tolist()\n",
    "\n",
    "# Create encoding dictionary (starting from 1)\n",
    "un_val_encoding = {val: i+1 for i, val in enumerate(un_val)}  \n",
    "\n",
    "# Apply encoding, ensuring NaN stays 0\n",
    "energy_access_data[en_col_name] = energy_access_data[col_name].map(un_val_encoding).fillna(0).astype(int)\n",
    "\n",
    "# Print encoded column\n",
    "print(energy_access_data[[en_col_name]].head())"
   ]
  },
  {
   "cell_type": "code",
   "execution_count": 31,
   "metadata": {},
   "outputs": [
    {
     "name": "stdout",
     "output_type": "stream",
     "text": [
      "   ea_HH_19\n",
      "0         0\n",
      "1         0\n",
      "2         1\n",
      "3         0\n",
      "4         0\n"
     ]
    }
   ],
   "source": [
    "# Column names\n",
    "col_name = \"1Q. If yes, what is the monthly revenue of the business\"\n",
    "en_col_name = \"ea_HH_19\"\n",
    "\n",
    "# Get unique values **excluding NaN**\n",
    "un_val = energy_access_data[col_name].dropna().unique().tolist()\n",
    "\n",
    "# Create encoding dictionary (starting from 1)\n",
    "un_val_encoding = {val: i+1 for i, val in enumerate(un_val)}  \n",
    "\n",
    "# Apply encoding, ensuring NaN stays 0\n",
    "energy_access_data[en_col_name] = energy_access_data[col_name].map(un_val_encoding).fillna(0).astype(int)\n",
    "\n",
    "# Print encoded column\n",
    "print(energy_access_data[[en_col_name]].head())"
   ]
  },
  {
   "cell_type": "code",
   "execution_count": 32,
   "metadata": {},
   "outputs": [
    {
     "name": "stdout",
     "output_type": "stream",
     "text": [
      "   ea_HH_20\n",
      "0         1\n",
      "1         1\n",
      "2         1\n",
      "3         2\n",
      "4         1\n"
     ]
    }
   ],
   "source": [
    "# Column names\n",
    "col_name = \"1R. What is your household’s primary cooking fuel?\"\n",
    "en_col_name = \"ea_HH_20\"\n",
    "\n",
    "# Get unique values **excluding NaN**\n",
    "un_val = energy_access_data[col_name].dropna().unique().tolist()\n",
    "\n",
    "# Create encoding dictionary (starting from 1)\n",
    "un_val_encoding = {val: i+1 for i, val in enumerate(un_val)}  \n",
    "\n",
    "# Apply encoding, ensuring NaN stays 0\n",
    "energy_access_data[en_col_name] = energy_access_data[col_name].map(un_val_encoding).fillna(0).astype(int)\n",
    "\n",
    "# Print encoded column\n",
    "print(energy_access_data[[en_col_name]].head())"
   ]
  },
  {
   "cell_type": "code",
   "execution_count": 33,
   "metadata": {},
   "outputs": [
    {
     "name": "stdout",
     "output_type": "stream",
     "text": [
      "0    0\n",
      "1    0\n",
      "2    0\n",
      "3    0\n",
      "4    0\n",
      "Name: ea_HH_21, dtype: object\n"
     ]
    }
   ],
   "source": [
    "col_name = \"1R(i). Others, Please Specify(pcf)\"\n",
    "en_col_name = \"ea_HH_21\"\n",
    "\n",
    "# Encode 'state' column and store in the new DataFrame\n",
    "df_encoded[en_col_name] = energy_access_data[col_name].fillna(0)\n",
    "print(df_encoded[en_col_name].head())"
   ]
  },
  {
   "cell_type": "code",
   "execution_count": 34,
   "metadata": {},
   "outputs": [
    {
     "name": "stdout",
     "output_type": "stream",
     "text": [
      "   ea_HH_22\n",
      "0         1\n",
      "1         1\n",
      "2         2\n",
      "3         1\n",
      "4         1\n"
     ]
    }
   ],
   "source": [
    "# Column names\n",
    "col_name = \"1S. What is your household’s primary medium of transportation?\"\n",
    "en_col_name = \"ea_HH_22\"\n",
    "\n",
    "# Get unique values **excluding NaN**\n",
    "un_val = energy_access_data[col_name].dropna().unique().tolist()\n",
    "\n",
    "# Create encoding dictionary (starting from 1)\n",
    "un_val_encoding = {val: i+1 for i, val in enumerate(un_val)}  \n",
    "\n",
    "# Apply encoding, ensuring NaN stays 0\n",
    "energy_access_data[en_col_name] = energy_access_data[col_name].map(un_val_encoding).fillna(0).astype(int)\n",
    "\n",
    "# Print encoded column\n",
    "print(energy_access_data[[en_col_name]].head())"
   ]
  },
  {
   "cell_type": "markdown",
   "metadata": {},
   "source": [
    "# ENERGY ACCESS"
   ]
  },
  {
   "cell_type": "code",
   "execution_count": 35,
   "metadata": {},
   "outputs": [
    {
     "name": "stdout",
     "output_type": "stream",
     "text": [
      "0    0\n",
      "1    0\n",
      "2    0\n",
      "3    0\n",
      "4    0\n",
      "Name: ea_ELACC_sec, dtype: int64\n"
     ]
    },
    {
     "name": "stderr",
     "output_type": "stream",
     "text": [
      "C:\\Users\\Vista\\AppData\\Local\\Temp\\ipykernel_42064\\3108161486.py:5: FutureWarning: Downcasting object dtype arrays on .fillna, .ffill, .bfill is deprecated and will change in a future version. Call result.infer_objects(copy=False) instead. To opt-in to the future behavior, set `pd.set_option('future.no_silent_downcasting', True)`\n",
      "  df_encoded[en_col_name] = energy_access_data[col_name].fillna(0)\n"
     ]
    }
   ],
   "source": [
    "col_name = \"SECTION 2: ELECTRICITY ACCESS\"\n",
    "en_col_name = \"ea_ELACC_sec\"\n",
    "\n",
    "# Encode 'state' column and store in the new DataFrame\n",
    "df_encoded[en_col_name] = energy_access_data[col_name].fillna(0)\n",
    "print(df_encoded[en_col_name].head())"
   ]
  },
  {
   "cell_type": "code",
   "execution_count": 36,
   "metadata": {},
   "outputs": [
    {
     "name": "stdout",
     "output_type": "stream",
     "text": [
      "   ea_ELACC_1\n",
      "0           1\n",
      "1           2\n",
      "2           1\n",
      "3           1\n",
      "4           1\n"
     ]
    }
   ],
   "source": [
    "# Column names\n",
    "col_name = \"2A. Do you get electricity supply from any source? \"\n",
    "en_col_name = \"ea_ELACC_1\"\n",
    "\n",
    "# Get unique values **excluding NaN**\n",
    "un_val = energy_access_data[col_name].dropna().unique().tolist()\n",
    "\n",
    "# Create encoding dictionary (starting from 1)\n",
    "un_val_encoding = {val: i+1 for i, val in enumerate(un_val)}  \n",
    "\n",
    "# Apply encoding, ensuring NaN stays 0\n",
    "energy_access_data[en_col_name] = energy_access_data[col_name].map(un_val_encoding).fillna(0).astype(int)\n",
    "\n",
    "# Print encoded column\n",
    "print(energy_access_data[[en_col_name]].head())"
   ]
  },
  {
   "cell_type": "code",
   "execution_count": 37,
   "metadata": {},
   "outputs": [
    {
     "name": "stdout",
     "output_type": "stream",
     "text": [
      "   ea_ELACC_2\n",
      "0           1\n",
      "1           0\n",
      "2           1\n",
      "3           1\n",
      "4           1\n"
     ]
    }
   ],
   "source": [
    "# Column names\n",
    "col_name = \"2D(i). Are you connected to the grid?\"\n",
    "en_col_name = \"ea_ELACC_2\"\n",
    "\n",
    "# Get unique values **excluding NaN**\n",
    "un_val = energy_access_data[col_name].dropna().unique().tolist()\n",
    "\n",
    "# Create encoding dictionary (starting from 1)\n",
    "un_val_encoding = {val: i+1 for i, val in enumerate(un_val)}  \n",
    "\n",
    "# Apply encoding, ensuring NaN stays 0\n",
    "energy_access_data[en_col_name] = energy_access_data[col_name].map(un_val_encoding).fillna(0).astype(int)\n",
    "\n",
    "# Print encoded column\n",
    "print(energy_access_data[[en_col_name]].head())"
   ]
  },
  {
   "cell_type": "code",
   "execution_count": 38,
   "metadata": {},
   "outputs": [
    {
     "name": "stdout",
     "output_type": "stream",
     "text": [
      "   ea_ELACC_3\n",
      "0           1\n",
      "1           0\n",
      "2           1\n",
      "3           1\n",
      "4           1\n"
     ]
    }
   ],
   "source": [
    "# Column names\n",
    "col_name = \"2E. If yes, what is your primary source of electricity?\"\n",
    "en_col_name = \"ea_ELACC_3\"\n",
    "\n",
    "# Get unique values **excluding NaN**\n",
    "un_val = energy_access_data[col_name].dropna().unique().tolist()\n",
    "\n",
    "# Create encoding dictionary (starting from 1)\n",
    "un_val_encoding = {val: i+1 for i, val in enumerate(un_val)}  \n",
    "\n",
    "# Apply encoding, ensuring NaN stays 0\n",
    "energy_access_data[en_col_name] = energy_access_data[col_name].map(un_val_encoding).fillna(0).astype(int)\n",
    "\n",
    "# Print encoded column\n",
    "print(energy_access_data[[en_col_name]].head())"
   ]
  },
  {
   "cell_type": "code",
   "execution_count": 39,
   "metadata": {},
   "outputs": [
    {
     "name": "stdout",
     "output_type": "stream",
     "text": [
      "   ea_ELACC_4\n",
      "0           1\n",
      "1           0\n",
      "2           2\n",
      "3           2\n",
      "4           3\n"
     ]
    }
   ],
   "source": [
    "# Column names\n",
    "col_name = \"2G. During the day (6 am–6 pm), how many hours of electricity do you get from the primary sources?\"\n",
    "en_col_name = \"ea_ELACC_4\"\n",
    "\n",
    "# Get unique values **excluding NaN**\n",
    "un_val = energy_access_data[col_name].dropna().unique().tolist()\n",
    "\n",
    "# Create encoding dictionary (starting from 1)\n",
    "un_val_encoding = {val: i+1 for i, val in enumerate(un_val)}  \n",
    "\n",
    "# Apply encoding, ensuring NaN stays 0\n",
    "energy_access_data[en_col_name] = energy_access_data[col_name].map(un_val_encoding).fillna(0).astype(int)\n",
    "\n",
    "# Print encoded column\n",
    "print(energy_access_data[[en_col_name]].head())"
   ]
  },
  {
   "cell_type": "code",
   "execution_count": 40,
   "metadata": {},
   "outputs": [
    {
     "name": "stdout",
     "output_type": "stream",
     "text": [
      "   ea_ELACC_5\n",
      "0           1\n",
      "1           0\n",
      "2           2\n",
      "3           3\n",
      "4           4\n"
     ]
    }
   ],
   "source": [
    "# Column names\n",
    "col_name = \"2H. At Night (6 pm–6 am), how many hours of electricity do you get from the primary sources?\"\n",
    "en_col_name = \"ea_ELACC_5\"\n",
    "\n",
    "# Get unique values **excluding NaN**\n",
    "un_val = energy_access_data[col_name].dropna().unique().tolist()\n",
    "\n",
    "# Create encoding dictionary (starting from 1)\n",
    "un_val_encoding = {val: i+1 for i, val in enumerate(un_val)}  \n",
    "\n",
    "# Apply encoding, ensuring NaN stays 0\n",
    "energy_access_data[en_col_name] = energy_access_data[col_name].map(un_val_encoding).fillna(0).astype(int)\n",
    "\n",
    "# Print encoded column\n",
    "print(energy_access_data[[en_col_name]].head())"
   ]
  },
  {
   "cell_type": "code",
   "execution_count": 41,
   "metadata": {},
   "outputs": [
    {
     "name": "stdout",
     "output_type": "stream",
     "text": [
      "   ea_ELACC_6\n",
      "0           1\n",
      "1           0\n",
      "2           1\n",
      "3           1\n",
      "4           1\n"
     ]
    }
   ],
   "source": [
    "# Column names\n",
    "col_name = \"2I. Do you experience disruptions from your primary source of electricity supply?\"\n",
    "en_col_name = \"ea_ELACC_6\"\n",
    "\n",
    "# Get unique values **excluding NaN**\n",
    "un_val = energy_access_data[col_name].dropna().unique().tolist()\n",
    "\n",
    "# Create encoding dictionary (starting from 1)\n",
    "un_val_encoding = {val: i+1 for i, val in enumerate(un_val)}  \n",
    "\n",
    "# Apply encoding, ensuring NaN stays 0\n",
    "energy_access_data[en_col_name] = energy_access_data[col_name].map(un_val_encoding).fillna(0).astype(int)\n",
    "\n",
    "# Print encoded column\n",
    "print(energy_access_data[[en_col_name]].head())"
   ]
  },
  {
   "cell_type": "code",
   "execution_count": 42,
   "metadata": {},
   "outputs": [
    {
     "name": "stdout",
     "output_type": "stream",
     "text": [
      "   ea_ELACC_7\n",
      "0           1\n",
      "1           0\n",
      "2           2\n",
      "3           3\n",
      "4           1\n"
     ]
    }
   ],
   "source": [
    "# Column names\n",
    "col_name = \"2J. How often do you experience power outages?\"\n",
    "en_col_name = \"ea_ELACC_7\"\n",
    "\n",
    "# Get unique values **excluding NaN**\n",
    "un_val = energy_access_data[col_name].dropna().unique().tolist()\n",
    "\n",
    "# Create encoding dictionary (starting from 1)\n",
    "un_val_encoding = {val: i+1 for i, val in enumerate(un_val)}  \n",
    "\n",
    "# Apply encoding, ensuring NaN stays 0\n",
    "energy_access_data[en_col_name] = energy_access_data[col_name].map(un_val_encoding).fillna(0).astype(int)\n",
    "\n",
    "# Print encoded column\n",
    "print(energy_access_data[[en_col_name]].head())"
   ]
  },
  {
   "cell_type": "code",
   "execution_count": 43,
   "metadata": {},
   "outputs": [
    {
     "name": "stdout",
     "output_type": "stream",
     "text": [
      "   ea_ELACC_8\n",
      "0           0\n",
      "1           0\n",
      "2           0\n",
      "3           1\n",
      "4           0\n"
     ]
    }
   ],
   "source": [
    "# Column names\n",
    "col_name = \"2K. On an average day, how many times does the electricity supply get interrupted?\"\n",
    "en_col_name = \"ea_ELACC_8\"\n",
    "\n",
    "# Get unique values **excluding NaN**\n",
    "un_val = energy_access_data[col_name].dropna().unique().tolist()\n",
    "\n",
    "# Create encoding dictionary (starting from 1)\n",
    "un_val_encoding = {val: i+1 for i, val in enumerate(un_val)}  \n",
    "\n",
    "# Apply encoding, ensuring NaN stays 0\n",
    "energy_access_data[en_col_name] = energy_access_data[col_name].map(un_val_encoding).fillna(0).astype(int)\n",
    "\n",
    "# Print encoded column\n",
    "print(energy_access_data[[en_col_name]].head())"
   ]
  },
  {
   "cell_type": "code",
   "execution_count": 44,
   "metadata": {},
   "outputs": [
    {
     "name": "stdout",
     "output_type": "stream",
     "text": [
      "   ea_ELACC_9\n",
      "0           1\n",
      "1           0\n",
      "2           2\n",
      "3           2\n",
      "4           2\n"
     ]
    }
   ],
   "source": [
    "# Column names\n",
    "col_name = \"2L. When the electricity is interrupted, how long does it typically take to be restored?\"\n",
    "en_col_name = \"ea_ELACC_9\"\n",
    "\n",
    "# Get unique values **excluding NaN**\n",
    "un_val = energy_access_data[col_name].dropna().unique().tolist()\n",
    "\n",
    "# Create encoding dictionary (starting from 1)\n",
    "un_val_encoding = {val: i+1 for i, val in enumerate(un_val)}  \n",
    "\n",
    "# Apply encoding, ensuring NaN stays 0\n",
    "energy_access_data[en_col_name] = energy_access_data[col_name].map(un_val_encoding).fillna(0).astype(int)\n",
    "\n",
    "# Print encoded column\n",
    "print(energy_access_data[[en_col_name]].head())"
   ]
  },
  {
   "cell_type": "code",
   "execution_count": 45,
   "metadata": {},
   "outputs": [
    {
     "name": "stdout",
     "output_type": "stream",
     "text": [
      "   ea_ELACC_10\n",
      "0            1\n",
      "1            0\n",
      "2            2\n",
      "3            2\n",
      "4            2\n"
     ]
    }
   ],
   "source": [
    "# Column names\n",
    "col_name = \"2N. How often do you pay for the primary source of energy?\"\n",
    "en_col_name = \"ea_ELACC_10\"\n",
    "\n",
    "# Get unique values **excluding NaN**\n",
    "un_val = energy_access_data[col_name].dropna().unique().tolist()\n",
    "\n",
    "# Create encoding dictionary (starting from 1)\n",
    "un_val_encoding = {val: i+1 for i, val in enumerate(un_val)}  \n",
    "\n",
    "# Apply encoding, ensuring NaN stays 0\n",
    "energy_access_data[en_col_name] = energy_access_data[col_name].map(un_val_encoding).fillna(0).astype(int)\n",
    "\n",
    "# Print encoded column\n",
    "print(energy_access_data[[en_col_name]].head())"
   ]
  },
  {
   "cell_type": "code",
   "execution_count": 46,
   "metadata": {},
   "outputs": [
    {
     "name": "stdout",
     "output_type": "stream",
     "text": [
      "   ea_ELACC_11\n",
      "0            1\n",
      "1            0\n",
      "2            2\n",
      "3            3\n",
      "4            1\n"
     ]
    }
   ],
   "source": [
    "# Column names\n",
    "col_name = \"2O. how much do you pay for the primary source of electricity for the period mentioned earlier? (Range in ₦)\"\n",
    "en_col_name = \"ea_ELACC_11\"\n",
    "\n",
    "# Get unique values **excluding NaN**\n",
    "un_val = energy_access_data[col_name].dropna().unique().tolist()\n",
    "\n",
    "# Create encoding dictionary (starting from 1)\n",
    "un_val_encoding = {val: i+1 for i, val in enumerate(un_val)}  \n",
    "\n",
    "# Apply encoding, ensuring NaN stays 0\n",
    "energy_access_data[en_col_name] = energy_access_data[col_name].map(un_val_encoding).fillna(0).astype(int)\n",
    "\n",
    "# Print encoded column\n",
    "print(energy_access_data[[en_col_name]].head())"
   ]
  },
  {
   "cell_type": "code",
   "execution_count": 47,
   "metadata": {},
   "outputs": [
    {
     "name": "stdout",
     "output_type": "stream",
     "text": [
      "0     4000\n",
      "1        0\n",
      "2    12000\n",
      "3     5000\n",
      "4     2000\n",
      "Name: ea_ELACC_12, dtype: object\n"
     ]
    }
   ],
   "source": [
    "# Column names\n",
    "col_name = \"2P. how much do you pay for the primary source of electricity for the period mentioned earlier? (Exact Amount Specified n ₦)\"\n",
    "en_col_name = \"ea_ELACC_12\"\n",
    "\n",
    "# Assign the column and replace NaN with 0\n",
    "df_encoded[en_col_name] = energy_access_data[col_name].fillna(0)\n",
    "\n",
    "# Print the first few rows\n",
    "print(df_encoded[en_col_name].head())\n"
   ]
  },
  {
   "cell_type": "code",
   "execution_count": 48,
   "metadata": {},
   "outputs": [
    {
     "name": "stdout",
     "output_type": "stream",
     "text": [
      "   ea_ELACC_13\n",
      "0            1\n",
      "1            0\n",
      "2            1\n",
      "3            1\n",
      "4            1\n"
     ]
    }
   ],
   "source": [
    "# Column names\n",
    "col_name = \"2Q. Do you face any challenges with your primary electricity source?\"\n",
    "en_col_name = \"ea_ELACC_13\"\n",
    "\n",
    "# Get unique values **excluding NaN**\n",
    "un_val = energy_access_data[col_name].dropna().unique().tolist()\n",
    "\n",
    "# Create encoding dictionary (starting from 1)\n",
    "un_val_encoding = {val: i+1 for i, val in enumerate(un_val)}  \n",
    "\n",
    "# Apply encoding, ensuring NaN stays 0\n",
    "energy_access_data[en_col_name] = energy_access_data[col_name].map(un_val_encoding).fillna(0).astype(int)\n",
    "\n",
    "# Print encoded column\n",
    "print(energy_access_data[[en_col_name]].head())"
   ]
  },
  {
   "cell_type": "code",
   "execution_count": 49,
   "metadata": {},
   "outputs": [
    {
     "name": "stdout",
     "output_type": "stream",
     "text": [
      "Encoding Dictionary: {'Cost': 1, 'Cost ': 2, 'Low Voltage': 3, 'Others, Please Specify': 4, 'Outages': 5}\n",
      "  ea_ELACC_14\n",
      "0        5, 1\n",
      "1           0\n",
      "2           3\n",
      "3           5\n",
      "4        5, 3\n"
     ]
    }
   ],
   "source": [
    "# Column names\n",
    "col_name = \"2R. If yes, what are the main challenges you face with your primary electricity source? (Outages, cost, low voltage, etc.)\"\n",
    "en_col_name = \"ea_ELACC_14\"\n",
    "\n",
    "# Extract unique challenges, handling \"Others, Please Specify\" as a single entity\n",
    "all_challenges = set()\n",
    "\n",
    "for row in energy_access_data[col_name].dropna():\n",
    "    challenges = row.split(\" , \")  # Split by \", \" while keeping full words\n",
    "    all_challenges.update(challenges)\n",
    "\n",
    "# Create encoding dictionary (starting from 1)\n",
    "challenge_encoding = {challenge: i+1 for i, challenge in enumerate(sorted(all_challenges))}\n",
    "print(\"Encoding Dictionary:\", challenge_encoding)  # Debugging: Print the mapping\n",
    "\n",
    "# Function to encode each row\n",
    "def encode_challenges(challenges):\n",
    "    if pd.isna(challenges):  # Handle missing values\n",
    "        return \"0\"\n",
    "    challenge_list = challenges.split(\" , \")  # Split while keeping whole words\n",
    "    encoded_values = [str(challenge_encoding[ch]) for ch in challenge_list if ch in challenge_encoding]\n",
    "    return \", \".join(encoded_values)  # Store as comma-separated values\n",
    "\n",
    "# Apply encoding function\n",
    "energy_access_data[en_col_name] = energy_access_data[col_name].apply(encode_challenges)\n",
    "\n",
    "# Print the result\n",
    "print(energy_access_data[[en_col_name]].head())\n"
   ]
  },
  {
   "cell_type": "code",
   "execution_count": 50,
   "metadata": {},
   "outputs": [
    {
     "name": "stdout",
     "output_type": "stream",
     "text": [
      "0    0\n",
      "1    0\n",
      "2    0\n",
      "3    0\n",
      "4    0\n",
      "Name: ea_HH_15, dtype: object\n"
     ]
    }
   ],
   "source": [
    "# Then try referencing the column\n",
    "col_name = \"2R(i). Others, Please Specify\"\n",
    "en_col_name = \"ea_ELACC_15\"\n",
    "\n",
    "# Check if the column exists before assignment\n",
    "if col_name in energy_access_data.columns:\n",
    "    df_encoded[en_col_name] = energy_access_data[col_name].fillna(0)\n",
    "    print(df_encoded[en_col_name].head())\n",
    "else:\n",
    "    print(f\"Column '{col_name}' not found. Available columns: {energy_access_data.columns.tolist()}\")\n"
   ]
  },
  {
   "cell_type": "code",
   "execution_count": 51,
   "metadata": {},
   "outputs": [
    {
     "name": "stdout",
     "output_type": "stream",
     "text": [
      "   ea_ELACC_16\n",
      "0            1\n",
      "1            0\n",
      "2            2\n",
      "3            2\n",
      "4            1\n"
     ]
    }
   ],
   "source": [
    "# Column names\n",
    "col_name = \"2U. How would you describe the quality of energy supply to your household\"\n",
    "en_col_name = \"ea_ELACC_16\"\n",
    "\n",
    "# Get unique values **excluding NaN**\n",
    "un_val = energy_access_data[col_name].dropna().unique().tolist()\n",
    "\n",
    "# Create encoding dictionary (starting from 1)\n",
    "un_val_encoding = {val: i+1 for i, val in enumerate(un_val)}  \n",
    "\n",
    "# Apply encoding, ensuring NaN stays 0\n",
    "energy_access_data[en_col_name] = energy_access_data[col_name].map(un_val_encoding).fillna(0).astype(int)\n",
    "\n",
    "# Print encoded column\n",
    "print(energy_access_data[[en_col_name]].head())"
   ]
  },
  {
   "cell_type": "code",
   "execution_count": 52,
   "metadata": {},
   "outputs": [
    {
     "name": "stdout",
     "output_type": "stream",
     "text": [
      "   ea_ELACC_17\n",
      "0            1\n",
      "1            0\n",
      "2            2\n",
      "3            3\n",
      "4            3\n"
     ]
    }
   ],
   "source": [
    "# Column names\n",
    "col_name = \"2M. On a scale of 1-5 how satisfied are you with the electricity supply from your primary source? (Rate on a scale of 1–5)\"\n",
    "en_col_name = \"ea_ELACC_17\"\n",
    "\n",
    "# Get unique values **excluding NaN**\n",
    "un_val = energy_access_data[col_name].dropna().unique().tolist()\n",
    "\n",
    "# Create encoding dictionary (starting from 1)\n",
    "un_val_encoding = {val: i+1 for i, val in enumerate(un_val)}  \n",
    "\n",
    "# Apply encoding, ensuring NaN stays 0\n",
    "energy_access_data[en_col_name] = energy_access_data[col_name].map(un_val_encoding).fillna(0).astype(int)\n",
    "\n",
    "# Print encoded column\n",
    "print(energy_access_data[[en_col_name]].head())"
   ]
  },
  {
   "cell_type": "code",
   "execution_count": 53,
   "metadata": {},
   "outputs": [
    {
     "name": "stdout",
     "output_type": "stream",
     "text": [
      "   ea_ELACC_18\n",
      "0            1\n",
      "1            0\n",
      "2            2\n",
      "3            2\n",
      "4            3\n"
     ]
    }
   ],
   "source": [
    "# Column names\n",
    "col_name = \"2S. if connected to grid, What is your electricity band?\"\n",
    "en_col_name = \"ea_ELACC_18\"\n",
    "\n",
    "# Get unique values **excluding NaN**\n",
    "un_val = energy_access_data[col_name].dropna().unique().tolist()\n",
    "\n",
    "# Create encoding dictionary (starting from 1)\n",
    "un_val_encoding = {val: i+1 for i, val in enumerate(un_val)}  \n",
    "\n",
    "# Apply encoding, ensuring NaN stays 0\n",
    "energy_access_data[en_col_name] = energy_access_data[col_name].map(un_val_encoding).fillna(0).astype(int)\n",
    "\n",
    "# Print encoded column\n",
    "print(energy_access_data[[en_col_name]].head())"
   ]
  },
  {
   "cell_type": "code",
   "execution_count": 54,
   "metadata": {},
   "outputs": [
    {
     "name": "stdout",
     "output_type": "stream",
     "text": [
      "   ea_ELACC_19\n",
      "0            1\n",
      "1            0\n",
      "2            2\n",
      "3            3\n",
      "4            3\n"
     ]
    }
   ],
   "source": [
    "# Column names\n",
    "col_name = \"2V. When did you first get connected to electricity\"\n",
    "en_col_name = \"ea_ELACC_19\"\n",
    "\n",
    "# Get unique values **excluding NaN**\n",
    "un_val = energy_access_data[col_name].dropna().unique().tolist()\n",
    "\n",
    "# Create encoding dictionary (starting from 1)\n",
    "un_val_encoding = {val: i+1 for i, val in enumerate(un_val)}  \n",
    "\n",
    "# Apply encoding, ensuring NaN stays 0\n",
    "energy_access_data[en_col_name] = energy_access_data[col_name].map(un_val_encoding).fillna(0).astype(int)\n",
    "\n",
    "# Print encoded column\n",
    "print(energy_access_data[[en_col_name]].head())"
   ]
  },
  {
   "cell_type": "code",
   "execution_count": 55,
   "metadata": {},
   "outputs": [
    {
     "name": "stdout",
     "output_type": "stream",
     "text": [
      "Encoding Dictionary: {'Air Fryer': 1, 'Air conditioner': 2, 'Air conditioners': 3, 'Blenders': 4, 'Bread slicer': 5, 'Cash register': 6, 'Cooking stove': 7, 'Deep Fryer': 8, 'Deep freezer': 9, 'Fan': 10, 'Fans': 11, 'Grinding Machine': 12, 'Hair Clipper': 13, 'Hair dryer': 14, 'Iron': 15, 'Laptop': 16, 'Light bulbs': 17, 'Lighting (bulbs, lanterns)': 18, 'Microwave': 19, 'Mixing Machine(bakery)': 20, 'Other (please specify)': 21, 'Oven': 22, 'Phone chargers': 23, 'Photocopy Machine': 24, 'Printers': 25, 'Pumping machine': 26, 'Radio': 27, 'Refrigerator': 28, 'Refrigerator/freezer': 29, 'Sewing machine': 30, 'Sound Speakers': 31, 'TV': 32, \"TV's\": 33, 'Weilding Machine': 34, 'laminating machine': 35}\n",
      "              ea_ELACC_20\n",
      "0      18, 11, 32, 29, 23\n",
      "1                       0\n",
      "2      18, 11, 32, 29, 23\n",
      "3  18, 11, 32, 29, 23, 21\n",
      "4          18, 11, 32, 23\n"
     ]
    }
   ],
   "source": [
    "# Column names\n",
    "col_name = \"2W. Which appliances did you have when you first got connected?\"\n",
    "en_col_name = \"ea_ELACC_20\"\n",
    "\n",
    "# Extract unique challenges, handling \"Others, Please Specify\" as a single entity\n",
    "all_challenges = set()\n",
    "\n",
    "for row in energy_access_data[col_name].dropna():\n",
    "    challenges = row.split(\" , \")  # Split by \", \" while keeping full words\n",
    "    all_challenges.update(challenges)\n",
    "\n",
    "# Create encoding dictionary (starting from 1)\n",
    "challenge_encoding = {challenge: i+1 for i, challenge in enumerate(sorted(all_challenges))}\n",
    "print(\"Encoding Dictionary:\", challenge_encoding)  # Debugging: Print the mapping\n",
    "\n",
    "# Function to encode each row\n",
    "def encode_challenges(challenges):\n",
    "    if pd.isna(challenges):  # Handle missing values\n",
    "        return \"0\"\n",
    "    challenge_list = challenges.split(\" , \")  # Split while keeping whole words\n",
    "    encoded_values = [str(challenge_encoding[ch]) for ch in challenge_list if ch in challenge_encoding]\n",
    "    return \", \".join(encoded_values)  # Store as comma-separated values\n",
    "\n",
    "# Apply encoding function\n",
    "energy_access_data[en_col_name] = energy_access_data[col_name].apply(encode_challenges)\n",
    "\n",
    "# Print the result\n",
    "print(energy_access_data[[en_col_name]].head())"
   ]
  },
  {
   "cell_type": "code",
   "execution_count": 56,
   "metadata": {},
   "outputs": [
    {
     "name": "stdout",
     "output_type": "stream",
     "text": [
      "Encoding Dictionary: {'Air Fryer': 1, 'Air conditioner': 2, 'Air conditioners': 3, 'Barcode Scanner': 4, 'Blenders': 5, 'Bread slicer': 6, 'Cash register': 7, 'Cooking stove': 8, 'Deep Fryer': 9, 'Deep freezer': 10, 'Fan': 11, 'Fans': 12, 'Grinding Machine': 13, 'Hair Clipper': 14, 'Hair dryer': 15, 'Iron': 16, 'Laptop': 17, 'Light bulbs': 18, 'Lighting (bulbs, lanterns)': 19, 'Microwave': 20, 'Mixing Machine(bakery)': 21, 'Other (please specify)': 22, 'Oven': 23, 'Phone chargers': 24, 'Photocopy Machine': 25, 'Printers': 26, 'Pumping machine': 27, 'Radio': 28, 'Refrigerator': 29, 'Refrigerator/freezer': 30, 'Sewing machine': 31, 'Sound Speakers': 32, 'TV': 33, \"TV's\": 34, 'Weilding Machine': 35, 'laminating machine': 36}\n",
      "              ea_ELACC_21\n",
      "0      19, 12, 33, 30, 24\n",
      "1                       0\n",
      "2      19, 12, 33, 30, 24\n",
      "3  19, 12, 33, 30, 24, 22\n",
      "4          19, 12, 33, 24\n"
     ]
    }
   ],
   "source": [
    "# Column names\n",
    "col_name = \"2X. Which appliances do you have now?\"\n",
    "en_col_name = \"ea_ELACC_21\"\n",
    "\n",
    "# Extract unique challenges, handling \"Others, Please Specify\" as a single entity\n",
    "all_challenges = set()\n",
    "\n",
    "for row in energy_access_data[col_name].dropna():\n",
    "    challenges = row.split(\" , \")  # Split by \", \" while keeping full words\n",
    "    all_challenges.update(challenges)\n",
    "\n",
    "# Create encoding dictionary (starting from 1)\n",
    "challenge_encoding = {challenge: i+1 for i, challenge in enumerate(sorted(all_challenges))}\n",
    "print(\"Encoding Dictionary:\", challenge_encoding)  # Debugging: Print the mapping\n",
    "\n",
    "# Function to encode each row\n",
    "def encode_challenges(challenges):\n",
    "    if pd.isna(challenges):  # Handle missing values\n",
    "        return \"0\"\n",
    "    challenge_list = challenges.split(\" , \")  # Split while keeping whole words\n",
    "    encoded_values = [str(challenge_encoding[ch]) for ch in challenge_list if ch in challenge_encoding]\n",
    "    return \", \".join(encoded_values)  # Store as comma-separated values\n",
    "\n",
    "# Apply encoding function\n",
    "energy_access_data[en_col_name] = energy_access_data[col_name].apply(encode_challenges)\n",
    "\n",
    "# Print the result\n",
    "print(energy_access_data[[en_col_name]].head())"
   ]
  },
  {
   "cell_type": "code",
   "execution_count": 57,
   "metadata": {},
   "outputs": [
    {
     "name": "stdout",
     "output_type": "stream",
     "text": [
      "0                  0\n",
      "1                  0\n",
      "2                  0\n",
      "3    Washing machine\n",
      "4                  0\n",
      "Name: ea_ELACC_22, dtype: object\n"
     ]
    }
   ],
   "source": [
    "col_name = \"2X(i). Others please specify\"\n",
    "en_col_name = \"ea_ELACC_22\"\n",
    "\n",
    "# Encode 'state' column and store in the new DataFrame\n",
    "df_encoded[en_col_name] = energy_access_data[col_name].fillna(0)\n",
    "print(df_encoded[en_col_name].head())"
   ]
  },
  {
   "cell_type": "markdown",
   "metadata": {},
   "source": [
    "# ALTERNATE ENERGY SOURCE"
   ]
  },
  {
   "cell_type": "code",
   "execution_count": 58,
   "metadata": {},
   "outputs": [
    {
     "name": "stdout",
     "output_type": "stream",
     "text": [
      "0    0\n",
      "1    0\n",
      "2    0\n",
      "3    0\n",
      "4    0\n",
      "Name: ea_alt_src_sec, dtype: int64\n"
     ]
    },
    {
     "name": "stderr",
     "output_type": "stream",
     "text": [
      "C:\\Users\\Vista\\AppData\\Local\\Temp\\ipykernel_42064\\2253112264.py:5: FutureWarning: Downcasting object dtype arrays on .fillna, .ffill, .bfill is deprecated and will change in a future version. Call result.infer_objects(copy=False) instead. To opt-in to the future behavior, set `pd.set_option('future.no_silent_downcasting', True)`\n",
      "  df_encoded[en_col_name] = energy_access_data[col_name].fillna(0)\n"
     ]
    }
   ],
   "source": [
    "col_name = \"SECTION 3: ALTERNATE SOURCE OF ELECTRICITY\"\n",
    "en_col_name = \"ea_alt_src_sec\"\n",
    "\n",
    "# Encode 'state' column and store in the new DataFrame\n",
    "df_encoded[en_col_name] = energy_access_data[col_name].fillna(0)\n",
    "print(df_encoded[en_col_name].head())"
   ]
  },
  {
   "cell_type": "code",
   "execution_count": 59,
   "metadata": {},
   "outputs": [
    {
     "name": "stdout",
     "output_type": "stream",
     "text": [
      "   ea_alt_src_sec_1\n",
      "0                 1\n",
      "1                 0\n",
      "2                 2\n",
      "3                 1\n",
      "4                 1\n"
     ]
    }
   ],
   "source": [
    "# Column names\n",
    "col_name = \"3A. Do you have any backup/alternate power sources (e.g., generator, solar)?\"\n",
    "en_col_name = \"ea_alt_src_sec_1\"\n",
    "\n",
    "# Get unique values **excluding NaN**\n",
    "un_val = energy_access_data[col_name].dropna().unique().tolist()\n",
    "\n",
    "# Create encoding dictionary (starting from 1)\n",
    "un_val_encoding = {val: i+1 for i, val in enumerate(un_val)}  \n",
    "\n",
    "# Apply encoding, ensuring NaN stays 0\n",
    "energy_access_data[en_col_name] = energy_access_data[col_name].map(un_val_encoding).fillna(0).astype(int)\n",
    "\n",
    "# Print encoded column\n",
    "print(energy_access_data[[en_col_name]].head())\n"
   ]
  },
  {
   "cell_type": "code",
   "execution_count": 60,
   "metadata": {},
   "outputs": [
    {
     "name": "stdout",
     "output_type": "stream",
     "text": [
      "   ea_alt_src_sec_2\n",
      "0                 0\n",
      "1                 0\n",
      "2                 1\n",
      "3                 0\n",
      "4                 0\n"
     ]
    }
   ],
   "source": [
    "# Column names\n",
    "col_name = \"3B. If yes, What alternate power supply do you use?\"\n",
    "en_col_name = \"ea_alt_src_sec_2\"\n",
    "\n",
    "# Get unique values **excluding NaN**\n",
    "un_val = energy_access_data[col_name].dropna().unique().tolist()\n",
    "\n",
    "# Create encoding dictionary (starting from 1)\n",
    "un_val_encoding = {val: i+1 for i, val in enumerate(un_val)}  \n",
    "\n",
    "# Apply encoding, ensuring NaN stays 0\n",
    "energy_access_data[en_col_name] = energy_access_data[col_name].map(un_val_encoding).fillna(0).astype(int)\n",
    "\n",
    "# Print encoded column\n",
    "print(energy_access_data[[en_col_name]].head())\n"
   ]
  },
  {
   "cell_type": "code",
   "execution_count": 61,
   "metadata": {},
   "outputs": [
    {
     "name": "stdout",
     "output_type": "stream",
     "text": [
      "   ea_alt_src_sec_3\n",
      "0                 0\n",
      "1                 0\n",
      "2                 1\n",
      "3                 0\n",
      "4                 0\n"
     ]
    }
   ],
   "source": [
    "# Column names\n",
    "col_name = \"3C(i). During the day (6 am–6 pm), how many hours of electricity do you get from the alternate sources?\"\n",
    "en_col_name = \"ea_alt_src_sec_3\"\n",
    "\n",
    "# Get unique values **excluding NaN**\n",
    "un_val = energy_access_data[col_name].dropna().unique().tolist()\n",
    "\n",
    "# Create encoding dictionary (starting from 1)\n",
    "un_val_encoding = {val: i+1 for i, val in enumerate(un_val)}  \n",
    "\n",
    "# Apply encoding, ensuring NaN stays 0\n",
    "energy_access_data[en_col_name] = energy_access_data[col_name].map(un_val_encoding).fillna(0).astype(int)\n",
    "\n",
    "# Print encoded column\n",
    "print(energy_access_data[[en_col_name]].head())\n"
   ]
  },
  {
   "cell_type": "code",
   "execution_count": 62,
   "metadata": {},
   "outputs": [
    {
     "ename": "KeyError",
     "evalue": "'3C(ii). At Night (6 pm–6 am), how many hours of electricity do you get from the alternate sources?'",
     "output_type": "error",
     "traceback": [
      "\u001b[1;31m---------------------------------------------------------------------------\u001b[0m",
      "\u001b[1;31mKeyError\u001b[0m                                  Traceback (most recent call last)",
      "File \u001b[1;32mc:\\Users\\Vista\\AppData\\Local\\Programs\\Python\\Python312\\Lib\\site-packages\\pandas\\core\\indexes\\base.py:3805\u001b[0m, in \u001b[0;36mIndex.get_loc\u001b[1;34m(self, key)\u001b[0m\n\u001b[0;32m   3804\u001b[0m \u001b[39mtry\u001b[39;00m:\n\u001b[1;32m-> 3805\u001b[0m     \u001b[39mreturn\u001b[39;00m \u001b[39mself\u001b[39;49m\u001b[39m.\u001b[39;49m_engine\u001b[39m.\u001b[39;49mget_loc(casted_key)\n\u001b[0;32m   3806\u001b[0m \u001b[39mexcept\u001b[39;00m \u001b[39mKeyError\u001b[39;00m \u001b[39mas\u001b[39;00m err:\n",
      "File \u001b[1;32mindex.pyx:167\u001b[0m, in \u001b[0;36mpandas._libs.index.IndexEngine.get_loc\u001b[1;34m()\u001b[0m\n",
      "File \u001b[1;32mindex.pyx:196\u001b[0m, in \u001b[0;36mpandas._libs.index.IndexEngine.get_loc\u001b[1;34m()\u001b[0m\n",
      "File \u001b[1;32mpandas\\\\_libs\\\\hashtable_class_helper.pxi:7081\u001b[0m, in \u001b[0;36mpandas._libs.hashtable.PyObjectHashTable.get_item\u001b[1;34m()\u001b[0m\n",
      "File \u001b[1;32mpandas\\\\_libs\\\\hashtable_class_helper.pxi:7089\u001b[0m, in \u001b[0;36mpandas._libs.hashtable.PyObjectHashTable.get_item\u001b[1;34m()\u001b[0m\n",
      "\u001b[1;31mKeyError\u001b[0m: '3C(ii). At Night (6 pm–6 am), how many hours of electricity do you get from the alternate sources?'",
      "\nThe above exception was the direct cause of the following exception:\n",
      "\u001b[1;31mKeyError\u001b[0m                                  Traceback (most recent call last)",
      "Cell \u001b[1;32mIn[62], line 6\u001b[0m\n\u001b[0;32m      3\u001b[0m en_col_name \u001b[38;5;241m=\u001b[39m \u001b[38;5;124m\"\u001b[39m\u001b[38;5;124mea_alt_src_sec_4\u001b[39m\u001b[38;5;124m\"\u001b[39m\n\u001b[0;32m      5\u001b[0m \u001b[38;5;66;03m# Get unique values **excluding NaN**\u001b[39;00m\n\u001b[1;32m----> 6\u001b[0m un_val \u001b[38;5;241m=\u001b[39m \u001b[43menergy_access_data\u001b[49m\u001b[43m[\u001b[49m\u001b[43mcol_name\u001b[49m\u001b[43m]\u001b[49m\u001b[38;5;241m.\u001b[39mdropna()\u001b[38;5;241m.\u001b[39munique()\u001b[38;5;241m.\u001b[39mtolist()\n\u001b[0;32m      8\u001b[0m \u001b[38;5;66;03m# Create encoding dictionary (starting from 1)\u001b[39;00m\n\u001b[0;32m      9\u001b[0m un_val_encoding \u001b[38;5;241m=\u001b[39m {val: i\u001b[38;5;241m+\u001b[39m\u001b[38;5;241m1\u001b[39m \u001b[38;5;28;01mfor\u001b[39;00m i, val \u001b[38;5;129;01min\u001b[39;00m \u001b[38;5;28menumerate\u001b[39m(un_val)}  \n",
      "File \u001b[1;32mc:\\Users\\Vista\\AppData\\Local\\Programs\\Python\\Python312\\Lib\\site-packages\\pandas\\core\\frame.py:4102\u001b[0m, in \u001b[0;36mDataFrame.__getitem__\u001b[1;34m(self, key)\u001b[0m\n\u001b[0;32m   4100\u001b[0m \u001b[39mif\u001b[39;00m \u001b[39mself\u001b[39m\u001b[39m.\u001b[39mcolumns\u001b[39m.\u001b[39mnlevels \u001b[39m>\u001b[39m \u001b[39m1\u001b[39m:\n\u001b[0;32m   4101\u001b[0m     \u001b[39mreturn\u001b[39;00m \u001b[39mself\u001b[39m\u001b[39m.\u001b[39m_getitem_multilevel(key)\n\u001b[1;32m-> 4102\u001b[0m indexer \u001b[39m=\u001b[39m \u001b[39mself\u001b[39;49m\u001b[39m.\u001b[39;49mcolumns\u001b[39m.\u001b[39;49mget_loc(key)\n\u001b[0;32m   4103\u001b[0m \u001b[39mif\u001b[39;00m is_integer(indexer):\n\u001b[0;32m   4104\u001b[0m     indexer \u001b[39m=\u001b[39m [indexer]\n",
      "File \u001b[1;32mc:\\Users\\Vista\\AppData\\Local\\Programs\\Python\\Python312\\Lib\\site-packages\\pandas\\core\\indexes\\base.py:3812\u001b[0m, in \u001b[0;36mIndex.get_loc\u001b[1;34m(self, key)\u001b[0m\n\u001b[0;32m   3807\u001b[0m     \u001b[39mif\u001b[39;00m \u001b[39misinstance\u001b[39m(casted_key, \u001b[39mslice\u001b[39m) \u001b[39mor\u001b[39;00m (\n\u001b[0;32m   3808\u001b[0m         \u001b[39misinstance\u001b[39m(casted_key, abc\u001b[39m.\u001b[39mIterable)\n\u001b[0;32m   3809\u001b[0m         \u001b[39mand\u001b[39;00m \u001b[39many\u001b[39m(\u001b[39misinstance\u001b[39m(x, \u001b[39mslice\u001b[39m) \u001b[39mfor\u001b[39;00m x \u001b[39min\u001b[39;00m casted_key)\n\u001b[0;32m   3810\u001b[0m     ):\n\u001b[0;32m   3811\u001b[0m         \u001b[39mraise\u001b[39;00m InvalidIndexError(key)\n\u001b[1;32m-> 3812\u001b[0m     \u001b[39mraise\u001b[39;00m \u001b[39mKeyError\u001b[39;00m(key) \u001b[39mfrom\u001b[39;00m \u001b[39merr\u001b[39;00m\n\u001b[0;32m   3813\u001b[0m \u001b[39mexcept\u001b[39;00m \u001b[39mTypeError\u001b[39;00m:\n\u001b[0;32m   3814\u001b[0m     \u001b[39m# If we have a listlike key, _check_indexing_error will raise\u001b[39;00m\n\u001b[0;32m   3815\u001b[0m     \u001b[39m#  InvalidIndexError. Otherwise we fall through and re-raise\u001b[39;00m\n\u001b[0;32m   3816\u001b[0m     \u001b[39m#  the TypeError.\u001b[39;00m\n\u001b[0;32m   3817\u001b[0m     \u001b[39mself\u001b[39m\u001b[39m.\u001b[39m_check_indexing_error(key)\n",
      "\u001b[1;31mKeyError\u001b[0m: '3C(ii). At Night (6 pm–6 am), how many hours of electricity do you get from the alternate sources?'"
     ]
    }
   ],
   "source": [
    "# Column names\n",
    "col_name = \"3C(ii). At Night (6 pm–6 am), how many hours of electricity do you get from the alternate sources?\"\n",
    "en_col_name = \"ea_alt_src_sec_4\"\n",
    "\n",
    "# Get unique values **excluding NaN**\n",
    "un_val = energy_access_data[col_name].dropna().unique().tolist()\n",
    "\n",
    "# Create encoding dictionary (starting from 1)\n",
    "un_val_encoding = {val: i+1 for i, val in enumerate(un_val)}  \n",
    "\n",
    "# Apply encoding, ensuring NaN stays 0\n",
    "energy_access_data[en_col_name] = energy_access_data[col_name].map(un_val_encoding).fillna(0).astype(int)\n",
    "\n",
    "# Print encoded column\n",
    "print(energy_access_data[[en_col_name]].head())\n"
   ]
  },
  {
   "cell_type": "code",
   "execution_count": 63,
   "metadata": {},
   "outputs": [
    {
     "name": "stdout",
     "output_type": "stream",
     "text": [
      "   ea_alt_src_sec_5\n",
      "0                 0\n",
      "1                 0\n",
      "2                 1\n",
      "3                 0\n",
      "4                 0\n"
     ]
    }
   ],
   "source": [
    "# Column names\n",
    "col_name = \"3D. If yes, How often do you pay for alternate source of energy? i.e petrol/diesel etc\"\n",
    "en_col_name = \"ea_alt_src_sec_5\"\n",
    "\n",
    "# Get unique values **excluding NaN**\n",
    "un_val = energy_access_data[col_name].dropna().unique().tolist()\n",
    "\n",
    "# Create encoding dictionary (starting from 1)\n",
    "un_val_encoding = {val: i+1 for i, val in enumerate(un_val)}  \n",
    "\n",
    "# Apply encoding, ensuring NaN stays 0\n",
    "energy_access_data[en_col_name] = energy_access_data[col_name].map(un_val_encoding).fillna(0).astype(int)\n",
    "\n",
    "# Print encoded column\n",
    "print(energy_access_data[[en_col_name]].head())\n"
   ]
  },
  {
   "cell_type": "code",
   "execution_count": 64,
   "metadata": {},
   "outputs": [
    {
     "name": "stdout",
     "output_type": "stream",
     "text": [
      "   ea_alt_src_sec_6\n",
      "0                 0\n",
      "1                 0\n",
      "2                 1\n",
      "3                 0\n",
      "4                 0\n"
     ]
    }
   ],
   "source": [
    "# Column names\n",
    "col_name = \"3E. how much do you pay for the alternate source of electricity for the period mentioned earlier? (Range)\"\n",
    "en_col_name = \"ea_alt_src_sec_6\"\n",
    "\n",
    "# Get unique values **excluding NaN**\n",
    "un_val = energy_access_data[col_name].dropna().unique().tolist()\n",
    "\n",
    "# Create encoding dictionary (starting from 1)\n",
    "un_val_encoding = {val: i+1 for i, val in enumerate(un_val)}  \n",
    "\n",
    "# Apply encoding, ensuring NaN stays 0\n",
    "energy_access_data[en_col_name] = energy_access_data[col_name].map(un_val_encoding).fillna(0).astype(int)\n",
    "\n",
    "# Print encoded column\n",
    "print(energy_access_data[[en_col_name]].head())\n"
   ]
  },
  {
   "cell_type": "code",
   "execution_count": 65,
   "metadata": {},
   "outputs": [
    {
     "name": "stdout",
     "output_type": "stream",
     "text": [
      "0       0\n",
      "1       0\n",
      "2    3000\n",
      "3       0\n",
      "4       0\n",
      "Name: ea_alt_src_sec_7, dtype: object\n"
     ]
    }
   ],
   "source": [
    "col_name = \"3F how much do you pay for the alternate source of electricity for the period mentioned earlier? Exact Amount Specified in local currency.\"\n",
    "en_col_name = \"ea_alt_src_sec_7\"\n",
    "\n",
    "# Encode 'state' column and store in the new DataFrame\n",
    "df_encoded[en_col_name] = energy_access_data[col_name].fillna(0)\n",
    "print(df_encoded[en_col_name].head())\n"
   ]
  },
  {
   "cell_type": "code",
   "execution_count": 66,
   "metadata": {},
   "outputs": [
    {
     "name": "stdout",
     "output_type": "stream",
     "text": [
      "   ea_alt_src_sec_8\n",
      "0                 0\n",
      "1                 0\n",
      "2                 1\n",
      "3                 0\n",
      "4                 0\n"
     ]
    }
   ],
   "source": [
    "# Column names\n",
    "col_name = \"3G. Do you face any challenges with your alternate electricity source?\"\n",
    "en_col_name = \"ea_alt_src_sec_8\"\n",
    "\n",
    "# Get unique values **excluding NaN**\n",
    "un_val = energy_access_data[col_name].dropna().unique().tolist()\n",
    "\n",
    "# Create encoding dictionary (starting from 1)\n",
    "un_val_encoding = {val: i+1 for i, val in enumerate(un_val)}  \n",
    "\n",
    "# Apply encoding, ensuring NaN stays 0\n",
    "energy_access_data[en_col_name] = energy_access_data[col_name].map(un_val_encoding).fillna(0).astype(int)\n",
    "\n",
    "# Print encoded column\n",
    "print(energy_access_data[[en_col_name]].head())\n"
   ]
  },
  {
   "cell_type": "code",
   "execution_count": 67,
   "metadata": {},
   "outputs": [
    {
     "name": "stdout",
     "output_type": "stream",
     "text": [
      "Encoding Dictionary: {'Cost': 1, 'Cost ': 2, 'Low Voltage': 3, 'Others, Please Specify': 4, 'Outages': 5}\n",
      "  ea_alt_src_sec_9\n",
      "0                0\n",
      "1                0\n",
      "2                4\n",
      "3                0\n",
      "4                0\n"
     ]
    }
   ],
   "source": [
    "# Column names\n",
    "col_name = \"3H. If yes, what are the main challenges you face with your alternate electricity source? (Outages, cost, low voltage, etc.)\"\n",
    "en_col_name = \"ea_alt_src_sec_9\"\n",
    "\n",
    "# Extract unique challenges, handling \"Others, Please Specify\" as a single entity\n",
    "all_challenges = set()\n",
    "\n",
    "for row in energy_access_data[col_name].dropna():\n",
    "    challenges = row.split(\" , \")  # Split by \", \" while keeping full words\n",
    "    all_challenges.update(challenges)\n",
    "\n",
    "# Create encoding dictionary (starting from 1)\n",
    "challenge_encoding = {challenge: i+1 for i, challenge in enumerate(sorted(all_challenges))}\n",
    "print(\"Encoding Dictionary:\", challenge_encoding)  # Debugging: Print the mapping\n",
    "\n",
    "# Function to encode each row\n",
    "def encode_challenges(challenges):\n",
    "    if pd.isna(challenges):  # Handle missing values\n",
    "        return \"0\"\n",
    "    challenge_list = challenges.split(\" , \")  # Split while keeping whole words\n",
    "    encoded_values = [str(challenge_encoding[ch]) for ch in challenge_list if ch in challenge_encoding]\n",
    "    return \", \".join(encoded_values)  # Store as comma-separated values\n",
    "\n",
    "# Apply encoding function\n",
    "energy_access_data[en_col_name] = energy_access_data[col_name].apply(encode_challenges)\n",
    "\n",
    "# Print the result\n",
    "print(energy_access_data[[en_col_name]].head())"
   ]
  },
  {
   "cell_type": "code",
   "execution_count": 70,
   "metadata": {},
   "outputs": [
    {
     "name": "stdout",
     "output_type": "stream",
     "text": [
      "0                  0\n",
      "1                  0\n",
      "2    Needs servicing\n",
      "3                  0\n",
      "4                  0\n",
      "Name: ea_alt_src_sec_10, dtype: object\n"
     ]
    }
   ],
   "source": [
    "col_name = \"3H(i). Others, Please Specify\"\n",
    "en_col_name = \"ea_alt_src_sec_10\"\n",
    "\n",
    "# Encode 'state' column and store in the new DataFrame\n",
    "df_encoded[en_col_name] = energy_access_data[col_name].fillna(0)\n",
    "print(df_encoded[en_col_name].head())\n"
   ]
  },
  {
   "cell_type": "markdown",
   "metadata": {},
   "source": [
    "# SOLAR ENERGY"
   ]
  },
  {
   "cell_type": "code",
   "execution_count": 69,
   "metadata": {},
   "outputs": [
    {
     "name": "stdout",
     "output_type": "stream",
     "text": [
      "0    0\n",
      "1    0\n",
      "2    0\n",
      "3    0\n",
      "4    0\n",
      "Name: ea_solar_sec, dtype: int64\n"
     ]
    },
    {
     "name": "stderr",
     "output_type": "stream",
     "text": [
      "C:\\Users\\Vista\\AppData\\Local\\Temp\\ipykernel_42064\\848796246.py:5: FutureWarning: Downcasting object dtype arrays on .fillna, .ffill, .bfill is deprecated and will change in a future version. Call result.infer_objects(copy=False) instead. To opt-in to the future behavior, set `pd.set_option('future.no_silent_downcasting', True)`\n",
      "  df_encoded[en_col_name] = energy_access_data[col_name].fillna(0)\n"
     ]
    }
   ],
   "source": [
    "col_name = \"Solar Panel Usage\"\n",
    "en_col_name = \"ea_solar_sec\"\n",
    "\n",
    "# Encode 'state' column and store in the new DataFrame\n",
    "df_encoded[en_col_name] = energy_access_data[col_name].fillna(0)\n",
    "print(df_encoded[en_col_name].head())\n"
   ]
  },
  {
   "cell_type": "code",
   "execution_count": 71,
   "metadata": {},
   "outputs": [
    {
     "name": "stdout",
     "output_type": "stream",
     "text": [
      "   ea_solar_1\n",
      "0           0\n",
      "1           0\n",
      "2           0\n",
      "3           0\n",
      "4           0\n"
     ]
    }
   ],
   "source": [
    "# Column names\n",
    "col_name = \"3B(ii) - What is the Capacity of the Solar System? Range in KVA\"\n",
    "en_col_name = \"ea_solar_1\"\n",
    "\n",
    "# Get unique values **excluding NaN**\n",
    "un_val = energy_access_data[col_name].dropna().unique().tolist()\n",
    "\n",
    "# Create encoding dictionary (starting from 1)\n",
    "un_val_encoding = {val: i+1 for i, val in enumerate(un_val)}  \n",
    "\n",
    "# Apply encoding, ensuring NaN stays 0\n",
    "energy_access_data[en_col_name] = energy_access_data[col_name].map(un_val_encoding).fillna(0).astype(int)\n",
    "\n",
    "# Print encoded column\n",
    "print(energy_access_data[[en_col_name]].head())"
   ]
  },
  {
   "cell_type": "code",
   "execution_count": 72,
   "metadata": {},
   "outputs": [
    {
     "name": "stdout",
     "output_type": "stream",
     "text": [
      "0    0\n",
      "1    0\n",
      "2    0\n",
      "3    0\n",
      "4    0\n",
      "Name: ea_solar_2, dtype: object\n"
     ]
    }
   ],
   "source": [
    "col_name = \"3B(iii) - What is the Capacity of the Solar System? Value in KVA\"\n",
    "en_col_name = \"ea_solar_2\"\n",
    "\n",
    "# Encode 'state' column and store in the new DataFrame\n",
    "df_encoded[en_col_name] = energy_access_data[col_name].fillna(0)\n",
    "print(df_encoded[en_col_name].head())\n"
   ]
  },
  {
   "cell_type": "code",
   "execution_count": 73,
   "metadata": {},
   "outputs": [
    {
     "name": "stdout",
     "output_type": "stream",
     "text": [
      "   ea_solar_3\n",
      "0           0\n",
      "1           0\n",
      "2           0\n",
      "3           0\n",
      "4           0\n"
     ]
    }
   ],
   "source": [
    "# Column names\n",
    "col_name = \"3B(iv) - When did you start Using Solar?\"\n",
    "en_col_name = \"ea_solar_3\"\n",
    "\n",
    "# Get unique values **excluding NaN**\n",
    "un_val = energy_access_data[col_name].dropna().unique().tolist()\n",
    "\n",
    "# Create encoding dictionary (starting from 1)\n",
    "un_val_encoding = {val: i+1 for i, val in enumerate(un_val)}  \n",
    "\n",
    "# Apply encoding, ensuring NaN stays 0\n",
    "energy_access_data[en_col_name] = energy_access_data[col_name].map(un_val_encoding).fillna(0).astype(int)\n",
    "\n",
    "# Print encoded column\n",
    "print(energy_access_data[[en_col_name]].head())"
   ]
  },
  {
   "cell_type": "code",
   "execution_count": 74,
   "metadata": {},
   "outputs": [
    {
     "name": "stdout",
     "output_type": "stream",
     "text": [
      "   ea_solar_4\n",
      "0           0\n",
      "1           0\n",
      "2           0\n",
      "3           0\n",
      "4           0\n"
     ]
    }
   ],
   "source": [
    "# Column names\n",
    "col_name = \"3B(v) - How much did you buy the solar system? Range in Naira\"\n",
    "en_col_name = \"ea_solar_4\"\n",
    "\n",
    "# Get unique values **excluding NaN**\n",
    "un_val = energy_access_data[col_name].dropna().unique().tolist()\n",
    "\n",
    "# Create encoding dictionary (starting from 1)\n",
    "un_val_encoding = {val: i+1 for i, val in enumerate(un_val)}  \n",
    "\n",
    "# Apply encoding, ensuring NaN stays 0\n",
    "energy_access_data[en_col_name] = energy_access_data[col_name].map(un_val_encoding).fillna(0).astype(int)\n",
    "\n",
    "# Print encoded column\n",
    "print(energy_access_data[[en_col_name]].head())"
   ]
  },
  {
   "cell_type": "code",
   "execution_count": 75,
   "metadata": {},
   "outputs": [
    {
     "name": "stdout",
     "output_type": "stream",
     "text": [
      "0    0\n",
      "1    0\n",
      "2    0\n",
      "3    0\n",
      "4    0\n",
      "Name: ea_solar_5, dtype: object\n"
     ]
    }
   ],
   "source": [
    "col_name = \"3B(vi) - How much did you buy the solar system? Specify In Naira\"\n",
    "en_col_name = \"ea_solar_5\"\n",
    "\n",
    "# Encode 'state' column and store in the new DataFrame\n",
    "df_encoded[en_col_name] = energy_access_data[col_name].fillna(0)\n",
    "print(df_encoded[en_col_name].head())\n"
   ]
  },
  {
   "cell_type": "markdown",
   "metadata": {},
   "source": [
    "# NO ELECTRICITY SUPPLY"
   ]
  },
  {
   "cell_type": "code",
   "execution_count": 76,
   "metadata": {},
   "outputs": [
    {
     "ename": "KeyError",
     "evalue": "'Section: No Electricity Access'",
     "output_type": "error",
     "traceback": [
      "\u001b[1;31m---------------------------------------------------------------------------\u001b[0m",
      "\u001b[1;31mKeyError\u001b[0m                                  Traceback (most recent call last)",
      "File \u001b[1;32mc:\\Users\\Vista\\AppData\\Local\\Programs\\Python\\Python312\\Lib\\site-packages\\pandas\\core\\indexes\\base.py:3805\u001b[0m, in \u001b[0;36mIndex.get_loc\u001b[1;34m(self, key)\u001b[0m\n\u001b[0;32m   3804\u001b[0m \u001b[39mtry\u001b[39;00m:\n\u001b[1;32m-> 3805\u001b[0m     \u001b[39mreturn\u001b[39;00m \u001b[39mself\u001b[39;49m\u001b[39m.\u001b[39;49m_engine\u001b[39m.\u001b[39;49mget_loc(casted_key)\n\u001b[0;32m   3806\u001b[0m \u001b[39mexcept\u001b[39;00m \u001b[39mKeyError\u001b[39;00m \u001b[39mas\u001b[39;00m err:\n",
      "File \u001b[1;32mindex.pyx:167\u001b[0m, in \u001b[0;36mpandas._libs.index.IndexEngine.get_loc\u001b[1;34m()\u001b[0m\n",
      "File \u001b[1;32mindex.pyx:196\u001b[0m, in \u001b[0;36mpandas._libs.index.IndexEngine.get_loc\u001b[1;34m()\u001b[0m\n",
      "File \u001b[1;32mpandas\\\\_libs\\\\hashtable_class_helper.pxi:7081\u001b[0m, in \u001b[0;36mpandas._libs.hashtable.PyObjectHashTable.get_item\u001b[1;34m()\u001b[0m\n",
      "File \u001b[1;32mpandas\\\\_libs\\\\hashtable_class_helper.pxi:7089\u001b[0m, in \u001b[0;36mpandas._libs.hashtable.PyObjectHashTable.get_item\u001b[1;34m()\u001b[0m\n",
      "\u001b[1;31mKeyError\u001b[0m: 'Section: No Electricity Access'",
      "\nThe above exception was the direct cause of the following exception:\n",
      "\u001b[1;31mKeyError\u001b[0m                                  Traceback (most recent call last)",
      "Cell \u001b[1;32mIn[76], line 5\u001b[0m\n\u001b[0;32m      2\u001b[0m en_col_name \u001b[38;5;241m=\u001b[39m \u001b[38;5;124m\"\u001b[39m\u001b[38;5;124mea_no_elect\u001b[39m\u001b[38;5;124m\"\u001b[39m\n\u001b[0;32m      4\u001b[0m \u001b[38;5;66;03m# Encode 'state' column and store in the new DataFrame\u001b[39;00m\n\u001b[1;32m----> 5\u001b[0m df_encoded[en_col_name] \u001b[38;5;241m=\u001b[39m \u001b[43menergy_access_data\u001b[49m\u001b[43m[\u001b[49m\u001b[43mcol_name\u001b[49m\u001b[43m]\u001b[49m\u001b[38;5;241m.\u001b[39mfillna(\u001b[38;5;241m0\u001b[39m)\n\u001b[0;32m      6\u001b[0m \u001b[38;5;28mprint\u001b[39m(df_encoded[en_col_name]\u001b[38;5;241m.\u001b[39mhead())\n",
      "File \u001b[1;32mc:\\Users\\Vista\\AppData\\Local\\Programs\\Python\\Python312\\Lib\\site-packages\\pandas\\core\\frame.py:4102\u001b[0m, in \u001b[0;36mDataFrame.__getitem__\u001b[1;34m(self, key)\u001b[0m\n\u001b[0;32m   4100\u001b[0m \u001b[39mif\u001b[39;00m \u001b[39mself\u001b[39m\u001b[39m.\u001b[39mcolumns\u001b[39m.\u001b[39mnlevels \u001b[39m>\u001b[39m \u001b[39m1\u001b[39m:\n\u001b[0;32m   4101\u001b[0m     \u001b[39mreturn\u001b[39;00m \u001b[39mself\u001b[39m\u001b[39m.\u001b[39m_getitem_multilevel(key)\n\u001b[1;32m-> 4102\u001b[0m indexer \u001b[39m=\u001b[39m \u001b[39mself\u001b[39;49m\u001b[39m.\u001b[39;49mcolumns\u001b[39m.\u001b[39;49mget_loc(key)\n\u001b[0;32m   4103\u001b[0m \u001b[39mif\u001b[39;00m is_integer(indexer):\n\u001b[0;32m   4104\u001b[0m     indexer \u001b[39m=\u001b[39m [indexer]\n",
      "File \u001b[1;32mc:\\Users\\Vista\\AppData\\Local\\Programs\\Python\\Python312\\Lib\\site-packages\\pandas\\core\\indexes\\base.py:3812\u001b[0m, in \u001b[0;36mIndex.get_loc\u001b[1;34m(self, key)\u001b[0m\n\u001b[0;32m   3807\u001b[0m     \u001b[39mif\u001b[39;00m \u001b[39misinstance\u001b[39m(casted_key, \u001b[39mslice\u001b[39m) \u001b[39mor\u001b[39;00m (\n\u001b[0;32m   3808\u001b[0m         \u001b[39misinstance\u001b[39m(casted_key, abc\u001b[39m.\u001b[39mIterable)\n\u001b[0;32m   3809\u001b[0m         \u001b[39mand\u001b[39;00m \u001b[39many\u001b[39m(\u001b[39misinstance\u001b[39m(x, \u001b[39mslice\u001b[39m) \u001b[39mfor\u001b[39;00m x \u001b[39min\u001b[39;00m casted_key)\n\u001b[0;32m   3810\u001b[0m     ):\n\u001b[0;32m   3811\u001b[0m         \u001b[39mraise\u001b[39;00m InvalidIndexError(key)\n\u001b[1;32m-> 3812\u001b[0m     \u001b[39mraise\u001b[39;00m \u001b[39mKeyError\u001b[39;00m(key) \u001b[39mfrom\u001b[39;00m \u001b[39merr\u001b[39;00m\n\u001b[0;32m   3813\u001b[0m \u001b[39mexcept\u001b[39;00m \u001b[39mTypeError\u001b[39;00m:\n\u001b[0;32m   3814\u001b[0m     \u001b[39m# If we have a listlike key, _check_indexing_error will raise\u001b[39;00m\n\u001b[0;32m   3815\u001b[0m     \u001b[39m#  InvalidIndexError. Otherwise we fall through and re-raise\u001b[39;00m\n\u001b[0;32m   3816\u001b[0m     \u001b[39m#  the TypeError.\u001b[39;00m\n\u001b[0;32m   3817\u001b[0m     \u001b[39mself\u001b[39m\u001b[39m.\u001b[39m_check_indexing_error(key)\n",
      "\u001b[1;31mKeyError\u001b[0m: 'Section: No Electricity Access'"
     ]
    }
   ],
   "source": [
    "col_name = \"Section: No Electricity Access\"\n",
    "en_col_name = \"ea_no_elect\"\n",
    "\n",
    "# Encode 'state' column and store in the new DataFrame\n",
    "df_encoded[en_col_name] = energy_access_data[col_name].fillna(0)\n",
    "print(df_encoded[en_col_name].head())\n"
   ]
  },
  {
   "cell_type": "code",
   "execution_count": 77,
   "metadata": {},
   "outputs": [
    {
     "name": "stdout",
     "output_type": "stream",
     "text": [
      "   ea_no_elect_1\n",
      "0              0\n",
      "1              1\n",
      "2              0\n",
      "3              0\n",
      "4              0\n"
     ]
    }
   ],
   "source": [
    "# Column names\n",
    "col_name = \"2Y. If no access to power, Why?\"\n",
    "en_col_name = \"ea_no_elect_1\"\n",
    "\n",
    "# Get unique values **excluding NaN**\n",
    "un_val = energy_access_data[col_name].dropna().unique().tolist()\n",
    "\n",
    "# Create encoding dictionary (starting from 1)\n",
    "un_val_encoding = {val: i+1 for i, val in enumerate(un_val)}  \n",
    "\n",
    "# Apply encoding, ensuring NaN stays 0\n",
    "energy_access_data[en_col_name] = energy_access_data[col_name].map(un_val_encoding).fillna(0).astype(int)\n",
    "\n",
    "# Print encoded column\n",
    "print(energy_access_data[[en_col_name]].head())"
   ]
  },
  {
   "cell_type": "code",
   "execution_count": 79,
   "metadata": {},
   "outputs": [
    {
     "name": "stdout",
     "output_type": "stream",
     "text": [
      "0    0\n",
      "1    0\n",
      "2    0\n",
      "3    0\n",
      "4    0\n",
      "Name: ea_no_elect_2, dtype: object\n"
     ]
    }
   ],
   "source": [
    "col_name = \"2Y(i). Others Please Specify\"\n",
    "en_col_name = \"ea_no_elect_2\"\n",
    "\n",
    "# Encode 'state' column and store in the new DataFrame\n",
    "df_encoded[en_col_name] = energy_access_data[col_name].fillna(0)\n",
    "print(df_encoded[en_col_name].head())\n"
   ]
  },
  {
   "cell_type": "code",
   "execution_count": 80,
   "metadata": {},
   "outputs": [
    {
     "name": "stdout",
     "output_type": "stream",
     "text": [
      "   ea_no_elect_3\n",
      "0              0\n",
      "1              1\n",
      "2              0\n",
      "3              0\n",
      "4              0\n"
     ]
    }
   ],
   "source": [
    "# Column names\n",
    "col_name = \"2AA. If no access to power, Do you have mobile phone or any electrical appliances?\"\n",
    "en_col_name = \"ea_no_elect_3\"\n",
    "\n",
    "# Get unique values **excluding NaN**\n",
    "un_val = energy_access_data[col_name].dropna().unique().tolist()\n",
    "\n",
    "# Create encoding dictionary (starting from 1)\n",
    "un_val_encoding = {val: i+1 for i, val in enumerate(un_val)}  \n",
    "\n",
    "# Apply encoding, ensuring NaN stays 0\n",
    "energy_access_data[en_col_name] = energy_access_data[col_name].map(un_val_encoding).fillna(0).astype(int)\n",
    "\n",
    "# Print encoded column\n",
    "print(energy_access_data[[en_col_name]].head())"
   ]
  },
  {
   "cell_type": "code",
   "execution_count": 81,
   "metadata": {},
   "outputs": [
    {
     "name": "stdout",
     "output_type": "stream",
     "text": [
      "   ea_no_elect_4\n",
      "0              0\n",
      "1              1\n",
      "2              0\n",
      "3              0\n",
      "4              0\n"
     ]
    }
   ],
   "source": [
    "# Column names\n",
    "col_name = \"2AB. If yes to 2AA, How do you charge or power the appliance?\"\n",
    "en_col_name = \"ea_no_elect_4\"\n",
    "\n",
    "# Get unique values **excluding NaN**\n",
    "un_val = energy_access_data[col_name].dropna().unique().tolist()\n",
    "\n",
    "# Create encoding dictionary (starting from 1)\n",
    "un_val_encoding = {val: i+1 for i, val in enumerate(un_val)}  \n",
    "\n",
    "# Apply encoding, ensuring NaN stays 0\n",
    "energy_access_data[en_col_name] = energy_access_data[col_name].map(un_val_encoding).fillna(0).astype(int)\n",
    "\n",
    "# Print encoded column\n",
    "print(energy_access_data[[en_col_name]].head())"
   ]
  },
  {
   "cell_type": "code",
   "execution_count": 82,
   "metadata": {},
   "outputs": [
    {
     "name": "stdout",
     "output_type": "stream",
     "text": [
      "0    0\n",
      "1    0\n",
      "2    0\n",
      "3    0\n",
      "4    0\n",
      "Name: ea_no_elect_5, dtype: object\n"
     ]
    }
   ],
   "source": [
    "col_name = \"2AB(ii).Other Please Specify\"\n",
    "en_col_name = \"ea_no_elect_5\"\n",
    "\n",
    "# Encode 'state' column and store in the new DataFrame\n",
    "df_encoded[en_col_name] = energy_access_data[col_name].fillna(0)\n",
    "print(df_encoded[en_col_name].head())\n"
   ]
  },
  {
   "cell_type": "code",
   "execution_count": 83,
   "metadata": {},
   "outputs": [
    {
     "name": "stdout",
     "output_type": "stream",
     "text": [
      "   ea_no_elect_6\n",
      "0              0\n",
      "1              1\n",
      "2              0\n",
      "3              0\n",
      "4              0\n"
     ]
    }
   ],
   "source": [
    "# Column names\n",
    "col_name = \"2AB(i). How long do you travel to power/charge the appliances\"\n",
    "en_col_name = \"ea_no_elect_6\"\n",
    "\n",
    "# Get unique values **excluding NaN**\n",
    "un_val = energy_access_data[col_name].dropna().unique().tolist()\n",
    "\n",
    "# Create encoding dictionary (starting from 1)\n",
    "un_val_encoding = {val: i+1 for i, val in enumerate(un_val)}  \n",
    "\n",
    "# Apply encoding, ensuring NaN stays 0\n",
    "energy_access_data[en_col_name] = energy_access_data[col_name].map(un_val_encoding).fillna(0).astype(int)\n",
    "\n",
    "# Print encoded column\n",
    "print(energy_access_data[[en_col_name]].head())"
   ]
  },
  {
   "cell_type": "code",
   "execution_count": 84,
   "metadata": {},
   "outputs": [
    {
     "name": "stdout",
     "output_type": "stream",
     "text": [
      "Encoding Dictionary: {'Generator': 1, 'Grid': 2, 'Mini-Grid': 3, 'Others': 4, 'Others, Please specify': 5, 'Solar home system': 6, 'True': 7}\n",
      "  ea_no_elect_7\n",
      "0             0\n",
      "1             1\n",
      "2             0\n",
      "3             0\n",
      "4             0\n"
     ]
    }
   ],
   "source": [
    "# Column names\n",
    "col_name = \"2AC(i). What is the source of electricity at the location you power the appliance?\"\n",
    "en_col_name = \"ea_no_elect_7\"\n",
    "\n",
    "# Extract unique challenges, handling \"Others, Please Specify\" as a single entity\n",
    "all_challenges = set()\n",
    "\n",
    "for row in energy_access_data[col_name].dropna():\n",
    "    challenges = row.split(\" , \")  # Split by \", \" while keeping full words\n",
    "    all_challenges.update(challenges)\n",
    "\n",
    "# Create encoding dictionary (starting from 1)\n",
    "challenge_encoding = {challenge: i+1 for i, challenge in enumerate(sorted(all_challenges))}\n",
    "print(\"Encoding Dictionary:\", challenge_encoding)  # Debugging: Print the mapping\n",
    "\n",
    "# Function to encode each row\n",
    "def encode_challenges(challenges):\n",
    "    if pd.isna(challenges):  # Handle missing values\n",
    "        return \"0\"\n",
    "    challenge_list = challenges.split(\" , \")  # Split while keeping whole words\n",
    "    encoded_values = [str(challenge_encoding[ch]) for ch in challenge_list if ch in challenge_encoding]\n",
    "    return \", \".join(encoded_values)  # Store as comma-separated values\n",
    "\n",
    "# Apply encoding function\n",
    "energy_access_data[en_col_name] = energy_access_data[col_name].apply(encode_challenges)\n",
    "\n",
    "# Print the result\n",
    "print(energy_access_data[[en_col_name]].head())"
   ]
  },
  {
   "cell_type": "code",
   "execution_count": 85,
   "metadata": {},
   "outputs": [
    {
     "name": "stdout",
     "output_type": "stream",
     "text": [
      "   ea_no_elect_8\n",
      "0              0\n",
      "1              1\n",
      "2              0\n",
      "3              0\n",
      "4              0\n"
     ]
    }
   ],
   "source": [
    "# Column names\n",
    "col_name = \"2AD. What lightening do you use at night\"\n",
    "en_col_name = \"ea_no_elect_8\"\n",
    "\n",
    "# Get unique values **excluding NaN**\n",
    "un_val = energy_access_data[col_name].dropna().unique().tolist()\n",
    "\n",
    "# Create encoding dictionary (starting from 1)\n",
    "un_val_encoding = {val: i+1 for i, val in enumerate(un_val)}  \n",
    "\n",
    "# Apply encoding, ensuring NaN stays 0\n",
    "energy_access_data[en_col_name] = energy_access_data[col_name].map(un_val_encoding).fillna(0).astype(int)\n",
    "\n",
    "# Print encoded column\n",
    "print(energy_access_data[[en_col_name]].head())"
   ]
  },
  {
   "cell_type": "code",
   "execution_count": 86,
   "metadata": {},
   "outputs": [
    {
     "name": "stdout",
     "output_type": "stream",
     "text": [
      "0    0\n",
      "1    0\n",
      "2    0\n",
      "3    0\n",
      "4    0\n",
      "Name: ea_no_elect_9, dtype: object\n"
     ]
    }
   ],
   "source": [
    "col_name = \"2AD(i). Other Please Specify\"\n",
    "en_col_name = \"ea_no_elect_9\"\n",
    "\n",
    "# Encode 'state' column and store in the new DataFrame\n",
    "df_encoded[en_col_name] = energy_access_data[col_name].fillna(0)\n",
    "print(df_encoded[en_col_name].head())"
   ]
  },
  {
   "cell_type": "code",
   "execution_count": 87,
   "metadata": {},
   "outputs": [
    {
     "name": "stdout",
     "output_type": "stream",
     "text": [
      "   ea_no_elect_10\n",
      "0               0\n",
      "1               1\n",
      "2               0\n",
      "3               0\n",
      "4               0\n"
     ]
    }
   ],
   "source": [
    "# Column names\n",
    "col_name = \"2AE. Do you need electricity in your household\"\n",
    "en_col_name = \"ea_no_elect_10\"\n",
    "\n",
    "# Get unique values **excluding NaN**\n",
    "un_val = energy_access_data[col_name].dropna().unique().tolist()\n",
    "\n",
    "# Create encoding dictionary (starting from 1)\n",
    "un_val_encoding = {val: i+1 for i, val in enumerate(un_val)}  \n",
    "\n",
    "# Apply encoding, ensuring NaN stays 0\n",
    "energy_access_data[en_col_name] = energy_access_data[col_name].map(un_val_encoding).fillna(0).astype(int)\n",
    "\n",
    "# Print encoded column\n",
    "print(energy_access_data[[en_col_name]].head())"
   ]
  },
  {
   "cell_type": "code",
   "execution_count": 88,
   "metadata": {},
   "outputs": [
    {
     "name": "stdout",
     "output_type": "stream",
     "text": [
      "   ea_no_elect_11\n",
      "0               0\n",
      "1               1\n",
      "2               0\n",
      "3               0\n",
      "4               0\n"
     ]
    }
   ],
   "source": [
    "# Column names\n",
    "col_name = \"2AE(i). How much are you willing to pay monthly if you were to have 24 hours power supply?\"\n",
    "en_col_name = \"ea_no_elect_11\"\n",
    "\n",
    "# Get unique values **excluding NaN**\n",
    "un_val = energy_access_data[col_name].dropna().unique().tolist()\n",
    "\n",
    "# Create encoding dictionary (starting from 1)\n",
    "un_val_encoding = {val: i+1 for i, val in enumerate(un_val)}  \n",
    "\n",
    "# Apply encoding, ensuring NaN stays 0\n",
    "energy_access_data[en_col_name] = energy_access_data[col_name].map(un_val_encoding).fillna(0).astype(int)\n",
    "\n",
    "# Print encoded column\n",
    "print(energy_access_data[[en_col_name]].head())"
   ]
  },
  {
   "cell_type": "markdown",
   "metadata": {},
   "source": [
    "# AFFORDABILITY"
   ]
  },
  {
   "cell_type": "code",
   "execution_count": 89,
   "metadata": {},
   "outputs": [
    {
     "name": "stdout",
     "output_type": "stream",
     "text": [
      "0    0\n",
      "1    0\n",
      "2    0\n",
      "3    0\n",
      "4    0\n",
      "Name: ea_afford_section, dtype: int64\n"
     ]
    },
    {
     "name": "stderr",
     "output_type": "stream",
     "text": [
      "C:\\Users\\Vista\\AppData\\Local\\Temp\\ipykernel_42064\\3271956174.py:5: FutureWarning: Downcasting object dtype arrays on .fillna, .ffill, .bfill is deprecated and will change in a future version. Call result.infer_objects(copy=False) instead. To opt-in to the future behavior, set `pd.set_option('future.no_silent_downcasting', True)`\n",
      "  df_encoded[en_col_name] = energy_access_data[col_name].fillna(0)\n"
     ]
    }
   ],
   "source": [
    "col_name = \"SECTION 5: AFFORDABILITY AND BILLING\"\n",
    "en_col_name = \"ea_afford_section\"\n",
    "\n",
    "# Encode 'state' column and store in the new DataFrame\n",
    "df_encoded[en_col_name] = energy_access_data[col_name].fillna(0)\n",
    "print(df_encoded[en_col_name].head())"
   ]
  },
  {
   "cell_type": "code",
   "execution_count": 90,
   "metadata": {},
   "outputs": [
    {
     "name": "stdout",
     "output_type": "stream",
     "text": [
      "   ea_afford_1\n",
      "0            1\n",
      "1            0\n",
      "2            2\n",
      "3            3\n",
      "4            3\n"
     ]
    }
   ],
   "source": [
    "# Column names\n",
    "col_name = \"5D. Are you metered?\"\n",
    "en_col_name = \"ea_afford_1\"\n",
    "\n",
    "# Get unique values **excluding NaN**\n",
    "un_val = energy_access_data[col_name].dropna().unique().tolist()\n",
    "\n",
    "# Create encoding dictionary (starting from 1)\n",
    "un_val_encoding = {val: i+1 for i, val in enumerate(un_val)}  \n",
    "\n",
    "# Apply encoding, ensuring NaN stays 0\n",
    "energy_access_data[en_col_name] = energy_access_data[col_name].map(un_val_encoding).fillna(0).astype(int)\n",
    "\n",
    "# Print encoded column\n",
    "print(energy_access_data[[en_col_name]].head())"
   ]
  },
  {
   "cell_type": "code",
   "execution_count": 91,
   "metadata": {},
   "outputs": [
    {
     "name": "stdout",
     "output_type": "stream",
     "text": [
      "   ea_afford_2\n",
      "0            0\n",
      "1            0\n",
      "2            0\n",
      "3            1\n",
      "4            1\n"
     ]
    }
   ],
   "source": [
    "# Column names\n",
    "col_name = \"5E. If not metered, How do you pay for electricity?\"\n",
    "en_col_name = \"ea_afford_2\"\n",
    "\n",
    "# Get unique values **excluding NaN**\n",
    "un_val = energy_access_data[col_name].dropna().unique().tolist()\n",
    "\n",
    "# Create encoding dictionary (starting from 1)\n",
    "un_val_encoding = {val: i+1 for i, val in enumerate(un_val)}  \n",
    "\n",
    "# Apply encoding, ensuring NaN stays 0\n",
    "energy_access_data[en_col_name] = energy_access_data[col_name].map(un_val_encoding).fillna(0).astype(int)\n",
    "\n",
    "# Print encoded column\n",
    "print(energy_access_data[[en_col_name]].head())"
   ]
  },
  {
   "cell_type": "code",
   "execution_count": 92,
   "metadata": {},
   "outputs": [
    {
     "name": "stdout",
     "output_type": "stream",
     "text": [
      "   ea_afford_3\n",
      "0            1\n",
      "1            0\n",
      "2            1\n",
      "3            1\n",
      "4            1\n"
     ]
    }
   ],
   "source": [
    "# Column names\n",
    "col_name = \"5I. On an estimate, What percentage of your total monthly expenses is spent on electricity?\"\n",
    "en_col_name = \"ea_afford_3\"\n",
    "\n",
    "# Get unique values **excluding NaN**\n",
    "un_val = energy_access_data[col_name].dropna().unique().tolist()\n",
    "\n",
    "# Create encoding dictionary (starting from 1)\n",
    "un_val_encoding = {val: i+1 for i, val in enumerate(un_val)}  \n",
    "\n",
    "# Apply encoding, ensuring NaN stays 0\n",
    "energy_access_data[en_col_name] = energy_access_data[col_name].map(un_val_encoding).fillna(0).astype(int)\n",
    "\n",
    "# Print encoded column\n",
    "print(energy_access_data[[en_col_name]].head())"
   ]
  },
  {
   "cell_type": "markdown",
   "metadata": {},
   "source": [
    "# SOCIO ECONOMIC"
   ]
  },
  {
   "cell_type": "code",
   "execution_count": null,
   "metadata": {},
   "outputs": [],
   "source": [
    "col_name = \"SECTION 6: SOCIO-ECONOMICS\"\n",
    "en_col_name = \"ea_soc_eco_section\"\n",
    "\n",
    "# Encode 'state' column and store in the new DataFrame\n",
    "df_encoded[en_col_name] = energy_access_data[col_name].fillna(0)\n",
    "print(df_encoded[en_col_name].head())"
   ]
  },
  {
   "cell_type": "code",
   "execution_count": 94,
   "metadata": {},
   "outputs": [
    {
     "name": "stdout",
     "output_type": "stream",
     "text": [
      "   ea_soc_eco_1\n",
      "0             1\n",
      "1             0\n",
      "2             2\n",
      "3             1\n",
      "4             2\n"
     ]
    }
   ],
   "source": [
    "# Column names\n",
    "col_name = \"6A. Has access to electricity improved your household income or living conditions? (Yes/No)\"\n",
    "en_col_name = \"ea_soc_eco_1\"\n",
    "\n",
    "# Get unique values **excluding NaN**\n",
    "un_val = energy_access_data[col_name].dropna().unique().tolist()\n",
    "\n",
    "# Create encoding dictionary (starting from 1)\n",
    "un_val_encoding = {val: i+1 for i, val in enumerate(un_val)}  \n",
    "\n",
    "# Apply encoding, ensuring NaN stays 0\n",
    "energy_access_data[en_col_name] = energy_access_data[col_name].map(un_val_encoding).fillna(0).astype(int)\n",
    "\n",
    "# Print encoded column\n",
    "print(energy_access_data[[en_col_name]].head())"
   ]
  },
  {
   "cell_type": "code",
   "execution_count": 95,
   "metadata": {},
   "outputs": [
    {
     "name": "stdout",
     "output_type": "stream",
     "text": [
      "   ea_soc_eco_2\n",
      "0             1\n",
      "1             0\n",
      "2             1\n",
      "3             1\n",
      "4             1\n"
     ]
    }
   ],
   "source": [
    "# Column names\n",
    "col_name = \"6B. Have you or anyone in your household experienced an incident caused by an electricity connection (e.g., shock, fire)?\"\n",
    "en_col_name = \"ea_soc_eco_2\"\n",
    "\n",
    "# Get unique values **excluding NaN**\n",
    "un_val = energy_access_data[col_name].dropna().unique().tolist()\n",
    "\n",
    "# Create encoding dictionary (starting from 1)\n",
    "un_val_encoding = {val: i+1 for i, val in enumerate(un_val)}  \n",
    "\n",
    "# Apply encoding, ensuring NaN stays 0\n",
    "energy_access_data[en_col_name] = energy_access_data[col_name].map(un_val_encoding).fillna(0).astype(int)\n",
    "\n",
    "# Print encoded column\n",
    "print(energy_access_data[[en_col_name]].head())"
   ]
  },
  {
   "cell_type": "code",
   "execution_count": 96,
   "metadata": {},
   "outputs": [
    {
     "name": "stdout",
     "output_type": "stream",
     "text": [
      "   ea_soc_eco_3\n",
      "0             0\n",
      "1             0\n",
      "2             0\n",
      "3             0\n",
      "4             0\n"
     ]
    }
   ],
   "source": [
    "# Column names\n",
    "col_name = \"6B(i). If yes, What sort of incident'?\"\n",
    "en_col_name = \"ea_soc_eco_3\"\n",
    "\n",
    "# Get unique values **excluding NaN**\n",
    "un_val = energy_access_data[col_name].dropna().unique().tolist()\n",
    "\n",
    "# Create encoding dictionary (starting from 1)\n",
    "un_val_encoding = {val: i+1 for i, val in enumerate(un_val)}  \n",
    "\n",
    "# Apply encoding, ensuring NaN stays 0\n",
    "energy_access_data[en_col_name] = energy_access_data[col_name].map(un_val_encoding).fillna(0).astype(int)\n",
    "\n",
    "# Print encoded column\n",
    "print(energy_access_data[[en_col_name]].head())"
   ]
  },
  {
   "cell_type": "markdown",
   "metadata": {},
   "source": [
    "# ENERGY TRANSITION"
   ]
  },
  {
   "cell_type": "code",
   "execution_count": 97,
   "metadata": {},
   "outputs": [
    {
     "name": "stdout",
     "output_type": "stream",
     "text": [
      "0    0\n",
      "1    0\n",
      "2    0\n",
      "3    0\n",
      "4    0\n",
      "Name: ea_en_awr_section, dtype: int64\n"
     ]
    },
    {
     "name": "stderr",
     "output_type": "stream",
     "text": [
      "C:\\Users\\Vista\\AppData\\Local\\Temp\\ipykernel_42064\\2952031324.py:5: FutureWarning: Downcasting object dtype arrays on .fillna, .ffill, .bfill is deprecated and will change in a future version. Call result.infer_objects(copy=False) instead. To opt-in to the future behavior, set `pd.set_option('future.no_silent_downcasting', True)`\n",
      "  df_encoded[en_col_name] = energy_access_data[col_name].fillna(0)\n"
     ]
    }
   ],
   "source": [
    "col_name = \"SECTION 7: ENERGY TRANSITION AWARENESS\"\n",
    "en_col_name = \"ea_en_awr_section\"\n",
    "\n",
    "# Encode 'state' column and store in the new DataFrame\n",
    "df_encoded[en_col_name] = energy_access_data[col_name].fillna(0)\n",
    "print(df_encoded[en_col_name].head())"
   ]
  },
  {
   "cell_type": "code",
   "execution_count": 98,
   "metadata": {},
   "outputs": [
    {
     "name": "stdout",
     "output_type": "stream",
     "text": [
      "   ea_en_awr_1\n",
      "0            1\n",
      "1            1\n",
      "2            1\n",
      "3            1\n",
      "4            1\n"
     ]
    }
   ],
   "source": [
    "# Column names\n",
    "col_name = \"7A. Are you aware of renewable energy solutions like solar power?\"\n",
    "en_col_name = \"ea_en_awr_1\"\n",
    "\n",
    "# Get unique values **excluding NaN**\n",
    "un_val = energy_access_data[col_name].dropna().unique().tolist()\n",
    "\n",
    "# Create encoding dictionary (starting from 1)\n",
    "un_val_encoding = {val: i+1 for i, val in enumerate(un_val)}  \n",
    "\n",
    "# Apply encoding, ensuring NaN stays 0\n",
    "energy_access_data[en_col_name] = energy_access_data[col_name].map(un_val_encoding).fillna(0).astype(int)\n",
    "\n",
    "# Print encoded column\n",
    "print(energy_access_data[[en_col_name]].head())"
   ]
  },
  {
   "cell_type": "code",
   "execution_count": 99,
   "metadata": {},
   "outputs": [
    {
     "name": "stdout",
     "output_type": "stream",
     "text": [
      "   ea_en_awr_2\n",
      "0            1\n",
      "1            1\n",
      "2            1\n",
      "3            1\n",
      "4            1\n"
     ]
    }
   ],
   "source": [
    "# Column names\n",
    "col_name = \"7B. Would you consider switching to renewable energy if it were affordable?\"\n",
    "en_col_name = \"ea_en_awr_2\"\n",
    "\n",
    "# Get unique values **excluding NaN**\n",
    "un_val = energy_access_data[col_name].dropna().unique().tolist()\n",
    "\n",
    "# Create encoding dictionary (starting from 1)\n",
    "un_val_encoding = {val: i+1 for i, val in enumerate(un_val)}  \n",
    "\n",
    "# Apply encoding, ensuring NaN stays 0\n",
    "energy_access_data[en_col_name] = energy_access_data[col_name].map(un_val_encoding).fillna(0).astype(int)\n",
    "\n",
    "# Print encoded column\n",
    "print(energy_access_data[[en_col_name]].head())"
   ]
  },
  {
   "cell_type": "code",
   "execution_count": 100,
   "metadata": {},
   "outputs": [
    {
     "name": "stdout",
     "output_type": "stream",
     "text": [
      "   ea_en_awr_3\n",
      "0            1\n",
      "1            1\n",
      "2            1\n",
      "3            2\n",
      "4            1\n"
     ]
    }
   ],
   "source": [
    "# Column names\n",
    "col_name = \"7C. What kind of ownership model would you consider?\"\n",
    "en_col_name = \"ea_en_awr_3\"\n",
    "\n",
    "# Get unique values **excluding NaN**\n",
    "un_val = energy_access_data[col_name].dropna().unique().tolist()\n",
    "\n",
    "# Create encoding dictionary (starting from 1)\n",
    "un_val_encoding = {val: i+1 for i, val in enumerate(un_val)}  \n",
    "\n",
    "# Apply encoding, ensuring NaN stays 0\n",
    "energy_access_data[en_col_name] = energy_access_data[col_name].map(un_val_encoding).fillna(0).astype(int)\n",
    "\n",
    "# Print encoded column\n",
    "print(energy_access_data[[en_col_name]].head())"
   ]
  },
  {
   "cell_type": "markdown",
   "metadata": {},
   "source": [
    "# COMMENTS"
   ]
  },
  {
   "cell_type": "code",
   "execution_count": 101,
   "metadata": {},
   "outputs": [
    {
     "name": "stdout",
     "output_type": "stream",
     "text": [
      "0    Electricity supply should be steady and afford...\n",
      "1    Electricity supply is not available in this lo...\n",
      "2    The government should do better in electricity...\n",
      "3                                                  Bad\n",
      "4    They should try to give constant light, not gi...\n",
      "Name: ea_remark, dtype: object\n"
     ]
    }
   ],
   "source": [
    "col_name = \"Any Comment/Remarks On Electricity Supply\"\n",
    "en_col_name = \"ea_remark\"\n",
    "\n",
    "# Encode 'state' column and store in the new DataFrame\n",
    "df_encoded[en_col_name] = energy_access_data[col_name].fillna(0)\n",
    "print(df_encoded[en_col_name].head())"
   ]
  },
  {
   "cell_type": "markdown",
   "metadata": {},
   "source": [
    "# encode Column Names"
   ]
  },
  {
   "cell_type": "code",
   "execution_count": 106,
   "metadata": {},
   "outputs": [
    {
     "name": "stdout",
     "output_type": "stream",
     "text": [
      "Encoded data successfully saved to encoded_data.xlsx\n"
     ]
    }
   ],
   "source": [
    "ea_col_names = pd.DataFrame(energy_access_data.columns)\n",
    "\n",
    "# Define the output file path\n",
    "output_file = \"../../NESIP_FIELD_DATA/encoding/ea_col_names.xlsx\"\n",
    "\n",
    "# Save DataFrame to an Excel file\n",
    "ea_col_names.to_excel(output_file, index=False)\n",
    "\n",
    "print(f\"Encoded data successfully saved to {output_file}\")\n"
   ]
  },
  {
   "cell_type": "code",
   "execution_count": null,
   "metadata": {},
   "outputs": [],
   "source": [
    "encoded_data = pd.DataFrame(df_encoded)\n",
    "\n",
    "# Define the output file path\n",
    "output_file = \"../../NESIP_FIELD_DATA/encoding/encoded_data.xlsx\"\n",
    "\n",
    "# Save DataFrame to an Excel file\n",
    "encoded_data.to_excel(output_file, index=False)\n",
    "\n",
    "print(f\"Encoded data successfully saved to {output_file}\")\n"
   ]
  },
  {
   "cell_type": "code",
   "execution_count": null,
   "metadata": {},
   "outputs": [],
   "source": [
    "encoded_column_names = pd.DataFrame(df_encoded.columns)\n",
    "\n",
    "# Define the output file path\n",
    "output_file = \"../../NESIP_FIELD_DATA/encoding/encoded_col_names.xlsx\"\n",
    "\n",
    "# Save DataFrame to an Excel file\n",
    "encoded_column_names.to_excel(output_file, index=False)\n",
    "\n",
    "print(f\"Encoded data successfully saved to {output_file}\")\n"
   ]
  }
 ],
 "metadata": {
  "kernelspec": {
   "display_name": "Python 3.12.4 64-bit",
   "language": "python",
   "name": "python3"
  },
  "language_info": {
   "codemirror_mode": {
    "name": "ipython",
    "version": 3
   },
   "file_extension": ".py",
   "mimetype": "text/x-python",
   "name": "python",
   "nbconvert_exporter": "python",
   "pygments_lexer": "ipython3",
   "version": "3.12.4"
  },
  "orig_nbformat": 4,
  "vscode": {
   "interpreter": {
    "hash": "a940ce198f1cec256b3c1d63fb015ac77894c8c2a48fdeb7eec9bef16754d937"
   }
  }
 },
 "nbformat": 4,
 "nbformat_minor": 2
}
